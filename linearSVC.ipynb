{
 "cells": [
  {
   "cell_type": "markdown",
   "metadata": {},
   "source": [
    "# Import Libraries"
   ]
  },
  {
   "cell_type": "code",
   "execution_count": 12,
   "metadata": {},
   "outputs": [],
   "source": [
    "import numpy as np\n",
    "import pandas as pd\n",
    "import itertools\n",
    "import matplotlib.pyplot as plt\n",
    "import warnings\n",
    "from sklearn.exceptions import ConvergenceWarning\n",
    "from sklearn.metrics import confusion_matrix\n",
    "from datetime import datetime\n",
    "\n",
    "from sklearn import linear_model\n",
    "from sklearn import metrics\n",
    "\n",
    "from sklearn.model_selection import GridSearchCV\n",
    "from sklearn.svm import LinearSVC\n",
    "from sklearn.svm import SVC\n",
    "\n",
    "### Preprocessing\n",
    "from sklearn import preprocessing as sklpp\n",
    "from sklearn import decomposition as skldecomp \n",
    "###\n",
    "\n",
    "import seaborn as sns"
   ]
  },
  {
   "cell_type": "markdown",
   "metadata": {},
   "source": [
    "# Fetching and Processing Data"
   ]
  },
  {
   "cell_type": "code",
   "execution_count": 13,
   "metadata": {},
   "outputs": [],
   "source": [
    "# Load Features\n",
    "features_filepath = 'data/UCI HAR Dataset/features.txt'\n",
    "with open(features_filepath) as features_file:\n",
    "    feature_names = [line.split()[1] for line in features_file.readlines()]\n",
    "\n",
    "# Load Training Data\n",
    "train_data_filepath = 'data/UCI HAR Dataset/train/'\n",
    "X_train_filepath = f'{train_data_filepath}X_train.txt'\n",
    "y_train_filepath = f'{train_data_filepath}y_train.txt'\n",
    "\n",
    "X_train = pd.read_csv(X_train_filepath, delim_whitespace=True, header=None)\n",
    "X_train.columns = feature_names\n",
    "\n",
    "y_train = pd.read_csv(y_train_filepath, names=['Activity']).iloc[:, 0]\n",
    "\n",
    "# Load Testing Data\n",
    "test_data_filepath = 'data/UCI HAR Dataset/test/'\n",
    "X_test_filepath = f'{test_data_filepath}X_test.txt'\n",
    "y_test_filepath = f'{test_data_filepath}y_test.txt'\n",
    "\n",
    "X_test = pd.read_csv(X_test_filepath, delim_whitespace=True, header=None)\n",
    "X_test.columns = feature_names\n",
    "\n",
    "y_test = pd.read_csv(y_test_filepath, names=['Activity']).iloc[:, 0]\n",
    "\n",
    "### For Singular Modality Analysis Comparision ###\n",
    "selected_columns = ['tBodyAcc-mean()-X', 'tBodyAcc-mean()-Y', 'tBodyAcc-mean()-Z']\n",
    "X_train_subset = X_train[selected_columns]\n",
    "X_test_subset = X_test[selected_columns]"
   ]
  },
  {
   "cell_type": "markdown",
   "metadata": {},
   "source": [
    "# PCA"
   ]
  },
  {
   "cell_type": "code",
   "execution_count": 14,
   "metadata": {},
   "outputs": [],
   "source": [
    "##Convert To Numpy\n",
    "X_train = X_train.to_numpy()\n",
    "X_test = X_test.to_numpy()\n",
    "\n",
    "#Subset of data\n",
    "X_train_subset = X_train_subset.to_numpy()\n",
    "X_test_subset = X_test_subset.to_numpy()\n",
    "\n",
    "y_train = y_train.to_numpy()\n",
    "y_test = y_test.to_numpy()\n",
    "\n",
    "# create an instance of the StandardScaler() object\n",
    "mean_datascaler_1 = sklpp.StandardScaler(with_mean=True, with_std=False)\n",
    "skl_centered_X_1 = mean_datascaler_1.fit_transform(X_train) # use the fit_transform API to simultaneously compute mean and center data\n",
    "u1 = mean_datascaler_1.mean_.reshape((1, -1)) #Empirical Mean Vector\n",
    "\n",
    "# create another instance of the StandardScaler() object\n",
    "mean_datascaler_2 = sklpp.StandardScaler(with_mean = True, with_std = False)\n",
    "skl_centered_X_subset = mean_datascaler_2.fit_transform(X_train_subset)\n",
    "u2 = mean_datascaler_2.mean_.reshape((1, -1)) #Empirical Mean Vector\n",
    "\n",
    "#Center Data\n",
    "X_train_centered = X_train - u1\n",
    "X_train_subset_centered = X_train_subset - u2\n",
    "\n",
    "# create an instance of the PCA() object\n",
    "data_pca1 = skldecomp.PCA(n_components = 0.99, svd_solver= 'full')\n",
    "data_pca2 = skldecomp.PCA(n_components = 0.99, svd_solver= 'full')\n",
    "\n",
    "# use fit_transform API to simultaneously compute PCA features & directions\n",
    "skl_features_training = data_pca1.fit_transform(X_train_centered)\n",
    "sk2_features_training = data_pca2.fit_transform(X_train_subset_centered)\n",
    "\n",
    "#Center Test Data \n",
    "X_test_centered = X_test - u1\n",
    "X_test_subset_centered = X_test_subset - u2\n",
    "\n",
    "#### Set up X_train and X_test\n",
    "X_train = skl_features_training\n",
    "X_train_subset = sk2_features_training\n",
    "\n",
    "X_test = data_pca1.transform(X_test_centered)\n",
    "X_test_subset = data_pca2.transform(X_test_subset_centered)"
   ]
  },
  {
   "cell_type": "markdown",
   "metadata": {},
   "source": [
    "# Set Up Grid Search And SVC Model"
   ]
  },
  {
   "cell_type": "code",
   "execution_count": 15,
   "metadata": {},
   "outputs": [],
   "source": [
    "# Define hyperparameters grid\n",
    "param_grid = {'C':[0.125, 0.5, 1, 2, 8, 16]}\n",
    "\n",
    "# Create a Linear SVC model\n",
    "linear_svc_model = LinearSVC(tol=0.00005)\n",
    "linear_svc_sig_model = LinearSVC(tol=0.00005)\n",
    "\n",
    "# Set up GridSearchCV\n",
    "lin_svc_grid_search = GridSearchCV(linear_svc_model, param_grid=param_grid, n_jobs=-1, verbose=1)\n",
    "lin_svc_grid_search_sig = GridSearchCV(linear_svc_sig_model, param_grid=param_grid, n_jobs=-1, verbose=1)"
   ]
  },
  {
   "cell_type": "markdown",
   "metadata": {},
   "source": [
    "# Train SVC Model"
   ]
  },
  {
   "cell_type": "code",
   "execution_count": 16,
   "metadata": {},
   "outputs": [
    {
     "name": "stdout",
     "output_type": "stream",
     "text": [
      "Model Training has Started!\n",
      "Model Training Done!\n",
      "\n",
      "Training Time: 0:00:01.246698\n",
      "\n"
     ]
    }
   ],
   "source": [
    "# Dictionary to store results\n",
    "results_dict = {}\n",
    "\n",
    "# Ignore warnings\n",
    "warnings.filterwarnings(\"ignore\")\n",
    "warnings.simplefilter(action='ignore', category=ConvergenceWarning)\n",
    "\n",
    "# Record the start time for training\n",
    "training_start_time = datetime.now()\n",
    "print('Model Training has Started!')\n",
    "\n",
    "# Fit the linear svc model\n",
    "linear_svc_model.fit(X_train, y_train)\n",
    "linear_svc_sig_model.fit(X_train_subset, y_train)\n",
    "\n",
    "# Print a message indicating the end of training\n",
    "print('Model Training Done!\\n')\n",
    "\n",
    "# Record the end time for training\n",
    "training_end_time = datetime.now()\n",
    "\n",
    "# Calculate and store the training time\n",
    "results_dict['training_time'] = training_end_time - training_start_time\n",
    "print('Training Time: {}\\n'.format(results_dict['training_time']))"
   ]
  },
  {
   "cell_type": "markdown",
   "metadata": {},
   "source": [
    "# Predicting Test Data"
   ]
  },
  {
   "cell_type": "code",
   "execution_count": 17,
   "metadata": {},
   "outputs": [
    {
     "name": "stdout",
     "output_type": "stream",
     "text": [
      "Predicting Test data\n",
      "Predictions Done!\n",
      "\n",
      "Testing Time: 0:00:00.003391\n",
      "\n"
     ]
    }
   ],
   "source": [
    "# Print a message indicating the start of the prediction on test data\n",
    "print('Predicting Test data')\n",
    "\n",
    "# Record the start time for testing\n",
    "testing_start_time = datetime.now()\n",
    "\n",
    "# Predict on the test data\n",
    "y_pred = linear_svc_model.predict(X_test)\n",
    "y_pred_sig = linear_svc_sig_model.predict(X_test_subset)\n",
    "\n",
    "# Record the end time for testing\n",
    "testing_end_time = datetime.now()\n",
    "print('Predictions Done!\\n')\n",
    "\n",
    "# Calculate and store the testing time\n",
    "results_dict['testing_time'] = testing_end_time - testing_start_time\n",
    "print('Testing Time: {}\\n'.format(results_dict['testing_time']))\n",
    "\n",
    "# Store the predicted values\n",
    "results_dict['predicted'] = y_pred"
   ]
  },
  {
   "cell_type": "markdown",
   "metadata": {},
   "source": [
    "# Calculated Accuracy"
   ]
  },
  {
   "cell_type": "code",
   "execution_count": 18,
   "metadata": {},
   "outputs": [
    {
     "name": "stdout",
     "output_type": "stream",
     "text": [
      "Singular Modality Model Accuracy: 0.2198846284356973\n",
      "\n",
      "Multimodal Model Accuracy: 0.9619952494061758\n",
      "\n"
     ]
    }
   ],
   "source": [
    "# Calculate accuracy\n",
    "accuracy_score = metrics.accuracy_score(y_true=y_test, y_pred=y_pred)\n",
    "accuracy_score_singular = metrics.accuracy_score(y_true=y_test, y_pred=y_pred_sig)\n",
    "\n",
    "# Store accuracy in the results dictionary\n",
    "results_dict['accuracy'] = accuracy_score\n",
    "\n",
    "# Print the singular modality accuracy\n",
    "print('Singular Modality Model Accuracy: {}\\n'.format(accuracy_score_singular))\n",
    "\n",
    "# Print the multimodal accuracy\n",
    "print('Multimodal Model Accuracy: {}\\n'.format(accuracy_score))"
   ]
  },
  {
   "cell_type": "markdown",
   "metadata": {},
   "source": [
    "# Calculating Confusion Matrix"
   ]
  },
  {
   "cell_type": "code",
   "execution_count": 19,
   "metadata": {},
   "outputs": [],
   "source": [
    "#Numerically Encode the Activities\n",
    "ACTIVITIES = {\n",
    "    0: 'WALKING',\n",
    "    1: 'WALKING_UPSTAIRS',\n",
    "    2: 'WALKING_DOWNSTAIRS',\n",
    "    3: 'SITTING',\n",
    "    4: 'STANDING',\n",
    "    5: 'LAYING',\n",
    "}"
   ]
  },
  {
   "cell_type": "code",
   "execution_count": 20,
   "metadata": {},
   "outputs": [
    {
     "name": "stdout",
     "output_type": "stream",
     "text": [
      "\n",
      "Singular Modality Model Confusion Matrix:\n",
      "\n",
      "[[  0  40   0  24 199 233]\n",
      " [  0 107   0  38 144 182]\n",
      " [  0  45   4  32 188 151]\n",
      " [  0  11   0  26  35 419]\n",
      " [  0  22   2  25  99 384]\n",
      " [  0   6   2   1 116 412]]\n",
      "\n",
      "\n",
      "\n",
      "\n",
      "MultiModal Model Confusion Matrix:\n",
      "\n",
      "[[496   0   0   0   0   0]\n",
      " [ 24 444   1   0   1   1]\n",
      " [  4   3 413   0   0   0]\n",
      " [  0   4   0 428  57   2]\n",
      " [  1   0   0  14 517   0]\n",
      " [  0   0   0   0   0 537]]\n"
     ]
    }
   ],
   "source": [
    "# Calculate confusion matrix\n",
    "confusion_matrix = metrics.confusion_matrix(y_test, y_pred)\n",
    "confusion_matrix_singular = metrics.confusion_matrix(y_test, y_pred_sig)\n",
    "\n",
    "# Store confusion matrix in the results dictionary\n",
    "results_dict['confusion_matrix'] = confusion_matrix\n",
    "\n",
    "# Print the singular Modality Model confusion matrix\n",
    "print('\\nSingular Modality Model Confusion Matrix:')\n",
    "print('\\n{}'.format(confusion_matrix_singular))\n",
    "\n",
    "print('\\n\\n')\n",
    "# Print the singular Modality Model confusion matrix\n",
    "print('\\nMultiModal Model Confusion Matrix:')\n",
    "print('\\n{}'.format(confusion_matrix))"
   ]
  },
  {
   "cell_type": "markdown",
   "metadata": {},
   "source": [
    "# Plot Confusion Matrix"
   ]
  },
  {
   "cell_type": "code",
   "execution_count": 21,
   "metadata": {},
   "outputs": [
    {
     "data": {
      "image/png": "[encoded data removed]",
      "text/plain": [
       "<Figure size 720x720 with 2 Axes>"
      ]
     },
     "metadata": {
      "needs_background": "light"
     },
     "output_type": "display_data"
    },
    {
     "data": {
      "image/png": "[encoded data removed]",
      "text/plain": [
       "<Figure size 720x720 with 2 Axes>"
      ]
     },
     "metadata": {
      "needs_background": "light"
     },
     "output_type": "display_data"
    }
   ],
   "source": [
    "#Plot Normalized Confusion for Singular Modality Model Matrix\n",
    "\n",
    "# Calculate normalized confusion matrix\n",
    "normalized_cm = confusion_matrix_singular.astype('float') / confusion_matrix_singular.sum(axis=1)[:, np.newaxis]\n",
    "\n",
    "#List out target names\n",
    "target_names = list(ACTIVITIES.values())\n",
    "\n",
    "#Use seaborn to plot heat map of confusion matrix\n",
    "fig, ax = plt.subplots(figsize=(10,10))\n",
    "sns.heatmap(normalized_cm, annot=True, fmt='.2f', xticklabels = target_names, yticklabels = target_names)\n",
    "plt.title('Single Modality Model CM')\n",
    "plt.ylabel('True Label')\n",
    "plt.xlabel('Predicted Label')\n",
    "plt.show(block=False)\n",
    "\n",
    "\n",
    "#Plot Normalized Confusion for Multimodal Model Matrix\n",
    "\n",
    "# Calculate normalized confusion matrix\n",
    "normalized_cm = confusion_matrix.astype('float') / confusion_matrix.sum(axis=1)[:, np.newaxis]\n",
    "\n",
    "#List out target names\n",
    "target_names = list(ACTIVITIES.values())\n",
    "\n",
    "#Use seaborn to plot heat map of confusion matrix\n",
    "fig, ax = plt.subplots(figsize=(10,10))\n",
    "sns.heatmap(normalized_cm, annot=True, fmt='.2f', xticklabels = target_names, yticklabels = target_names)\n",
    "plt.title('Multimodal Model CM')\n",
    "plt.ylabel('True Label')\n",
    "plt.xlabel('Predicted Label')\n",
    "plt.show(block=False)"
   ]
  },
  {
   "cell_type": "markdown",
   "metadata": {},
   "source": [
    "# Classification Report"
   ]
  },
  {
   "cell_type": "code",
   "execution_count": 22,
   "metadata": {},
   "outputs": [
    {
     "name": "stdout",
     "output_type": "stream",
     "text": [
      "Classification Report of Singular Modality Model\n",
      "              precision    recall  f1-score   support\n",
      "\n",
      "           1       0.00      0.00      0.00       496\n",
      "           2       0.46      0.23      0.30       471\n",
      "           3       0.50      0.01      0.02       420\n",
      "           4       0.18      0.05      0.08       491\n",
      "           5       0.13      0.19      0.15       532\n",
      "           6       0.23      0.77      0.36       537\n",
      "\n",
      "    accuracy                           0.22      2947\n",
      "   macro avg       0.25      0.21      0.15      2947\n",
      "weighted avg       0.24      0.22      0.16      2947\n",
      "\n",
      "\n",
      "Classification Report of Multimodal Model\n",
      "              precision    recall  f1-score   support\n",
      "\n",
      "           1       0.94      1.00      0.97       496\n",
      "           2       0.98      0.94      0.96       471\n",
      "           3       1.00      0.98      0.99       420\n",
      "           4       0.97      0.87      0.92       491\n",
      "           5       0.90      0.97      0.93       532\n",
      "           6       0.99      1.00      1.00       537\n",
      "\n",
      "    accuracy                           0.96      2947\n",
      "   macro avg       0.96      0.96      0.96      2947\n",
      "weighted avg       0.96      0.96      0.96      2947\n",
      "\n"
     ]
    }
   ],
   "source": [
    "# Get classification report\n",
    "print('Classification Report of Singular Modality Model')\n",
    "classification_report_result = metrics.classification_report(y_test, y_pred_sig)\n",
    "\n",
    "# Print the classification report\n",
    "print(classification_report_result)\n",
    "\n",
    "# Get classification report\n",
    "print('\\nClassification Report of Multimodal Model')\n",
    "classification_report_result = metrics.classification_report(y_test, y_pred)\n",
    "\n",
    "# Print the classification report\n",
    "print(classification_report_result)"
   ]
  }
 ],
 "metadata": {
  "kernelspec": {
   "display_name": "Python 3",
   "language": "python",
   "name": "python3"
  },
  "language_info": {
   "codemirror_mode": {
    "name": "ipython",
    "version": 3
   },
   "file_extension": ".py",
   "mimetype": "text/x-python",
   "name": "python",
   "nbconvert_exporter": "python",
   "pygments_lexer": "ipython3",
   "version": "3.9.12"
  }
 },
 "nbformat": 4,
 "nbformat_minor": 2
}
