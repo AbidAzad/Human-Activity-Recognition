{
 "cells": [
  {
   "cell_type": "markdown",
   "metadata": {},
   "source": [
    "# Import Libraries"
   ]
  },
  {
   "cell_type": "code",
   "execution_count": 52,
   "metadata": {},
   "outputs": [],
   "source": [
    "import pandas as pd\n",
    "import numpy as np\n",
    "\n",
    "#Use Keras Neural Network Components. This will be used to construct the LSTM\n",
    "from keras import backend as K\n",
    "from keras.models import Sequential\n",
    "from keras.layers import LSTM\n",
    "from keras.layers import Dense, Dropout\n",
    "from keras.layers import BatchNormalization\n",
    "from keras.regularizers import L1L2\n",
    "\n",
    "#Import Tensorflow \n",
    "import tensorflow as tf"
   ]
  },
  {
   "cell_type": "markdown",
   "metadata": {},
   "source": [
    "# Ensure Reproducability of Results"
   ]
  },
  {
   "cell_type": "code",
   "execution_count": 53,
   "metadata": {},
   "outputs": [],
   "source": [
    "np.random.seed(42)\n",
    "tf.random.set_seed(42)"
   ]
  },
  {
   "cell_type": "markdown",
   "metadata": {},
   "source": [
    "# Fetch and Set Up Data"
   ]
  },
  {
   "cell_type": "code",
   "execution_count": 54,
   "metadata": {},
   "outputs": [],
   "source": [
    "#Numerically Encode the Activities\n",
    "ACTIVITIES = {\n",
    "    0: 'WALKING',\n",
    "    1: 'WALKING_UPSTAIRS',\n",
    "    2: 'WALKING_DOWNSTAIRS',\n",
    "    3: 'SITTING',\n",
    "    4: 'STANDING',\n",
    "    5: 'LAYING',\n",
    "}"
   ]
  },
  {
   "cell_type": "code",
   "execution_count": 55,
   "metadata": {},
   "outputs": [],
   "source": [
    "DATDIR = \"data/UCI HAR Dataset\"\n",
    "SIGNALS = [\n",
    "    \"body_acc_x\",\n",
    "    \"body_acc_y\",\n",
    "    \"body_acc_z\",\n",
    "    \"body_gyro_x\",\n",
    "    \"body_gyro_y\",\n",
    "    \"body_gyro_z\",\n",
    "    \"total_acc_x\",\n",
    "    \"total_acc_y\",\n",
    "    \"total_acc_z\"\n",
    "    ]"
   ]
  },
  {
   "cell_type": "code",
   "execution_count": 56,
   "metadata": {},
   "outputs": [],
   "source": [
    "#train_test: 0 if we want to fetch the training signal data, 1 if we want to fetch the test signal data\n",
    "def fetch_raw_signal_data(train_test, signal):\n",
    "    file_path = DATDIR + f\"/{'train' if train_test == 0 else 'test'}/Inertial Signals/{signal}_{'train' if train_test == 0 else 'test'}.txt\"\n",
    "    return pd.read_csv(file_path, delim_whitespace = True, header = None)\n",
    "\n",
    "#Same purpose as previous function but, in this case, we are fetching ALL the raw signal data!\n",
    "#train_test: 0 if we want to fetch the training signal data, 1 if we want to fetch the test signal data\n",
    "def fetch_all_raw_signals(train_test):\n",
    "    data_raw_signals = []\n",
    "    for signal in SIGNALS:\n",
    "        raw_signal_data = fetch_raw_signal_data(train_test, signal).to_numpy()\n",
    "        data_raw_signals.append(raw_signal_data)\n",
    "    \n",
    "    data_raw_signals = np.array(data_raw_signals)\n",
    "    return np.transpose(data_raw_signals, axes = (1, 2, 0))\n",
    "\n",
    "#Fetch Labels\n",
    "#train_test: 0 if we want to fetch the training signal data, 1 if we want to fetch the test signal data\n",
    "def fetch_labels(train_test):\n",
    "    file_path = DATDIR + f\"/{'train' if train_test == 0 else 'test'}/y_{'train' if train_test == 0 else 'test'}.txt\"\n",
    "    return pd.get_dummies(pd.read_csv(file_path, delim_whitespace=True, header = None)[0]).to_numpy()"
   ]
  },
  {
   "cell_type": "code",
   "execution_count": 57,
   "metadata": {},
   "outputs": [
    {
     "name": "stdout",
     "output_type": "stream",
     "text": [
      "7352 128 9\n",
      "6\n"
     ]
    }
   ],
   "source": [
    "X_train, X_test, Y_train, Y_test = fetch_all_raw_signals(0), fetch_all_raw_signals(1), fetch_labels(0), fetch_labels(1)\n",
    "\n",
    "N = X_train.shape[0]\n",
    "T = X_train.shape[1]\n",
    "D = X_train.shape[2]\n",
    "\n",
    "print(N, T, D)\n",
    "\n",
    "n_classes = Y_train.shape[1]\n",
    "print(n_classes)"
   ]
  },
  {
   "cell_type": "markdown",
   "metadata": {},
   "source": [
    "# Define LSTM Architecture"
   ]
  },
  {
   "cell_type": "markdown",
   "metadata": {},
   "source": [
    "## Use 1 LSTM Layer"
   ]
  },
  {
   "cell_type": "code",
   "execution_count": 58,
   "metadata": {},
   "outputs": [],
   "source": [
    "##Hyperparameters\n",
    "epochs = 30\n",
    "batch_size = 16\n",
    "n_hidden = 32"
   ]
  },
  {
   "cell_type": "code",
   "execution_count": 59,
   "metadata": {},
   "outputs": [
    {
     "name": "stdout",
     "output_type": "stream",
     "text": [
      "Model: \"sequential_2\"\n",
      "_________________________________________________________________\n",
      " Layer (type)                Output Shape              Param #   \n",
      "=================================================================\n",
      " lstm_2 (LSTM)               (None, 32)                5376      \n",
      "                                                                 \n",
      " dropout_2 (Dropout)         (None, 32)                0         \n",
      "                                                                 \n",
      " dense_2 (Dense)             (None, 6)                 198       \n",
      "                                                                 \n",
      "=================================================================\n",
      "Total params: 5574 (21.77 KB)\n",
      "Trainable params: 5574 (21.77 KB)\n",
      "Non-trainable params: 0 (0.00 Byte)\n",
      "_________________________________________________________________\n"
     ]
    }
   ],
   "source": [
    "# Initiliazing the sequential model\n",
    "model = Sequential()\n",
    "\n",
    "# Configuring the parameters\n",
    "model.add(LSTM(n_hidden, input_shape = (T, D)))\n",
    "\n",
    "# Adding a dropout layer\n",
    "model.add(Dropout(0.5))\n",
    "\n",
    "# Adding a dense output layer with sigmoid activation\n",
    "model.add(Dense(n_classes, activation = 'softmax'))\n",
    "\n",
    "model.summary()"
   ]
  },
  {
   "cell_type": "code",
   "execution_count": 60,
   "metadata": {},
   "outputs": [],
   "source": [
    "# Compiling the model\n",
    "model.compile(loss='categorical_crossentropy', optimizer='rmsprop', metrics=['accuracy'])"
   ]
  },
  {
   "cell_type": "code",
   "execution_count": 61,
   "metadata": {},
   "outputs": [
    {
     "name": "stdout",
     "output_type": "stream",
     "text": [
      "Epoch 1/30\n",
      "460/460 [==============================] - 12s 22ms/step - loss: 1.2004 - accuracy: 0.5065 - val_loss: 0.9679 - val_accuracy: 0.5721\n",
      "Epoch 2/30\n",
      "460/460 [==============================] - 12s 26ms/step - loss: 0.7701 - accuracy: 0.6780 - val_loss: 0.7493 - val_accuracy: 0.7363\n",
      "Epoch 3/30\n",
      "460/460 [==============================] - 10s 22ms/step - loss: 0.5696 - accuracy: 0.7825 - val_loss: 0.7354 - val_accuracy: 0.7503\n",
      "Epoch 4/30\n",
      "460/460 [==============================] - 11s 23ms/step - loss: 0.4394 - accuracy: 0.8451 - val_loss: 0.5599 - val_accuracy: 0.8168\n",
      "Epoch 5/30\n",
      "460/460 [==============================] - 11s 23ms/step - loss: 0.3509 - accuracy: 0.8860 - val_loss: 0.5394 - val_accuracy: 0.8331\n",
      "Epoch 6/30\n",
      "460/460 [==============================] - 11s 24ms/step - loss: 0.3169 - accuracy: 0.9018 - val_loss: 0.5055 - val_accuracy: 0.8476\n",
      "Epoch 7/30\n",
      "460/460 [==============================] - 11s 23ms/step - loss: 0.2831 - accuracy: 0.9082 - val_loss: 0.3913 - val_accuracy: 0.8731\n",
      "Epoch 8/30\n",
      "460/460 [==============================] - 10s 22ms/step - loss: 0.2404 - accuracy: 0.9210 - val_loss: 0.4551 - val_accuracy: 0.8677\n",
      "Epoch 9/30\n",
      "460/460 [==============================] - 10s 22ms/step - loss: 0.2225 - accuracy: 0.9206 - val_loss: 0.3605 - val_accuracy: 0.8656\n",
      "Epoch 10/30\n",
      "460/460 [==============================] - 10s 23ms/step - loss: 0.2093 - accuracy: 0.9295 - val_loss: 0.3236 - val_accuracy: 0.9002\n",
      "Epoch 11/30\n",
      "460/460 [==============================] - 10s 22ms/step - loss: 0.1843 - accuracy: 0.9339 - val_loss: 0.3668 - val_accuracy: 0.8890\n",
      "Epoch 12/30\n",
      "460/460 [==============================] - 10s 22ms/step - loss: 0.1787 - accuracy: 0.9373 - val_loss: 0.4039 - val_accuracy: 0.8870\n",
      "Epoch 13/30\n",
      "460/460 [==============================] - 10s 22ms/step - loss: 0.1771 - accuracy: 0.9373 - val_loss: 0.4178 - val_accuracy: 0.8958\n",
      "Epoch 14/30\n",
      "460/460 [==============================] - 10s 22ms/step - loss: 0.1670 - accuracy: 0.9427 - val_loss: 0.3249 - val_accuracy: 0.9053\n",
      "Epoch 15/30\n",
      "460/460 [==============================] - 10s 22ms/step - loss: 0.1556 - accuracy: 0.9475 - val_loss: 0.3743 - val_accuracy: 0.9070\n",
      "Epoch 16/30\n",
      "460/460 [==============================] - 10s 22ms/step - loss: 0.1656 - accuracy: 0.9437 - val_loss: 0.4462 - val_accuracy: 0.8972\n",
      "Epoch 17/30\n",
      "460/460 [==============================] - 10s 22ms/step - loss: 0.1684 - accuracy: 0.9437 - val_loss: 0.3944 - val_accuracy: 0.8965\n",
      "Epoch 18/30\n",
      "460/460 [==============================] - 10s 22ms/step - loss: 0.1697 - accuracy: 0.9410 - val_loss: 0.2803 - val_accuracy: 0.9091\n",
      "Epoch 19/30\n",
      "460/460 [==============================] - 10s 22ms/step - loss: 0.1531 - accuracy: 0.9434 - val_loss: 0.3658 - val_accuracy: 0.8778\n",
      "Epoch 20/30\n",
      "460/460 [==============================] - 10s 22ms/step - loss: 0.1581 - accuracy: 0.9436 - val_loss: 0.4064 - val_accuracy: 0.9016\n",
      "Epoch 21/30\n",
      "460/460 [==============================] - 10s 22ms/step - loss: 0.1488 - accuracy: 0.9505 - val_loss: 0.3146 - val_accuracy: 0.9094\n",
      "Epoch 22/30\n",
      "460/460 [==============================] - 10s 22ms/step - loss: 0.1476 - accuracy: 0.9457 - val_loss: 0.3293 - val_accuracy: 0.9182\n",
      "Epoch 23/30\n",
      "460/460 [==============================] - 10s 22ms/step - loss: 0.1509 - accuracy: 0.9437 - val_loss: 0.3270 - val_accuracy: 0.9158\n",
      "Epoch 24/30\n",
      "460/460 [==============================] - 10s 22ms/step - loss: 0.1477 - accuracy: 0.9448 - val_loss: 0.3739 - val_accuracy: 0.9165\n",
      "Epoch 25/30\n",
      "460/460 [==============================] - 10s 22ms/step - loss: 0.1388 - accuracy: 0.9508 - val_loss: 0.3985 - val_accuracy: 0.9033\n",
      "Epoch 26/30\n",
      "460/460 [==============================] - 12s 26ms/step - loss: 0.1471 - accuracy: 0.9479 - val_loss: 0.3348 - val_accuracy: 0.9213\n",
      "Epoch 27/30\n",
      "460/460 [==============================] - 10s 23ms/step - loss: 0.1354 - accuracy: 0.9489 - val_loss: 0.4298 - val_accuracy: 0.8975\n",
      "Epoch 28/30\n",
      "460/460 [==============================] - 10s 23ms/step - loss: 0.1503 - accuracy: 0.9472 - val_loss: 0.2840 - val_accuracy: 0.9155\n",
      "Epoch 29/30\n",
      "460/460 [==============================] - 11s 23ms/step - loss: 0.1499 - accuracy: 0.9455 - val_loss: 0.3298 - val_accuracy: 0.9158\n",
      "Epoch 30/30\n",
      "460/460 [==============================] - 11s 25ms/step - loss: 0.1413 - accuracy: 0.9490 - val_loss: 0.4454 - val_accuracy: 0.8985\n"
     ]
    },
    {
     "data": {
      "text/plain": [
       "<keras.src.callbacks.History at 0x7fb541004af0>"
      ]
     },
     "execution_count": 61,
     "metadata": {},
     "output_type": "execute_result"
    }
   ],
   "source": [
    "# Training the model\n",
    "model.fit(X_train, Y_train, batch_size=batch_size, validation_data=(X_test, Y_test),epochs=epochs)"
   ]
  },
  {
   "cell_type": "code",
   "execution_count": 62,
   "metadata": {},
   "outputs": [],
   "source": [
    "def generate_confusion_matrix(Y_true, Y_pred):\n",
    "    Y_true = pd.Series([ACTIVITIES[y] for y in np.argmax(Y_true, axis=1)])\n",
    "    Y_pred = pd.Series([ACTIVITIES[y] for y in np.argmax(Y_pred, axis=1)])\n",
    "    return pd.crosstab(Y_true, Y_pred, rownames=['True'], colnames=['Pred'])"
   ]
  },
  {
   "cell_type": "code",
   "execution_count": 63,
   "metadata": {},
   "outputs": [
    {
     "name": "stdout",
     "output_type": "stream",
     "text": [
      "93/93 [==============================] - 1s 7ms/step\n"
     ]
    },
    {
     "data": {
      "text/html": [
       "<div>\n",
       "<style scoped>\n",
       "    .dataframe tbody tr th:only-of-type {\n",
       "        vertical-align: middle;\n",
       "    }\n",
       "\n",
       "    .dataframe tbody tr th {\n",
       "        vertical-align: top;\n",
       "    }\n",
       "\n",
       "    .dataframe thead th {\n",
       "        text-align: right;\n",
       "    }\n",
       "</style>\n",
       "<table border=\"1\" class=\"dataframe\">\n",
       "  <thead>\n",
       "    <tr style=\"text-align: right;\">\n",
       "      <th>Pred</th>\n",
       "      <th>LAYING</th>\n",
       "      <th>SITTING</th>\n",
       "      <th>STANDING</th>\n",
       "      <th>WALKING</th>\n",
       "      <th>WALKING_DOWNSTAIRS</th>\n",
       "      <th>WALKING_UPSTAIRS</th>\n",
       "    </tr>\n",
       "    <tr>\n",
       "      <th>True</th>\n",
       "      <th></th>\n",
       "      <th></th>\n",
       "      <th></th>\n",
       "      <th></th>\n",
       "      <th></th>\n",
       "      <th></th>\n",
       "    </tr>\n",
       "  </thead>\n",
       "  <tbody>\n",
       "    <tr>\n",
       "      <th>LAYING</th>\n",
       "      <td>534</td>\n",
       "      <td>2</td>\n",
       "      <td>0</td>\n",
       "      <td>0</td>\n",
       "      <td>0</td>\n",
       "      <td>1</td>\n",
       "    </tr>\n",
       "    <tr>\n",
       "      <th>SITTING</th>\n",
       "      <td>0</td>\n",
       "      <td>373</td>\n",
       "      <td>101</td>\n",
       "      <td>0</td>\n",
       "      <td>17</td>\n",
       "      <td>0</td>\n",
       "    </tr>\n",
       "    <tr>\n",
       "      <th>STANDING</th>\n",
       "      <td>0</td>\n",
       "      <td>101</td>\n",
       "      <td>427</td>\n",
       "      <td>1</td>\n",
       "      <td>3</td>\n",
       "      <td>0</td>\n",
       "    </tr>\n",
       "    <tr>\n",
       "      <th>WALKING</th>\n",
       "      <td>0</td>\n",
       "      <td>2</td>\n",
       "      <td>0</td>\n",
       "      <td>476</td>\n",
       "      <td>5</td>\n",
       "      <td>13</td>\n",
       "    </tr>\n",
       "    <tr>\n",
       "      <th>WALKING_DOWNSTAIRS</th>\n",
       "      <td>0</td>\n",
       "      <td>0</td>\n",
       "      <td>0</td>\n",
       "      <td>22</td>\n",
       "      <td>384</td>\n",
       "      <td>14</td>\n",
       "    </tr>\n",
       "    <tr>\n",
       "      <th>WALKING_UPSTAIRS</th>\n",
       "      <td>0</td>\n",
       "      <td>2</td>\n",
       "      <td>3</td>\n",
       "      <td>11</td>\n",
       "      <td>1</td>\n",
       "      <td>454</td>\n",
       "    </tr>\n",
       "  </tbody>\n",
       "</table>\n",
       "</div>"
      ],
      "text/plain": [
       "Pred                LAYING  SITTING  STANDING  WALKING  WALKING_DOWNSTAIRS  \\\n",
       "True                                                                         \n",
       "LAYING                 534        2         0        0                   0   \n",
       "SITTING                  0      373       101        0                  17   \n",
       "STANDING                 0      101       427        1                   3   \n",
       "WALKING                  0        2         0      476                   5   \n",
       "WALKING_DOWNSTAIRS       0        0         0       22                 384   \n",
       "WALKING_UPSTAIRS         0        2         3       11                   1   \n",
       "\n",
       "Pred                WALKING_UPSTAIRS  \n",
       "True                                  \n",
       "LAYING                             1  \n",
       "SITTING                            0  \n",
       "STANDING                           0  \n",
       "WALKING                           13  \n",
       "WALKING_DOWNSTAIRS                14  \n",
       "WALKING_UPSTAIRS                 454  "
      ]
     },
     "execution_count": 63,
     "metadata": {},
     "output_type": "execute_result"
    }
   ],
   "source": [
    "#Generate Confusion Matrix\n",
    "generate_confusion_matrix(Y_test, model.predict(X_test))"
   ]
  },
  {
   "cell_type": "code",
   "execution_count": 64,
   "metadata": {},
   "outputs": [
    {
     "name": "stdout",
     "output_type": "stream",
     "text": [
      "93/93 [==============================] - 1s 7ms/step - loss: 0.4454 - accuracy: 0.8985\n",
      "\n",
      "   cat_crossentropy  ||   accuracy \n",
      "  ____________________________________\n",
      "[0.4454444348812103, 0.8985409140586853]\n"
     ]
    }
   ],
   "source": [
    "score = model.evaluate(X_test, Y_test)\n",
    "\n",
    "print(\"\\n   cat_crossentropy  ||   accuracy \")\n",
    "print(\"  ____________________________________\")\n",
    "print(score)"
   ]
  },
  {
   "cell_type": "markdown",
   "metadata": {},
   "source": [
    "## Use 2 LSTM Layers"
   ]
  },
  {
   "cell_type": "code",
   "execution_count": 65,
   "metadata": {},
   "outputs": [],
   "source": [
    "##Hyperparameters\n",
    "epochs = 30\n",
    "batch_size = 16\n",
    "n_hidden = 32"
   ]
  },
  {
   "cell_type": "code",
   "execution_count": 67,
   "metadata": {},
   "outputs": [
    {
     "name": "stdout",
     "output_type": "stream",
     "text": [
      "Model: \"sequential_4\"\n",
      "_________________________________________________________________\n",
      " Layer (type)                Output Shape              Param #   \n",
      "=================================================================\n",
      " lstm_5 (LSTM)               (None, 128, 48)           11136     \n",
      "                                                                 \n",
      " batch_normalization_1 (Bat  (None, 128, 48)           192       \n",
      " chNormalization)                                                \n",
      "                                                                 \n",
      " dropout_4 (Dropout)         (None, 128, 48)           0         \n",
      "                                                                 \n",
      " lstm_6 (LSTM)               (None, 32)                10368     \n",
      "                                                                 \n",
      " dropout_5 (Dropout)         (None, 32)                0         \n",
      "                                                                 \n",
      " dense_3 (Dense)             (None, 6)                 198       \n",
      "                                                                 \n",
      "=================================================================\n",
      "Total params: 21894 (85.52 KB)\n",
      "Trainable params: 21798 (85.15 KB)\n",
      "Non-trainable params: 96 (384.00 Byte)\n",
      "_________________________________________________________________\n"
     ]
    }
   ],
   "source": [
    "#Define Model Architecture\n",
    "model = Sequential()\n",
    "model.add(LSTM(48, input_shape=(T, D), return_sequences=True))\n",
    "model.add(BatchNormalization())\n",
    "model.add(Dropout(0.50))\n",
    "\n",
    "model.add(LSTM(32))\n",
    "model.add(Dropout(0.50))\n",
    "model.add(Dense(n_classes, activation = 'softmax'))\n",
    "\n",
    "model.summary()"
   ]
  },
  {
   "cell_type": "code",
   "execution_count": 68,
   "metadata": {},
   "outputs": [],
   "source": [
    "# Compiling the model\n",
    "model.compile(loss='categorical_crossentropy', optimizer='rmsprop', metrics=['accuracy'])"
   ]
  },
  {
   "cell_type": "code",
   "execution_count": 69,
   "metadata": {},
   "outputs": [
    {
     "name": "stdout",
     "output_type": "stream",
     "text": [
      "Epoch 1/30\n",
      "460/460 [==============================] - 36s 68ms/step - loss: 0.7896 - accuracy: 0.7063 - val_loss: 1.0415 - val_accuracy: 0.6590\n",
      "Epoch 2/30\n",
      "460/460 [==============================] - 29s 62ms/step - loss: 0.3666 - accuracy: 0.8845 - val_loss: 0.3294 - val_accuracy: 0.8836\n",
      "Epoch 3/30\n",
      "460/460 [==============================] - 29s 64ms/step - loss: 0.2461 - accuracy: 0.9196 - val_loss: 0.3975 - val_accuracy: 0.8636\n",
      "Epoch 4/30\n",
      "460/460 [==============================] - 30s 66ms/step - loss: 0.2048 - accuracy: 0.9335 - val_loss: 0.2371 - val_accuracy: 0.9118\n",
      "Epoch 5/30\n",
      "460/460 [==============================] - 29s 64ms/step - loss: 0.1937 - accuracy: 0.9343 - val_loss: 0.2552 - val_accuracy: 0.9165\n",
      "Epoch 6/30\n",
      "460/460 [==============================] - 30s 64ms/step - loss: 0.1743 - accuracy: 0.9387 - val_loss: 0.2341 - val_accuracy: 0.9165\n",
      "Epoch 7/30\n",
      "460/460 [==============================] - 30s 66ms/step - loss: 0.1638 - accuracy: 0.9392 - val_loss: 0.2282 - val_accuracy: 0.9209\n",
      "Epoch 8/30\n",
      "460/460 [==============================] - 30s 64ms/step - loss: 0.1656 - accuracy: 0.9431 - val_loss: 0.2745 - val_accuracy: 0.9101\n",
      "Epoch 9/30\n",
      "460/460 [==============================] - 30s 65ms/step - loss: 0.1443 - accuracy: 0.9470 - val_loss: 0.3573 - val_accuracy: 0.9077\n",
      "Epoch 10/30\n",
      "460/460 [==============================] - 30s 65ms/step - loss: 0.1541 - accuracy: 0.9460 - val_loss: 0.1980 - val_accuracy: 0.9284\n",
      "Epoch 11/30\n",
      "460/460 [==============================] - 29s 64ms/step - loss: 0.1514 - accuracy: 0.9472 - val_loss: 0.2427 - val_accuracy: 0.9196\n",
      "Epoch 12/30\n",
      "460/460 [==============================] - 30s 64ms/step - loss: 0.1461 - accuracy: 0.9453 - val_loss: 0.2616 - val_accuracy: 0.9192\n",
      "Epoch 13/30\n",
      "460/460 [==============================] - 30s 66ms/step - loss: 0.1468 - accuracy: 0.9448 - val_loss: 0.2724 - val_accuracy: 0.9138\n",
      "Epoch 14/30\n",
      "460/460 [==============================] - 29s 63ms/step - loss: 0.1449 - accuracy: 0.9495 - val_loss: 0.2025 - val_accuracy: 0.9287\n",
      "Epoch 15/30\n",
      "460/460 [==============================] - 30s 65ms/step - loss: 0.1305 - accuracy: 0.9495 - val_loss: 0.2643 - val_accuracy: 0.9216\n",
      "Epoch 16/30\n",
      "460/460 [==============================] - 31s 68ms/step - loss: 0.1383 - accuracy: 0.9499 - val_loss: 0.2586 - val_accuracy: 0.9260\n",
      "Epoch 17/30\n",
      "460/460 [==============================] - 30s 65ms/step - loss: 0.1260 - accuracy: 0.9512 - val_loss: 0.2586 - val_accuracy: 0.9192\n",
      "Epoch 18/30\n",
      "460/460 [==============================] - 31s 68ms/step - loss: 0.1403 - accuracy: 0.9487 - val_loss: 0.3940 - val_accuracy: 0.9172\n",
      "Epoch 19/30\n",
      "460/460 [==============================] - 30s 65ms/step - loss: 0.1368 - accuracy: 0.9489 - val_loss: 0.2443 - val_accuracy: 0.9281\n",
      "Epoch 20/30\n",
      "460/460 [==============================] - 31s 68ms/step - loss: 0.1376 - accuracy: 0.9495 - val_loss: 0.2302 - val_accuracy: 0.9264\n",
      "Epoch 21/30\n",
      "460/460 [==============================] - 30s 65ms/step - loss: 0.1311 - accuracy: 0.9509 - val_loss: 0.2727 - val_accuracy: 0.9260\n",
      "Epoch 22/30\n",
      "460/460 [==============================] - 30s 66ms/step - loss: 0.1240 - accuracy: 0.9510 - val_loss: 0.2871 - val_accuracy: 0.9233\n",
      "Epoch 23/30\n",
      "460/460 [==============================] - 29s 63ms/step - loss: 0.1312 - accuracy: 0.9484 - val_loss: 0.3541 - val_accuracy: 0.9158\n",
      "Epoch 24/30\n",
      "460/460 [==============================] - 30s 65ms/step - loss: 0.1336 - accuracy: 0.9517 - val_loss: 0.3394 - val_accuracy: 0.9148\n",
      "Epoch 25/30\n",
      "460/460 [==============================] - 30s 65ms/step - loss: 0.1326 - accuracy: 0.9532 - val_loss: 0.3463 - val_accuracy: 0.9172\n",
      "Epoch 26/30\n",
      "460/460 [==============================] - 31s 68ms/step - loss: 0.1472 - accuracy: 0.9497 - val_loss: 0.3245 - val_accuracy: 0.9196\n",
      "Epoch 27/30\n",
      "460/460 [==============================] - 29s 62ms/step - loss: 0.1276 - accuracy: 0.9523 - val_loss: 0.5975 - val_accuracy: 0.9023\n",
      "Epoch 28/30\n",
      "460/460 [==============================] - 30s 65ms/step - loss: 0.1326 - accuracy: 0.9513 - val_loss: 0.3598 - val_accuracy: 0.9199\n",
      "Epoch 29/30\n",
      "460/460 [==============================] - 30s 65ms/step - loss: 0.1362 - accuracy: 0.9516 - val_loss: 0.4017 - val_accuracy: 0.9237\n",
      "Epoch 30/30\n",
      "460/460 [==============================] - 30s 65ms/step - loss: 0.1473 - accuracy: 0.9494 - val_loss: 0.3203 - val_accuracy: 0.9250\n"
     ]
    },
    {
     "data": {
      "text/plain": [
       "<keras.src.callbacks.History at 0x7fb543ee4910>"
      ]
     },
     "execution_count": 69,
     "metadata": {},
     "output_type": "execute_result"
    }
   ],
   "source": [
    "# Training the model\n",
    "model.fit(X_train, Y_train, batch_size=batch_size, validation_data=(X_test, Y_test),epochs=epochs)"
   ]
  },
  {
   "cell_type": "code",
   "execution_count": 70,
   "metadata": {},
   "outputs": [
    {
     "name": "stdout",
     "output_type": "stream",
     "text": [
      "93/93 [==============================] - 3s 19ms/step\n"
     ]
    },
    {
     "data": {
      "text/html": [
       "<div>\n",
       "<style scoped>\n",
       "    .dataframe tbody tr th:only-of-type {\n",
       "        vertical-align: middle;\n",
       "    }\n",
       "\n",
       "    .dataframe tbody tr th {\n",
       "        vertical-align: top;\n",
       "    }\n",
       "\n",
       "    .dataframe thead th {\n",
       "        text-align: right;\n",
       "    }\n",
       "</style>\n",
       "<table border=\"1\" class=\"dataframe\">\n",
       "  <thead>\n",
       "    <tr style=\"text-align: right;\">\n",
       "      <th>Pred</th>\n",
       "      <th>LAYING</th>\n",
       "      <th>SITTING</th>\n",
       "      <th>STANDING</th>\n",
       "      <th>WALKING</th>\n",
       "      <th>WALKING_DOWNSTAIRS</th>\n",
       "      <th>WALKING_UPSTAIRS</th>\n",
       "    </tr>\n",
       "    <tr>\n",
       "      <th>True</th>\n",
       "      <th></th>\n",
       "      <th></th>\n",
       "      <th></th>\n",
       "      <th></th>\n",
       "      <th></th>\n",
       "      <th></th>\n",
       "    </tr>\n",
       "  </thead>\n",
       "  <tbody>\n",
       "    <tr>\n",
       "      <th>LAYING</th>\n",
       "      <td>537</td>\n",
       "      <td>0</td>\n",
       "      <td>0</td>\n",
       "      <td>0</td>\n",
       "      <td>0</td>\n",
       "      <td>0</td>\n",
       "    </tr>\n",
       "    <tr>\n",
       "      <th>SITTING</th>\n",
       "      <td>0</td>\n",
       "      <td>409</td>\n",
       "      <td>82</td>\n",
       "      <td>0</td>\n",
       "      <td>0</td>\n",
       "      <td>0</td>\n",
       "    </tr>\n",
       "    <tr>\n",
       "      <th>STANDING</th>\n",
       "      <td>0</td>\n",
       "      <td>95</td>\n",
       "      <td>437</td>\n",
       "      <td>0</td>\n",
       "      <td>0</td>\n",
       "      <td>0</td>\n",
       "    </tr>\n",
       "    <tr>\n",
       "      <th>WALKING</th>\n",
       "      <td>0</td>\n",
       "      <td>0</td>\n",
       "      <td>0</td>\n",
       "      <td>472</td>\n",
       "      <td>24</td>\n",
       "      <td>0</td>\n",
       "    </tr>\n",
       "    <tr>\n",
       "      <th>WALKING_DOWNSTAIRS</th>\n",
       "      <td>0</td>\n",
       "      <td>0</td>\n",
       "      <td>0</td>\n",
       "      <td>3</td>\n",
       "      <td>417</td>\n",
       "      <td>0</td>\n",
       "    </tr>\n",
       "    <tr>\n",
       "      <th>WALKING_UPSTAIRS</th>\n",
       "      <td>0</td>\n",
       "      <td>0</td>\n",
       "      <td>5</td>\n",
       "      <td>2</td>\n",
       "      <td>10</td>\n",
       "      <td>454</td>\n",
       "    </tr>\n",
       "  </tbody>\n",
       "</table>\n",
       "</div>"
      ],
      "text/plain": [
       "Pred                LAYING  SITTING  STANDING  WALKING  WALKING_DOWNSTAIRS  \\\n",
       "True                                                                         \n",
       "LAYING                 537        0         0        0                   0   \n",
       "SITTING                  0      409        82        0                   0   \n",
       "STANDING                 0       95       437        0                   0   \n",
       "WALKING                  0        0         0      472                  24   \n",
       "WALKING_DOWNSTAIRS       0        0         0        3                 417   \n",
       "WALKING_UPSTAIRS         0        0         5        2                  10   \n",
       "\n",
       "Pred                WALKING_UPSTAIRS  \n",
       "True                                  \n",
       "LAYING                             0  \n",
       "SITTING                            0  \n",
       "STANDING                           0  \n",
       "WALKING                            0  \n",
       "WALKING_DOWNSTAIRS                 0  \n",
       "WALKING_UPSTAIRS                 454  "
      ]
     },
     "execution_count": 70,
     "metadata": {},
     "output_type": "execute_result"
    }
   ],
   "source": [
    "#Generate Confusion Matrix\n",
    "generate_confusion_matrix(Y_test, model.predict(X_test))"
   ]
  },
  {
   "cell_type": "code",
   "execution_count": 71,
   "metadata": {},
   "outputs": [
    {
     "name": "stdout",
     "output_type": "stream",
     "text": [
      "93/93 [==============================] - 2s 21ms/step - loss: 0.3203 - accuracy: 0.9250\n",
      "\n",
      "   cat_crossentropy  ||   accuracy \n",
      "  ____________________________________\n",
      "[0.32028326392173767, 0.9250084757804871]\n"
     ]
    }
   ],
   "source": [
    "score = model.evaluate(X_test, Y_test)\n",
    "\n",
    "print(\"\\n   cat_crossentropy  ||   accuracy \")\n",
    "print(\"  ____________________________________\")\n",
    "print(score)"
   ]
  }
 ],
 "metadata": {
  "kernelspec": {
   "display_name": "base",
   "language": "python",
   "name": "python3"
  },
  "language_info": {
   "codemirror_mode": {
    "name": "ipython",
    "version": 3
   },
   "file_extension": ".py",
   "mimetype": "text/x-python",
   "name": "python",
   "nbconvert_exporter": "python",
   "pygments_lexer": "ipython3",
   "version": "3.9.12"
  }
 },
 "nbformat": 4,
 "nbformat_minor": 2
}
