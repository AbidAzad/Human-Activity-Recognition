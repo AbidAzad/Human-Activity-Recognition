{
 "cells": [
  {
   "cell_type": "markdown",
   "metadata": {},
   "source": [
    "# Import Libraries"
   ]
  },
  {
   "cell_type": "code",
   "execution_count": 1,
   "metadata": {},
   "outputs": [
    {
     "name": "stderr",
     "output_type": "stream",
     "text": [
      "2023-12-05 00:13:11.704544: I tensorflow/core/platform/cpu_feature_guard.cc:182] This TensorFlow binary is optimized to use available CPU instructions in performance-critical operations.\n",
      "To enable the following instructions: AVX2 FMA, in other operations, rebuild TensorFlow with the appropriate compiler flags.\n"
     ]
    }
   ],
   "source": [
    "import pandas as pd\n",
    "import numpy as np\n",
    "\n",
    "#Use Keras Neural Network Components. This will be used to construct the LSTM\n",
    "from keras import backend as K\n",
    "from keras.models import Sequential\n",
    "from keras.layers import LSTM\n",
    "from keras.layers import Dense, Dropout\n",
    "from keras.layers import BatchNormalization\n",
    "from keras.regularizers import L1L2\n",
    "\n",
    "#Import Tensorflow \n",
    "import tensorflow as tf\n",
    "\n",
    "#Plotting Libraries\n",
    "import matplotlib.pyplot as plt\n",
    "import seaborn as sns"
   ]
  },
  {
   "cell_type": "markdown",
   "metadata": {},
   "source": [
    "# Ensure Reproducability of Results"
   ]
  },
  {
   "cell_type": "code",
   "execution_count": 2,
   "metadata": {},
   "outputs": [],
   "source": [
    "np.random.seed(42)\n",
    "tf.random.set_seed(42)"
   ]
  },
  {
   "cell_type": "markdown",
   "metadata": {},
   "source": [
    "# Fetch and Set Up Data"
   ]
  },
  {
   "cell_type": "code",
   "execution_count": 3,
   "metadata": {},
   "outputs": [],
   "source": [
    "#Numerically Encode the Activities\n",
    "ACTIVITIES = {\n",
    "    0: 'WALKING',\n",
    "    1: 'WALKING_UPSTAIRS',\n",
    "    2: 'WALKING_DOWNSTAIRS',\n",
    "    3: 'SITTING',\n",
    "    4: 'STANDING',\n",
    "    5: 'LAYING',\n",
    "}"
   ]
  },
  {
   "cell_type": "code",
   "execution_count": 4,
   "metadata": {},
   "outputs": [],
   "source": [
    "DATDIR = \"data/UCI HAR Dataset\"\n",
    "SIGNALS = [\n",
    "    \"body_acc_x\",\n",
    "    \"body_acc_y\",\n",
    "    \"body_acc_z\",\n",
    "    \"body_gyro_x\",\n",
    "    \"body_gyro_y\",\n",
    "    \"body_gyro_z\",\n",
    "    \"total_acc_x\",\n",
    "    \"total_acc_y\",\n",
    "    \"total_acc_z\"\n",
    "    ]"
   ]
  },
  {
   "cell_type": "code",
   "execution_count": 5,
   "metadata": {},
   "outputs": [],
   "source": [
    "#train_test: 0 if we want to fetch the training signal data, 1 if we want to fetch the test signal data\n",
    "def fetch_raw_signal_data(train_test, signal):\n",
    "    file_path = DATDIR + f\"/{'train' if train_test == 0 else 'test'}/Inertial Signals/{signal}_{'train' if train_test == 0 else 'test'}.txt\"\n",
    "    return pd.read_csv(file_path, delim_whitespace = True, header = None)\n",
    "\n",
    "#Same purpose as previous function but, in this case, we are fetching ALL the raw signal data!\n",
    "#train_test: 0 if we want to fetch the training signal data, 1 if we want to fetch the test signal data\n",
    "def fetch_all_raw_signals(train_test):\n",
    "    data_raw_signals = []\n",
    "    for signal in SIGNALS:\n",
    "        raw_signal_data = fetch_raw_signal_data(train_test, signal).to_numpy()\n",
    "        data_raw_signals.append(raw_signal_data)\n",
    "    \n",
    "    data_raw_signals = np.array(data_raw_signals)\n",
    "    return np.transpose(data_raw_signals, axes = (1, 2, 0))\n",
    "\n",
    "#Fetch Labels\n",
    "#train_test: 0 if we want to fetch the training signal data, 1 if we want to fetch the test signal data\n",
    "def fetch_labels(train_test):\n",
    "    file_path = DATDIR + f\"/{'train' if train_test == 0 else 'test'}/y_{'train' if train_test == 0 else 'test'}.txt\"\n",
    "    return pd.get_dummies(pd.read_csv(file_path, delim_whitespace=True, header = None)[0]).to_numpy()"
   ]
  },
  {
   "cell_type": "code",
   "execution_count": 6,
   "metadata": {},
   "outputs": [
    {
     "name": "stdout",
     "output_type": "stream",
     "text": [
      "7352 128 9\n",
      "6\n"
     ]
    }
   ],
   "source": [
    "X_train, X_test, Y_train, Y_test = fetch_all_raw_signals(0), fetch_all_raw_signals(1), fetch_labels(0), fetch_labels(1)\n",
    "\n",
    "N = X_train.shape[0]\n",
    "T = X_train.shape[1]\n",
    "D = X_train.shape[2]\n",
    "\n",
    "print(N, T, D)\n",
    "\n",
    "n_classes = Y_train.shape[1]\n",
    "print(n_classes)"
   ]
  },
  {
   "cell_type": "markdown",
   "metadata": {},
   "source": [
    "# Define LSTM Architecture"
   ]
  },
  {
   "cell_type": "markdown",
   "metadata": {},
   "source": [
    "## Use 1 LSTM Layer"
   ]
  },
  {
   "cell_type": "code",
   "execution_count": 7,
   "metadata": {},
   "outputs": [],
   "source": [
    "##Hyperparameters\n",
    "epochs = 30\n",
    "batch_size = 16\n",
    "n_hidden_1 = 32\n",
    "n_hidden_2 = 16\n",
    "dropout_p = 0.5"
   ]
  },
  {
   "cell_type": "code",
   "execution_count": 8,
   "metadata": {},
   "outputs": [
    {
     "name": "stdout",
     "output_type": "stream",
     "text": [
      "Model: \"sequential\"\n",
      "_________________________________________________________________\n",
      " Layer (type)                Output Shape              Param #   \n",
      "=================================================================\n",
      " lstm (LSTM)                 (None, 32)                5376      \n",
      "                                                                 \n",
      " dropout (Dropout)           (None, 32)                0         \n",
      "                                                                 \n",
      " dense (Dense)               (None, 16)                528       \n",
      "                                                                 \n",
      " dense_1 (Dense)             (None, 6)                 102       \n",
      "                                                                 \n",
      "=================================================================\n",
      "Total params: 6006 (23.46 KB)\n",
      "Trainable params: 6006 (23.46 KB)\n",
      "Non-trainable params: 0 (0.00 Byte)\n",
      "_________________________________________________________________\n"
     ]
    }
   ],
   "source": [
    "model = Sequential() #Initializing our Model Architecture\n",
    "\n",
    "# Add an LSTM Layer\n",
    "model.add(LSTM(n_hidden_1, input_shape = (T, D)))\n",
    "\n",
    "# Adding a dropout layer\n",
    "model.add(Dropout(dropout_p))\n",
    "\n",
    "#Add another Dense Layer\n",
    "model.add(Dense(n_hidden_2, activation = \"relu\"))\n",
    "\n",
    "# Adding a Dense Layer with the Softmax Activation Function\n",
    "model.add(Dense(n_classes, activation = 'softmax'))\n",
    "\n",
    "model.summary() #Display a Summary of our model architecture"
   ]
  },
  {
   "cell_type": "code",
   "execution_count": 9,
   "metadata": {},
   "outputs": [],
   "source": [
    "# Compiling the model\n",
    "model.compile(loss='categorical_crossentropy', optimizer='rmsprop', metrics=['accuracy'])"
   ]
  },
  {
   "cell_type": "code",
   "execution_count": 10,
   "metadata": {},
   "outputs": [
    {
     "name": "stdout",
     "output_type": "stream",
     "text": [
      "Epoch 1/30\n",
      "460/460 [==============================] - 12s 22ms/step - loss: 1.1226 - accuracy: 0.5284 - val_loss: 0.9173 - val_accuracy: 0.6043\n",
      "Epoch 2/30\n",
      "460/460 [==============================] - 10s 21ms/step - loss: 0.7282 - accuracy: 0.6921 - val_loss: 0.7817 - val_accuracy: 0.6820\n",
      "Epoch 3/30\n",
      "460/460 [==============================] - 10s 21ms/step - loss: 0.5584 - accuracy: 0.7470 - val_loss: 0.6597 - val_accuracy: 0.7391\n",
      "Epoch 4/30\n",
      "460/460 [==============================] - 10s 21ms/step - loss: 0.5023 - accuracy: 0.7806 - val_loss: 0.7512 - val_accuracy: 0.7547\n",
      "Epoch 5/30\n",
      "460/460 [==============================] - 10s 21ms/step - loss: 0.4767 - accuracy: 0.7915 - val_loss: 0.6798 - val_accuracy: 0.7581\n",
      "Epoch 6/30\n",
      "460/460 [==============================] - 10s 23ms/step - loss: 0.4468 - accuracy: 0.8160 - val_loss: 0.6000 - val_accuracy: 0.7879\n",
      "Epoch 7/30\n",
      "460/460 [==============================] - 12s 26ms/step - loss: 0.3561 - accuracy: 0.8731 - val_loss: 0.5173 - val_accuracy: 0.8493\n",
      "Epoch 8/30\n",
      "460/460 [==============================] - 12s 25ms/step - loss: 0.2918 - accuracy: 0.9042 - val_loss: 0.5336 - val_accuracy: 0.8599\n",
      "Epoch 9/30\n",
      "460/460 [==============================] - 10s 23ms/step - loss: 0.2626 - accuracy: 0.9172 - val_loss: 0.6646 - val_accuracy: 0.8497\n",
      "Epoch 10/30\n",
      "460/460 [==============================] - 10s 21ms/step - loss: 0.2325 - accuracy: 0.9199 - val_loss: 0.5463 - val_accuracy: 0.8544\n",
      "Epoch 11/30\n",
      "460/460 [==============================] - 10s 22ms/step - loss: 0.1965 - accuracy: 0.9309 - val_loss: 0.5368 - val_accuracy: 0.8724\n",
      "Epoch 12/30\n",
      "460/460 [==============================] - 10s 22ms/step - loss: 0.1973 - accuracy: 0.9353 - val_loss: 0.6837 - val_accuracy: 0.8588\n",
      "Epoch 13/30\n",
      "460/460 [==============================] - 10s 22ms/step - loss: 0.1949 - accuracy: 0.9372 - val_loss: 0.4574 - val_accuracy: 0.8728\n",
      "Epoch 14/30\n",
      "460/460 [==============================] - 10s 23ms/step - loss: 0.1821 - accuracy: 0.9393 - val_loss: 0.4181 - val_accuracy: 0.8914\n",
      "Epoch 15/30\n",
      "460/460 [==============================] - 10s 23ms/step - loss: 0.1759 - accuracy: 0.9396 - val_loss: 0.4940 - val_accuracy: 0.8884\n",
      "Epoch 16/30\n",
      "460/460 [==============================] - 11s 24ms/step - loss: 0.1758 - accuracy: 0.9429 - val_loss: 0.3823 - val_accuracy: 0.8887\n",
      "Epoch 17/30\n",
      "460/460 [==============================] - 12s 26ms/step - loss: 0.1885 - accuracy: 0.9384 - val_loss: 0.4871 - val_accuracy: 0.8829\n",
      "Epoch 18/30\n",
      "460/460 [==============================] - 10s 22ms/step - loss: 0.1742 - accuracy: 0.9407 - val_loss: 0.3550 - val_accuracy: 0.9013\n",
      "Epoch 19/30\n",
      "460/460 [==============================] - 10s 23ms/step - loss: 0.1436 - accuracy: 0.9470 - val_loss: 0.4551 - val_accuracy: 0.9030\n",
      "Epoch 20/30\n",
      "460/460 [==============================] - 10s 21ms/step - loss: 0.1524 - accuracy: 0.9482 - val_loss: 0.4264 - val_accuracy: 0.8979\n",
      "Epoch 21/30\n",
      "460/460 [==============================] - 11s 24ms/step - loss: 0.1473 - accuracy: 0.9456 - val_loss: 0.5229 - val_accuracy: 0.8877\n",
      "Epoch 22/30\n",
      "460/460 [==============================] - 11s 24ms/step - loss: 0.1495 - accuracy: 0.9471 - val_loss: 0.5587 - val_accuracy: 0.8931\n",
      "Epoch 23/30\n",
      "460/460 [==============================] - 11s 23ms/step - loss: 0.1445 - accuracy: 0.9482 - val_loss: 0.4863 - val_accuracy: 0.8941\n",
      "Epoch 24/30\n",
      "460/460 [==============================] - 11s 24ms/step - loss: 0.1470 - accuracy: 0.9474 - val_loss: 0.5227 - val_accuracy: 0.8941\n",
      "Epoch 25/30\n",
      "460/460 [==============================] - 10s 21ms/step - loss: 0.1400 - accuracy: 0.9476 - val_loss: 0.4964 - val_accuracy: 0.9019\n",
      "Epoch 26/30\n",
      "460/460 [==============================] - 10s 22ms/step - loss: 0.1375 - accuracy: 0.9474 - val_loss: 0.5823 - val_accuracy: 0.9023\n",
      "Epoch 27/30\n",
      "460/460 [==============================] - 10s 21ms/step - loss: 0.1407 - accuracy: 0.9467 - val_loss: 0.4303 - val_accuracy: 0.9019\n",
      "Epoch 28/30\n",
      "460/460 [==============================] - 10s 22ms/step - loss: 0.1470 - accuracy: 0.9476 - val_loss: 0.4500 - val_accuracy: 0.9016\n",
      "Epoch 29/30\n",
      "460/460 [==============================] - 11s 23ms/step - loss: 0.1518 - accuracy: 0.9486 - val_loss: 0.4530 - val_accuracy: 0.8985\n",
      "Epoch 30/30\n",
      "460/460 [==============================] - 11s 23ms/step - loss: 0.1401 - accuracy: 0.9497 - val_loss: 0.3653 - val_accuracy: 0.9077\n"
     ]
    },
    {
     "data": {
      "text/plain": [
       "<keras.src.callbacks.History at 0x7f8776593f10>"
      ]
     },
     "execution_count": 10,
     "metadata": {},
     "output_type": "execute_result"
    }
   ],
   "source": [
    "# Training the model\n",
    "model.fit(X_train, Y_train, batch_size=batch_size, validation_data=(X_test, Y_test),epochs=epochs)"
   ]
  },
  {
   "cell_type": "code",
   "execution_count": 11,
   "metadata": {},
   "outputs": [],
   "source": [
    "def generate_confusion_matrix(Y_true, Y_pred):\n",
    "    Y_true = pd.Series([ACTIVITIES[y] for y in np.argmax(Y_true, axis=1)])\n",
    "    Y_pred = pd.Series([ACTIVITIES[y] for y in np.argmax(Y_pred, axis=1)])\n",
    "    return pd.crosstab(Y_true, Y_pred, rownames=['True'], colnames=['Pred'])"
   ]
  },
  {
   "cell_type": "code",
   "execution_count": 12,
   "metadata": {},
   "outputs": [
    {
     "name": "stdout",
     "output_type": "stream",
     "text": [
      "93/93 [==============================] - 1s 7ms/step\n"
     ]
    }
   ],
   "source": [
    "#Generate Confusion Matrix\n",
    "confusion_matrix = generate_confusion_matrix(Y_test, model.predict(X_test))"
   ]
  },
  {
   "cell_type": "code",
   "execution_count": 13,
   "metadata": {},
   "outputs": [
    {
     "name": "stderr",
     "output_type": "stream",
     "text": [
      "/var/folders/_z/7xh85xcn7rd84tynktgvzyrr0000gn/T/ipykernel_15875/548805115.py:4: FutureWarning: Support for multi-dimensional indexing (e.g. `obj[:, None]`) is deprecated and will be removed in a future version.  Convert to a numpy array before indexing instead.\n",
      "  normalized_cm = confusion_matrix.astype('float') / confusion_matrix.sum(axis=1)[:, np.newaxis]\n"
     ]
    },
    {
     "data": {
      "image/png": "[encoded data removed]",
      "text/plain": [
       "<Figure size 720x720 with 2 Axes>"
      ]
     },
     "metadata": {
      "needs_background": "light"
     },
     "output_type": "display_data"
    }
   ],
   "source": [
    "#Plot Normalized Confusion Matrix\n",
    "\n",
    "# Calculate normalized confusion matrix\n",
    "normalized_cm = confusion_matrix.astype('float') / confusion_matrix.sum(axis=1)[:, np.newaxis]\n",
    "\n",
    "#List out target names\n",
    "target_names = ['LAYING', 'SITTING', 'STANDING', 'WALKING', 'WALKING_DOWNSTAIRS', 'WALKING_UPSTAIRS']\n",
    "\n",
    "#Use seaborn to plot heat map of confusion matrix\n",
    "fig, ax = plt.subplots(figsize=(10,10))\n",
    "sns.heatmap(normalized_cm, annot=True, fmt='.2f', xticklabels = target_names, yticklabels = target_names)\n",
    "plt.ylabel('True Label')\n",
    "plt.xlabel('Predicted Label')\n",
    "plt.show(block=False)"
   ]
  },
  {
   "cell_type": "code",
   "execution_count": 14,
   "metadata": {},
   "outputs": [
    {
     "name": "stdout",
     "output_type": "stream",
     "text": [
      "93/93 [==============================] - 1s 9ms/step - loss: 0.3653 - accuracy: 0.9077\n",
      "\n",
      "   cat_crossentropy  ||   accuracy \n",
      "  ____________________________________\n",
      "[0.3652690052986145, 0.9077027440071106]\n"
     ]
    }
   ],
   "source": [
    "score = model.evaluate(X_test, Y_test)\n",
    "\n",
    "print(\"\\n   cat_crossentropy  ||   accuracy \")\n",
    "print(\"  ____________________________________\")\n",
    "print(score)"
   ]
  },
  {
   "cell_type": "markdown",
   "metadata": {},
   "source": [
    "## Use 2 LSTM Layers"
   ]
  },
  {
   "cell_type": "code",
   "execution_count": 15,
   "metadata": {},
   "outputs": [],
   "source": [
    "##Hyperparameters\n",
    "epochs = 30\n",
    "batch_size = 16\n",
    "n_hidden_1 = 64\n",
    "dropout_p = 0.5\n",
    "n_hidden_2 = 32\n",
    "n_hidden_3 = 16"
   ]
  },
  {
   "cell_type": "code",
   "execution_count": 16,
   "metadata": {},
   "outputs": [
    {
     "name": "stdout",
     "output_type": "stream",
     "text": [
      "Model: \"sequential_1\"\n",
      "_________________________________________________________________\n",
      " Layer (type)                Output Shape              Param #   \n",
      "=================================================================\n",
      " lstm_1 (LSTM)               (None, 128, 64)           18944     \n",
      "                                                                 \n",
      " batch_normalization (Batch  (None, 128, 64)           256       \n",
      " Normalization)                                                  \n",
      "                                                                 \n",
      " dropout_1 (Dropout)         (None, 128, 64)           0         \n",
      "                                                                 \n",
      " lstm_2 (LSTM)               (None, 32)                12416     \n",
      "                                                                 \n",
      " batch_normalization_1 (Bat  (None, 32)                128       \n",
      " chNormalization)                                                \n",
      "                                                                 \n",
      " dropout_2 (Dropout)         (None, 32)                0         \n",
      "                                                                 \n",
      " dense_2 (Dense)             (None, 16)                528       \n",
      "                                                                 \n",
      " dense_3 (Dense)             (None, 6)                 102       \n",
      "                                                                 \n",
      "=================================================================\n",
      "Total params: 32374 (126.46 KB)\n",
      "Trainable params: 32182 (125.71 KB)\n",
      "Non-trainable params: 192 (768.00 Byte)\n",
      "_________________________________________________________________\n"
     ]
    }
   ],
   "source": [
    "model = Sequential() #Initializing our Model Architecture\n",
    "\n",
    "#Define LSTM Layer with Batch Normalization\n",
    "model.add(LSTM(n_hidden_1, input_shape=(T, D), return_sequences=True))\n",
    "model.add(BatchNormalization())\n",
    "\n",
    "#Define Dropout Layer\n",
    "model.add(Dropout(dropout_p))\n",
    "\n",
    "#Define the second LSTM Layer with Batch Normalization\n",
    "model.add(LSTM(n_hidden_2))\n",
    "model.add(BatchNormalization())\n",
    "\n",
    "#Define Dropout Layer\n",
    "model.add(Dropout(dropout_p))\n",
    "\n",
    "#Define Dense Layer\n",
    "model.add(Dense(n_hidden_3, activation = 'relu'))\n",
    "\n",
    "#Define Dense Layer\n",
    "model.add(Dense(n_classes, activation = 'softmax'))\n",
    "\n",
    "#Print Model Summary\n",
    "model.summary()"
   ]
  },
  {
   "cell_type": "code",
   "execution_count": 17,
   "metadata": {},
   "outputs": [],
   "source": [
    "# Compiling the model\n",
    "model.compile(loss='categorical_crossentropy', optimizer='rmsprop', metrics=['accuracy'])"
   ]
  },
  {
   "cell_type": "code",
   "execution_count": 18,
   "metadata": {},
   "outputs": [
    {
     "name": "stdout",
     "output_type": "stream",
     "text": [
      "Epoch 1/30\n",
      "460/460 [==============================] - 27s 52ms/step - loss: 0.9308 - accuracy: 0.6359 - val_loss: 0.9114 - val_accuracy: 0.6966\n",
      "Epoch 2/30\n",
      "460/460 [==============================] - 26s 56ms/step - loss: 0.4340 - accuracy: 0.8441 - val_loss: 0.3309 - val_accuracy: 0.8968\n",
      "Epoch 3/30\n",
      "460/460 [==============================] - 26s 58ms/step - loss: 0.2932 - accuracy: 0.8999 - val_loss: 0.3984 - val_accuracy: 0.8880\n",
      "Epoch 4/30\n",
      "460/460 [==============================] - 23s 50ms/step - loss: 0.2333 - accuracy: 0.9221 - val_loss: 0.3232 - val_accuracy: 0.9158\n",
      "Epoch 5/30\n",
      "460/460 [==============================] - 23s 50ms/step - loss: 0.2276 - accuracy: 0.9248 - val_loss: 0.5851 - val_accuracy: 0.8571\n",
      "Epoch 6/30\n",
      "460/460 [==============================] - 24s 51ms/step - loss: 0.2164 - accuracy: 0.9271 - val_loss: 0.4160 - val_accuracy: 0.8982\n",
      "Epoch 7/30\n",
      "460/460 [==============================] - 24s 52ms/step - loss: 0.2394 - accuracy: 0.9246 - val_loss: 0.4661 - val_accuracy: 0.8721\n",
      "Epoch 8/30\n",
      "460/460 [==============================] - 23s 50ms/step - loss: 0.1872 - accuracy: 0.9340 - val_loss: 0.4008 - val_accuracy: 0.8924\n",
      "Epoch 9/30\n",
      "460/460 [==============================] - 24s 53ms/step - loss: 0.1854 - accuracy: 0.9384 - val_loss: 0.3510 - val_accuracy: 0.9135\n",
      "Epoch 10/30\n",
      "460/460 [==============================] - 24s 53ms/step - loss: 0.1746 - accuracy: 0.9393 - val_loss: 0.3641 - val_accuracy: 0.9070\n",
      "Epoch 11/30\n",
      "460/460 [==============================] - 24s 52ms/step - loss: 0.1711 - accuracy: 0.9397 - val_loss: 0.4959 - val_accuracy: 0.8972\n",
      "Epoch 12/30\n",
      "460/460 [==============================] - 23s 49ms/step - loss: 0.1853 - accuracy: 0.9427 - val_loss: 0.6425 - val_accuracy: 0.8958\n",
      "Epoch 13/30\n",
      "460/460 [==============================] - 23s 49ms/step - loss: 0.1644 - accuracy: 0.9365 - val_loss: 0.6374 - val_accuracy: 0.9057\n",
      "Epoch 14/30\n",
      "460/460 [==============================] - 23s 50ms/step - loss: 0.1712 - accuracy: 0.9436 - val_loss: 0.5776 - val_accuracy: 0.8890\n",
      "Epoch 15/30\n",
      "460/460 [==============================] - 24s 52ms/step - loss: 0.1573 - accuracy: 0.9431 - val_loss: 0.6423 - val_accuracy: 0.8992\n",
      "Epoch 16/30\n",
      "460/460 [==============================] - 27s 58ms/step - loss: 0.1735 - accuracy: 0.9415 - val_loss: 0.6470 - val_accuracy: 0.8975\n",
      "Epoch 17/30\n",
      "460/460 [==============================] - 28s 61ms/step - loss: 0.1709 - accuracy: 0.9461 - val_loss: 0.6308 - val_accuracy: 0.8999\n",
      "Epoch 18/30\n",
      "460/460 [==============================] - 27s 60ms/step - loss: 0.1628 - accuracy: 0.9410 - val_loss: 0.7737 - val_accuracy: 0.8799\n",
      "Epoch 19/30\n",
      "460/460 [==============================] - 25s 54ms/step - loss: 0.1580 - accuracy: 0.9467 - val_loss: 0.5055 - val_accuracy: 0.9009\n",
      "Epoch 20/30\n",
      "460/460 [==============================] - 24s 53ms/step - loss: 0.1845 - accuracy: 0.9378 - val_loss: 0.3946 - val_accuracy: 0.9114\n",
      "Epoch 21/30\n",
      "460/460 [==============================] - 25s 54ms/step - loss: 0.1672 - accuracy: 0.9434 - val_loss: 0.5144 - val_accuracy: 0.9002\n",
      "Epoch 22/30\n",
      "460/460 [==============================] - 24s 52ms/step - loss: 0.1619 - accuracy: 0.9431 - val_loss: 0.5323 - val_accuracy: 0.9019\n",
      "Epoch 23/30\n",
      "460/460 [==============================] - 26s 57ms/step - loss: 0.1671 - accuracy: 0.9414 - val_loss: 0.5368 - val_accuracy: 0.9009\n",
      "Epoch 24/30\n",
      "460/460 [==============================] - 28s 60ms/step - loss: 0.1474 - accuracy: 0.9471 - val_loss: 0.4943 - val_accuracy: 0.9097\n",
      "Epoch 25/30\n",
      "460/460 [==============================] - 24s 52ms/step - loss: 0.1677 - accuracy: 0.9431 - val_loss: 0.6123 - val_accuracy: 0.9104\n",
      "Epoch 26/30\n",
      "460/460 [==============================] - 24s 52ms/step - loss: 0.1720 - accuracy: 0.9442 - val_loss: 0.4556 - val_accuracy: 0.9108\n",
      "Epoch 27/30\n",
      "460/460 [==============================] - 29s 63ms/step - loss: 0.1550 - accuracy: 0.9457 - val_loss: 0.5686 - val_accuracy: 0.9033\n",
      "Epoch 28/30\n",
      "460/460 [==============================] - 26s 57ms/step - loss: 0.2250 - accuracy: 0.9347 - val_loss: 0.4854 - val_accuracy: 0.9189\n",
      "Epoch 29/30\n",
      "460/460 [==============================] - 26s 56ms/step - loss: 0.1680 - accuracy: 0.9425 - val_loss: 0.4985 - val_accuracy: 0.8968\n",
      "Epoch 30/30\n",
      "460/460 [==============================] - 24s 52ms/step - loss: 0.1580 - accuracy: 0.9474 - val_loss: 0.4041 - val_accuracy: 0.9186\n"
     ]
    },
    {
     "data": {
      "text/plain": [
       "<keras.src.callbacks.History at 0x7f87762f3e80>"
      ]
     },
     "execution_count": 18,
     "metadata": {},
     "output_type": "execute_result"
    }
   ],
   "source": [
    "# Training the model\n",
    "model.fit(X_train, Y_train, batch_size=batch_size, validation_data=(X_test, Y_test),epochs=epochs)"
   ]
  },
  {
   "cell_type": "code",
   "execution_count": 19,
   "metadata": {},
   "outputs": [
    {
     "name": "stdout",
     "output_type": "stream",
     "text": [
      "93/93 [==============================] - 2s 17ms/step\n"
     ]
    }
   ],
   "source": [
    "#Generate Confusion Matrix\n",
    "confusion_matrix = generate_confusion_matrix(Y_test, model.predict(X_test))"
   ]
  },
  {
   "cell_type": "code",
   "execution_count": 20,
   "metadata": {},
   "outputs": [
    {
     "name": "stderr",
     "output_type": "stream",
     "text": [
      "/var/folders/_z/7xh85xcn7rd84tynktgvzyrr0000gn/T/ipykernel_15875/548805115.py:4: FutureWarning: Support for multi-dimensional indexing (e.g. `obj[:, None]`) is deprecated and will be removed in a future version.  Convert to a numpy array before indexing instead.\n",
      "  normalized_cm = confusion_matrix.astype('float') / confusion_matrix.sum(axis=1)[:, np.newaxis]\n"
     ]
    },
    {
     "data": {
      "image/png": "[encoded data removed]",
      "text/plain": [
       "<Figure size 720x720 with 2 Axes>"
      ]
     },
     "metadata": {
      "needs_background": "light"
     },
     "output_type": "display_data"
    }
   ],
   "source": [
    "#Plot Normalized Confusion Matrix\n",
    "\n",
    "# Calculate normalized confusion matrix\n",
    "normalized_cm = confusion_matrix.astype('float') / confusion_matrix.sum(axis=1)[:, np.newaxis]\n",
    "\n",
    "#List out target names\n",
    "target_names = ['LAYING', 'SITTING', 'STANDING', 'WALKING', 'WALKING_DOWNSTAIRS', 'WALKING_UPSTAIRS']\n",
    "\n",
    "#Use seaborn to plot heat map of confusion matrix\n",
    "fig, ax = plt.subplots(figsize=(10,10))\n",
    "sns.heatmap(normalized_cm, annot=True, fmt='.2f', xticklabels = target_names, yticklabels = target_names)\n",
    "plt.ylabel('True Label')\n",
    "plt.xlabel('Predicted Label')\n",
    "plt.show(block=False)"
   ]
  },
  {
   "cell_type": "code",
   "execution_count": 21,
   "metadata": {},
   "outputs": [
    {
     "name": "stdout",
     "output_type": "stream",
     "text": [
      "93/93 [==============================] - 2s 16ms/step - loss: 0.4041 - accuracy: 0.9186\n",
      "\n",
      "   cat_crossentropy  ||   accuracy \n",
      "  ____________________________________\n",
      "[0.4040808081626892, 0.9185612201690674]\n"
     ]
    }
   ],
   "source": [
    "score = model.evaluate(X_test, Y_test)\n",
    "\n",
    "print(\"\\n   cat_crossentropy  ||   accuracy \")\n",
    "print(\"  ____________________________________\")\n",
    "print(score)"
   ]
  }
 ],
 "metadata": {
  "kernelspec": {
   "display_name": "base",
   "language": "python",
   "name": "python3"
  },
  "language_info": {
   "codemirror_mode": {
    "name": "ipython",
    "version": 3
   },
   "file_extension": ".py",
   "mimetype": "text/x-python",
   "name": "python",
   "nbconvert_exporter": "python",
   "pygments_lexer": "ipython3",
   "version": "3.9.12"
  }
 },
 "nbformat": 4,
 "nbformat_minor": 2
}
