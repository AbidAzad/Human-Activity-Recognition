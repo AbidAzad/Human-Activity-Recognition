{
 "cells": [
  {
   "cell_type": "markdown",
   "metadata": {},
   "source": [
    "# Import Libraries"
   ]
  },
  {
   "cell_type": "code",
   "execution_count": 1,
   "metadata": {},
   "outputs": [
    {
     "name": "stderr",
     "output_type": "stream",
     "text": [
      "2023-12-07 19:33:32.902447: I tensorflow/core/platform/cpu_feature_guard.cc:182] This TensorFlow binary is optimized to use available CPU instructions in performance-critical operations.\n",
      "To enable the following instructions: AVX2 FMA, in other operations, rebuild TensorFlow with the appropriate compiler flags.\n"
     ]
    }
   ],
   "source": [
    "import pandas as pd\n",
    "import numpy as np\n",
    "\n",
    "#Use Keras Neural Network Components. This will be used to construct the LSTM\n",
    "from keras import backend as K\n",
    "from keras.models import Sequential\n",
    "from keras.layers import LSTM\n",
    "from keras.layers import Dense, Dropout\n",
    "from keras.layers import BatchNormalization\n",
    "from keras.layers import LayerNormalization\n",
    "from keras.layers import MultiHeadAttention\n",
    "from keras.regularizers import L1L2\n",
    "from keras.layers import Layer\n",
    "from keras import Model\n",
    "\n",
    "#Import Tensorflow \n",
    "import tensorflow as tf\n",
    "\n",
    "#Plotting Libraries\n",
    "import matplotlib.pyplot as plt\n",
    "import seaborn as sns"
   ]
  },
  {
   "cell_type": "markdown",
   "metadata": {},
   "source": [
    "# Ensure Reproducability of Results"
   ]
  },
  {
   "cell_type": "code",
   "execution_count": 2,
   "metadata": {},
   "outputs": [],
   "source": [
    "np.random.seed(42)\n",
    "tf.random.set_seed(42)"
   ]
  },
  {
   "cell_type": "markdown",
   "metadata": {},
   "source": [
    "# Fetch and Set Up Data"
   ]
  },
  {
   "cell_type": "code",
   "execution_count": 3,
   "metadata": {},
   "outputs": [],
   "source": [
    "#Numerically Encode the Activities\n",
    "ACTIVITIES = {\n",
    "    0: 'WALKING',\n",
    "    1: 'WALKING_UPSTAIRS',\n",
    "    2: 'WALKING_DOWNSTAIRS',\n",
    "    3: 'SITTING',\n",
    "    4: 'STANDING',\n",
    "    5: 'LAYING',\n",
    "}"
   ]
  },
  {
   "cell_type": "code",
   "execution_count": 4,
   "metadata": {},
   "outputs": [],
   "source": [
    "DATDIR = \"data/UCI HAR Dataset\"\n",
    "SIGNALS = [\n",
    "    \"body_acc_x\",\n",
    "    \"body_acc_y\",\n",
    "    \"body_acc_z\",\n",
    "    \"body_gyro_x\",\n",
    "    \"body_gyro_y\",\n",
    "    \"body_gyro_z\",\n",
    "    \"gravity_acc_x\",\n",
    "    \"gravity_acc_y\",\n",
    "    \"gravity_acc_z\"\n",
    "    ]"
   ]
  },
  {
   "cell_type": "code",
   "execution_count": 5,
   "metadata": {},
   "outputs": [],
   "source": [
    "#train_test: 0 if we want to fetch the training signal data, 1 if we want to fetch the test signal data\n",
    "def fetch_raw_signal_data(train_test, signal):\n",
    "    file_path = DATDIR + f\"/{'train' if train_test == 0 else 'test'}/Inertial Signals/{signal}_{'train' if train_test == 0 else 'test'}.txt\"\n",
    "    return pd.read_csv(file_path, delim_whitespace = True, header = None)\n",
    "\n",
    "#Same purpose as previous function but, in this case, we are fetching ALL the raw signal data!\n",
    "#train_test: 0 if we want to fetch the training signal data, 1 if we want to fetch the test signal data\n",
    "def fetch_all_raw_signals(train_test):\n",
    "    data_raw_signals = []\n",
    "    for signal in SIGNALS:\n",
    "        raw_signal_data = fetch_raw_signal_data(train_test, signal).to_numpy()\n",
    "        data_raw_signals.append(raw_signal_data)\n",
    "    \n",
    "    data_raw_signals = np.array(data_raw_signals)\n",
    "    return np.transpose(data_raw_signals, axes = (1, 2, 0))\n",
    "\n",
    "#Fetch Labels\n",
    "#train_test: 0 if we want to fetch the training signal data, 1 if we want to fetch the test signal data\n",
    "def fetch_labels(train_test):\n",
    "    file_path = DATDIR + f\"/{'train' if train_test == 0 else 'test'}/y_{'train' if train_test == 0 else 'test'}.txt\"\n",
    "    return pd.get_dummies(pd.read_csv(file_path, delim_whitespace=True, header = None)[0]).to_numpy()"
   ]
  },
  {
   "cell_type": "code",
   "execution_count": 6,
   "metadata": {},
   "outputs": [
    {
     "name": "stdout",
     "output_type": "stream",
     "text": [
      "7352 128 9\n",
      "6\n",
      "(7352, 128, 9) (7352, 6)\n"
     ]
    }
   ],
   "source": [
    "X_train, X_test, Y_train, Y_test = fetch_all_raw_signals(0), fetch_all_raw_signals(1), fetch_labels(0), fetch_labels(1)\n",
    "\n",
    "N = X_train.shape[0]\n",
    "T = X_train.shape[1]\n",
    "D = X_train.shape[2]\n",
    "\n",
    "print(N, T, D)\n",
    "\n",
    "n_classes = Y_train.shape[1]\n",
    "print(n_classes)\n",
    "print(X_train.shape, Y_train.shape)"
   ]
  },
  {
   "cell_type": "markdown",
   "metadata": {},
   "source": [
    "# Define LSTM Architecture"
   ]
  },
  {
   "cell_type": "markdown",
   "metadata": {},
   "source": [
    "## Architecture 1: 2 LSTM Layers With Attention Layer"
   ]
  },
  {
   "cell_type": "code",
   "execution_count": 7,
   "metadata": {},
   "outputs": [],
   "source": [
    "##Hyperparameters\n",
    "epochs = 30\n",
    "batch_size = 16\n",
    "\n",
    "n_hidden_1 = 64\n",
    "n_hidden_2 = 32\n",
    "n_hidden_3 = 16\n",
    "n_hidden_4 = 8\n",
    "\n",
    "dropout_p = 0.5\n",
    "num_heads = 6"
   ]
  },
  {
   "cell_type": "code",
   "execution_count": 8,
   "metadata": {},
   "outputs": [],
   "source": [
    "class AttentionBlock(Layer):\n",
    "    def __init__(self, num_heads, key_dim, fc_dim):\n",
    "        super().__init__()\n",
    "        self.dropout = Dropout(0.1)\n",
    "        self.attention = MultiHeadAttention(num_heads = num_heads, key_dim = key_dim, value_dim = key_dim)\n",
    "        self.fc = Sequential([Dense(fc_dim, activation=\"relu\")])\n",
    "        \n",
    "    def call(self, inputs, training):\n",
    "        attention_output = self.attention(inputs, inputs)\n",
    "        attention_output = self.dropout(attention_output, training = training)        \n",
    "        fc_output = self.fc(attention_output)\n",
    "        fc_output = self.dropout(fc_output, training = training)\n",
    "        return fc_output\n"
   ]
  },
  {
   "cell_type": "code",
   "execution_count": 9,
   "metadata": {},
   "outputs": [
    {
     "name": "stdout",
     "output_type": "stream",
     "text": [
      "Model: \"sequential\"\n",
      "_________________________________________________________________\n",
      " Layer (type)                Output Shape              Param #   \n",
      "=================================================================\n",
      " lstm (LSTM)                 (None, 128, 64)           18944     \n",
      "                                                                 \n",
      " attention_block (Attention  (None, 128, 32)           101600    \n",
      " Block)                                                          \n",
      "                                                                 \n",
      " batch_normalization (Batch  (None, 128, 32)           128       \n",
      " Normalization)                                                  \n",
      "                                                                 \n",
      " lstm_1 (LSTM)               (None, 16)                3136      \n",
      "                                                                 \n",
      " batch_normalization_1 (Bat  (None, 16)                64        \n",
      " chNormalization)                                                \n",
      "                                                                 \n",
      " dense_1 (Dense)             (None, 8)                 136       \n",
      "                                                                 \n",
      " dropout_1 (Dropout)         (None, 8)                 0         \n",
      "                                                                 \n",
      " dense_2 (Dense)             (None, 6)                 54        \n",
      "                                                                 \n",
      "=================================================================\n",
      "Total params: 124062 (484.62 KB)\n",
      "Trainable params: 123966 (484.24 KB)\n",
      "Non-trainable params: 96 (384.00 Byte)\n",
      "_________________________________________________________________\n"
     ]
    }
   ],
   "source": [
    "model = Sequential() #Initializing our Model Architecture\n",
    "\n",
    "model.add(LSTM(n_hidden_1, input_shape = (T, D), return_sequences=True)) # Add an LSTM Layer\n",
    "model.add(AttentionBlock(num_heads = num_heads, key_dim = n_hidden_1, fc_dim = n_hidden_2)) #Add a Multihead Attention Layer\n",
    "model.add(BatchNormalization()) #Add Batch Normalization Layer\n",
    "\n",
    "model.add(LSTM(n_hidden_3)) #Add another LSTM to come after the AttentionBlock\n",
    "model.add(BatchNormalization()) #Add Batch Normalization Layer\n",
    "\n",
    "model.add(Dense(n_hidden_4, activation = \"relu\")) #Add another Dense Layer\n",
    "model.add(Dropout(dropout_p)) # Adding a dropout layer\n",
    "model.add(Dense(n_classes, activation = 'softmax')) #Adding a Dense Layer with the Softmax Activation Function\n",
    "\n",
    "model.summary() #Display a Summary of our model architecture"
   ]
  },
  {
   "cell_type": "code",
   "execution_count": 10,
   "metadata": {},
   "outputs": [],
   "source": [
    "# Compiling the model\n",
    "model.compile(loss='categorical_crossentropy', optimizer='rmsprop', metrics=['accuracy'])"
   ]
  },
  {
   "cell_type": "code",
   "execution_count": 11,
   "metadata": {},
   "outputs": [
    {
     "name": "stdout",
     "output_type": "stream",
     "text": [
      "Epoch 1/30\n",
      "460/460 [==============================] - 63s 128ms/step - loss: 1.2395 - accuracy: 0.4421 - val_loss: 1.2694 - val_accuracy: 0.5446\n",
      "Epoch 2/30\n",
      "460/460 [==============================] - 58s 127ms/step - loss: 0.8506 - accuracy: 0.5817 - val_loss: 0.3811 - val_accuracy: 0.7964\n",
      "Epoch 3/30\n",
      "460/460 [==============================] - 65s 142ms/step - loss: 0.7784 - accuracy: 0.6130 - val_loss: 1.1017 - val_accuracy: 0.6396\n",
      "Epoch 4/30\n",
      "460/460 [==============================] - 65s 142ms/step - loss: 0.7304 - accuracy: 0.6311 - val_loss: 0.6825 - val_accuracy: 0.7408\n",
      "Epoch 5/30\n",
      "460/460 [==============================] - 60s 129ms/step - loss: 0.7117 - accuracy: 0.6375 - val_loss: 0.4097 - val_accuracy: 0.7947\n",
      "Epoch 6/30\n",
      "460/460 [==============================] - 59s 127ms/step - loss: 0.7074 - accuracy: 0.6249 - val_loss: 0.4040 - val_accuracy: 0.8015\n",
      "Epoch 7/30\n",
      "460/460 [==============================] - 64s 140ms/step - loss: 0.6928 - accuracy: 0.6391 - val_loss: 0.3860 - val_accuracy: 0.8198\n",
      "Epoch 8/30\n",
      "460/460 [==============================] - 66s 143ms/step - loss: 0.6972 - accuracy: 0.6371 - val_loss: 0.3987 - val_accuracy: 0.8066\n",
      "Epoch 9/30\n",
      "460/460 [==============================] - 69s 149ms/step - loss: 0.6983 - accuracy: 0.6336 - val_loss: 0.3837 - val_accuracy: 0.8062\n",
      "Epoch 10/30\n",
      "460/460 [==============================] - 58s 125ms/step - loss: 0.6919 - accuracy: 0.6419 - val_loss: 0.4192 - val_accuracy: 0.8096\n",
      "Epoch 11/30\n",
      "460/460 [==============================] - 54s 118ms/step - loss: 0.6887 - accuracy: 0.6496 - val_loss: 0.3436 - val_accuracy: 0.8191\n",
      "Epoch 12/30\n",
      "460/460 [==============================] - 56s 122ms/step - loss: 0.6683 - accuracy: 0.6427 - val_loss: 0.4415 - val_accuracy: 0.8185\n",
      "Epoch 13/30\n",
      "460/460 [==============================] - 55s 119ms/step - loss: 0.7057 - accuracy: 0.6404 - val_loss: 0.4316 - val_accuracy: 0.7998\n",
      "Epoch 14/30\n",
      "460/460 [==============================] - 54s 118ms/step - loss: 0.6633 - accuracy: 0.6493 - val_loss: 4.1940 - val_accuracy: 0.6444\n",
      "Epoch 15/30\n",
      "460/460 [==============================] - 54s 117ms/step - loss: 0.6933 - accuracy: 0.6449 - val_loss: 0.4295 - val_accuracy: 0.8195\n",
      "Epoch 16/30\n",
      "460/460 [==============================] - 54s 117ms/step - loss: 0.6735 - accuracy: 0.6578 - val_loss: 0.5441 - val_accuracy: 0.8062\n",
      "Epoch 17/30\n",
      "460/460 [==============================] - 54s 117ms/step - loss: 0.6568 - accuracy: 0.6597 - val_loss: 0.4771 - val_accuracy: 0.8205\n",
      "Epoch 18/30\n",
      "460/460 [==============================] - 54s 117ms/step - loss: 0.6700 - accuracy: 0.6606 - val_loss: 0.4931 - val_accuracy: 0.7798\n",
      "Epoch 19/30\n",
      "460/460 [==============================] - 54s 116ms/step - loss: 0.6543 - accuracy: 0.6529 - val_loss: 0.5165 - val_accuracy: 0.8137\n",
      "Epoch 20/30\n",
      "460/460 [==============================] - 55s 119ms/step - loss: 0.6488 - accuracy: 0.6613 - val_loss: 0.5245 - val_accuracy: 0.8171\n",
      "Epoch 21/30\n",
      "460/460 [==============================] - 54s 117ms/step - loss: 0.6679 - accuracy: 0.6640 - val_loss: 0.4228 - val_accuracy: 0.8402\n",
      "Epoch 22/30\n",
      "460/460 [==============================] - 53s 116ms/step - loss: 0.6469 - accuracy: 0.6617 - val_loss: 0.5129 - val_accuracy: 0.8049\n",
      "Epoch 23/30\n",
      "460/460 [==============================] - 54s 117ms/step - loss: 0.6772 - accuracy: 0.6625 - val_loss: 0.4545 - val_accuracy: 0.8059\n",
      "Epoch 24/30\n",
      "460/460 [==============================] - 55s 119ms/step - loss: 0.6486 - accuracy: 0.6771 - val_loss: 0.8245 - val_accuracy: 0.8188\n",
      "Epoch 25/30\n",
      "460/460 [==============================] - 54s 117ms/step - loss: 0.6436 - accuracy: 0.6711 - val_loss: 0.4979 - val_accuracy: 0.8045\n",
      "Epoch 26/30\n",
      "460/460 [==============================] - 54s 118ms/step - loss: 0.6506 - accuracy: 0.6746 - val_loss: 0.3891 - val_accuracy: 0.8093\n",
      "Epoch 27/30\n",
      "460/460 [==============================] - 54s 117ms/step - loss: 0.6747 - accuracy: 0.6697 - val_loss: 0.7974 - val_accuracy: 0.7964\n",
      "Epoch 28/30\n",
      "460/460 [==============================] - 54s 118ms/step - loss: 0.6604 - accuracy: 0.6795 - val_loss: 0.5554 - val_accuracy: 0.8110\n",
      "Epoch 29/30\n",
      "460/460 [==============================] - 54s 117ms/step - loss: 0.6606 - accuracy: 0.6723 - val_loss: 0.4456 - val_accuracy: 0.8643\n",
      "Epoch 30/30\n",
      "460/460 [==============================] - 55s 119ms/step - loss: 0.6642 - accuracy: 0.6752 - val_loss: 0.7404 - val_accuracy: 0.7971\n"
     ]
    },
    {
     "data": {
      "text/plain": [
       "<keras.src.callbacks.History at 0x7f7b219a06a0>"
      ]
     },
     "execution_count": 11,
     "metadata": {},
     "output_type": "execute_result"
    }
   ],
   "source": [
    "# Training the model\n",
    "model.fit(X_train, Y_train, batch_size=batch_size, validation_data=(X_test, Y_test),epochs=epochs)"
   ]
  },
  {
   "cell_type": "code",
   "execution_count": 12,
   "metadata": {},
   "outputs": [],
   "source": [
    "def generate_confusion_matrix(Y_true, Y_pred):\n",
    "    Y_true = pd.Series([ACTIVITIES[y] for y in np.argmax(Y_true, axis=1)])\n",
    "    Y_pred = pd.Series([ACTIVITIES[y] for y in np.argmax(Y_pred, axis=1)])\n",
    "    return pd.crosstab(Y_true, Y_pred, rownames=['True'], colnames=['Pred'])"
   ]
  },
  {
   "cell_type": "code",
   "execution_count": 13,
   "metadata": {},
   "outputs": [
    {
     "name": "stdout",
     "output_type": "stream",
     "text": [
      "93/93 [==============================] - 7s 69ms/step\n"
     ]
    }
   ],
   "source": [
    "#Generate Confusion Matrix\n",
    "confusion_matrix = generate_confusion_matrix(Y_test, model.predict(X_test))"
   ]
  },
  {
   "cell_type": "code",
   "execution_count": 14,
   "metadata": {},
   "outputs": [
    {
     "name": "stderr",
     "output_type": "stream",
     "text": [
      "/var/folders/_z/7xh85xcn7rd84tynktgvzyrr0000gn/T/ipykernel_51970/548805115.py:4: FutureWarning: Support for multi-dimensional indexing (e.g. `obj[:, None]`) is deprecated and will be removed in a future version.  Convert to a numpy array before indexing instead.\n",
      "  normalized_cm = confusion_matrix.astype('float') / confusion_matrix.sum(axis=1)[:, np.newaxis]\n"
     ]
    },
    {
     "data": {
      "image/png": "[encoded data removed]",
      "text/plain": [
       "<Figure size 720x720 with 2 Axes>"
      ]
     },
     "metadata": {
      "needs_background": "light"
     },
     "output_type": "display_data"
    }
   ],
   "source": [
    "#Plot Normalized Confusion Matrix\n",
    "\n",
    "# Calculate normalized confusion matrix\n",
    "normalized_cm = confusion_matrix.astype('float') / confusion_matrix.sum(axis=1)[:, np.newaxis]\n",
    "\n",
    "#List out target names\n",
    "target_names = ['LAYING', 'SITTING', 'STANDING', 'WALKING', 'WALKING_DOWNSTAIRS', 'WALKING_UPSTAIRS']\n",
    "\n",
    "#Use seaborn to plot heat map of confusion matrix\n",
    "fig, ax = plt.subplots(figsize=(10,10))\n",
    "sns.heatmap(normalized_cm, annot=True, fmt='.2f', xticklabels = target_names, yticklabels = target_names)\n",
    "plt.ylabel('True Label')\n",
    "plt.xlabel('Predicted Label')\n",
    "plt.show(block=False)"
   ]
  },
  {
   "cell_type": "code",
   "execution_count": 15,
   "metadata": {},
   "outputs": [
    {
     "name": "stdout",
     "output_type": "stream",
     "text": [
      "93/93 [==============================] - 6s 68ms/step - loss: 0.7404 - accuracy: 0.7971\n",
      "\n",
      "   cat_crossentropy  ||   accuracy \n",
      "  ____________________________________\n",
      "[0.7404440641403198, 0.7970817685127258]\n"
     ]
    }
   ],
   "source": [
    "score = model.evaluate(X_test, Y_test)\n",
    "\n",
    "print(\"\\n   cat_crossentropy  ||   accuracy \")\n",
    "print(\"  ____________________________________\")\n",
    "print(score)"
   ]
  },
  {
   "cell_type": "markdown",
   "metadata": {},
   "source": [
    "## Architecture 2: Use 2 LSTM Layers"
   ]
  },
  {
   "cell_type": "code",
   "execution_count": 16,
   "metadata": {},
   "outputs": [],
   "source": [
    "##Hyperparameters\n",
    "epochs = 30\n",
    "batch_size = 16\n",
    "n_hidden_1 = 64\n",
    "dropout_p = 0.5\n",
    "n_hidden_2 = 32\n",
    "n_hidden_3 = 16"
   ]
  },
  {
   "cell_type": "code",
   "execution_count": 17,
   "metadata": {},
   "outputs": [
    {
     "name": "stdout",
     "output_type": "stream",
     "text": [
      "Model: \"sequential_2\"\n",
      "_________________________________________________________________\n",
      " Layer (type)                Output Shape              Param #   \n",
      "=================================================================\n",
      " lstm_2 (LSTM)               (None, 128, 64)           18944     \n",
      "                                                                 \n",
      " batch_normalization_2 (Bat  (None, 128, 64)           256       \n",
      " chNormalization)                                                \n",
      "                                                                 \n",
      " dropout_2 (Dropout)         (None, 128, 64)           0         \n",
      "                                                                 \n",
      " lstm_3 (LSTM)               (None, 32)                12416     \n",
      "                                                                 \n",
      " batch_normalization_3 (Bat  (None, 32)                128       \n",
      " chNormalization)                                                \n",
      "                                                                 \n",
      " dropout_3 (Dropout)         (None, 32)                0         \n",
      "                                                                 \n",
      " dense_3 (Dense)             (None, 16)                528       \n",
      "                                                                 \n",
      " dense_4 (Dense)             (None, 6)                 102       \n",
      "                                                                 \n",
      "=================================================================\n",
      "Total params: 32374 (126.46 KB)\n",
      "Trainable params: 32182 (125.71 KB)\n",
      "Non-trainable params: 192 (768.00 Byte)\n",
      "_________________________________________________________________\n"
     ]
    }
   ],
   "source": [
    "model = Sequential() #Initializing our Model Architecture\n",
    "\n",
    "#Define LSTM Layer with Batch Normalization\n",
    "model.add(LSTM(n_hidden_1, input_shape=(T, D), return_sequences=True))\n",
    "model.add(BatchNormalization())\n",
    "\n",
    "#Define Dropout Layer\n",
    "model.add(Dropout(dropout_p))\n",
    "\n",
    "#Define the second LSTM Layer with Batch Normalization\n",
    "model.add(LSTM(n_hidden_2))\n",
    "model.add(BatchNormalization())\n",
    "\n",
    "#Define Dropout Layer\n",
    "model.add(Dropout(dropout_p))\n",
    "\n",
    "#Define Dense Layer\n",
    "model.add(Dense(n_hidden_3, activation = 'relu'))\n",
    "\n",
    "#Define Dense Layer\n",
    "model.add(Dense(n_classes, activation = 'softmax'))\n",
    "\n",
    "#Print Model Summary\n",
    "model.summary()"
   ]
  },
  {
   "cell_type": "code",
   "execution_count": 18,
   "metadata": {},
   "outputs": [],
   "source": [
    "# Compiling the model\n",
    "model.compile(loss='categorical_crossentropy', optimizer='rmsprop', metrics=['accuracy'])"
   ]
  },
  {
   "cell_type": "code",
   "execution_count": 19,
   "metadata": {},
   "outputs": [
    {
     "name": "stdout",
     "output_type": "stream",
     "text": [
      "Epoch 1/30\n",
      "460/460 [==============================] - 26s 51ms/step - loss: 0.9986 - accuracy: 0.5532 - val_loss: 0.6179 - val_accuracy: 0.7326\n",
      "Epoch 2/30\n",
      "460/460 [==============================] - 23s 50ms/step - loss: 0.5368 - accuracy: 0.7512 - val_loss: 1.1738 - val_accuracy: 0.6050\n",
      "Epoch 3/30\n",
      "460/460 [==============================] - 23s 49ms/step - loss: 0.4049 - accuracy: 0.8064 - val_loss: 0.5759 - val_accuracy: 0.8090\n",
      "Epoch 4/30\n",
      "460/460 [==============================] - 23s 49ms/step - loss: 0.3401 - accuracy: 0.8281 - val_loss: 0.4495 - val_accuracy: 0.8442\n",
      "Epoch 5/30\n",
      "460/460 [==============================] - 23s 49ms/step - loss: 0.3256 - accuracy: 0.8399 - val_loss: 0.4972 - val_accuracy: 0.7950\n",
      "Epoch 6/30\n",
      "460/460 [==============================] - 23s 51ms/step - loss: 0.3062 - accuracy: 0.8455 - val_loss: 0.5946 - val_accuracy: 0.7950\n",
      "Epoch 7/30\n",
      "460/460 [==============================] - 24s 51ms/step - loss: 0.3020 - accuracy: 0.8486 - val_loss: 0.4296 - val_accuracy: 0.8293\n",
      "Epoch 8/30\n",
      "460/460 [==============================] - 23s 49ms/step - loss: 0.2954 - accuracy: 0.8483 - val_loss: 0.4249 - val_accuracy: 0.8171\n",
      "Epoch 9/30\n",
      "460/460 [==============================] - 23s 49ms/step - loss: 0.2845 - accuracy: 0.8456 - val_loss: 3.8461 - val_accuracy: 0.5422\n",
      "Epoch 10/30\n",
      "460/460 [==============================] - 23s 50ms/step - loss: 0.2686 - accuracy: 0.8520 - val_loss: 1.0199 - val_accuracy: 0.7631\n",
      "Epoch 11/30\n",
      "460/460 [==============================] - 23s 50ms/step - loss: 0.2831 - accuracy: 0.8535 - val_loss: 0.4415 - val_accuracy: 0.8314\n",
      "Epoch 12/30\n",
      "460/460 [==============================] - 24s 52ms/step - loss: 0.2712 - accuracy: 0.8584 - val_loss: 0.4491 - val_accuracy: 0.8310\n",
      "Epoch 13/30\n",
      "460/460 [==============================] - 23s 50ms/step - loss: 0.2667 - accuracy: 0.8572 - val_loss: 0.5117 - val_accuracy: 0.8331\n",
      "Epoch 14/30\n",
      "460/460 [==============================] - 23s 49ms/step - loss: 0.2609 - accuracy: 0.8598 - val_loss: 0.3678 - val_accuracy: 0.8368\n",
      "Epoch 15/30\n",
      "460/460 [==============================] - 23s 50ms/step - loss: 0.2575 - accuracy: 0.8583 - val_loss: 0.4871 - val_accuracy: 0.8317\n",
      "Epoch 16/30\n",
      "460/460 [==============================] - 23s 50ms/step - loss: 0.2755 - accuracy: 0.8565 - val_loss: 0.5735 - val_accuracy: 0.8283\n",
      "Epoch 17/30\n",
      "460/460 [==============================] - 23s 50ms/step - loss: 0.2634 - accuracy: 0.8561 - val_loss: 0.5984 - val_accuracy: 0.8317\n",
      "Epoch 18/30\n",
      "460/460 [==============================] - 24s 51ms/step - loss: 0.2619 - accuracy: 0.8558 - val_loss: 0.4899 - val_accuracy: 0.8490\n",
      "Epoch 19/30\n",
      "460/460 [==============================] - 23s 50ms/step - loss: 0.2697 - accuracy: 0.8577 - val_loss: 0.4794 - val_accuracy: 0.8548\n",
      "Epoch 20/30\n",
      "460/460 [==============================] - 23s 50ms/step - loss: 0.2569 - accuracy: 0.8613 - val_loss: 0.3455 - val_accuracy: 0.8368\n",
      "Epoch 21/30\n",
      "460/460 [==============================] - 23s 51ms/step - loss: 0.2574 - accuracy: 0.8576 - val_loss: 0.5848 - val_accuracy: 0.8161\n",
      "Epoch 22/30\n",
      "460/460 [==============================] - 23s 50ms/step - loss: 0.2586 - accuracy: 0.8622 - val_loss: 0.5310 - val_accuracy: 0.8361\n",
      "Epoch 23/30\n",
      "460/460 [==============================] - 23s 50ms/step - loss: 0.2562 - accuracy: 0.8630 - val_loss: 0.3264 - val_accuracy: 0.8419\n",
      "Epoch 24/30\n",
      "460/460 [==============================] - 23s 51ms/step - loss: 0.2514 - accuracy: 0.8637 - val_loss: 0.4200 - val_accuracy: 0.8375\n",
      "Epoch 25/30\n",
      "460/460 [==============================] - 23s 50ms/step - loss: 0.2527 - accuracy: 0.8618 - val_loss: 0.4444 - val_accuracy: 0.8090\n",
      "Epoch 26/30\n",
      "460/460 [==============================] - 23s 49ms/step - loss: 0.2497 - accuracy: 0.8636 - val_loss: 0.5920 - val_accuracy: 0.8483\n",
      "Epoch 27/30\n",
      "460/460 [==============================] - 23s 50ms/step - loss: 0.2515 - accuracy: 0.8634 - val_loss: 0.4139 - val_accuracy: 0.8487\n",
      "Epoch 28/30\n",
      "460/460 [==============================] - 23s 50ms/step - loss: 0.2520 - accuracy: 0.8621 - val_loss: 0.5142 - val_accuracy: 0.8446\n",
      "Epoch 29/30\n",
      "460/460 [==============================] - 24s 52ms/step - loss: 0.2490 - accuracy: 0.8606 - val_loss: 0.4808 - val_accuracy: 0.8310\n",
      "Epoch 30/30\n",
      "460/460 [==============================] - 23s 51ms/step - loss: 0.2648 - accuracy: 0.8629 - val_loss: 0.8080 - val_accuracy: 0.8273\n"
     ]
    },
    {
     "data": {
      "text/plain": [
       "<keras.src.callbacks.History at 0x7f7b279af160>"
      ]
     },
     "execution_count": 19,
     "metadata": {},
     "output_type": "execute_result"
    }
   ],
   "source": [
    "# Training the model\n",
    "model.fit(X_train, Y_train, batch_size=batch_size, validation_data=(X_test, Y_test),epochs=epochs)"
   ]
  },
  {
   "cell_type": "code",
   "execution_count": 20,
   "metadata": {},
   "outputs": [
    {
     "name": "stdout",
     "output_type": "stream",
     "text": [
      "93/93 [==============================] - 2s 16ms/step\n"
     ]
    }
   ],
   "source": [
    "#Generate Confusion Matrix\n",
    "confusion_matrix = generate_confusion_matrix(Y_test, model.predict(X_test))"
   ]
  },
  {
   "cell_type": "code",
   "execution_count": 21,
   "metadata": {},
   "outputs": [
    {
     "name": "stderr",
     "output_type": "stream",
     "text": [
      "/var/folders/_z/7xh85xcn7rd84tynktgvzyrr0000gn/T/ipykernel_51970/548805115.py:4: FutureWarning: Support for multi-dimensional indexing (e.g. `obj[:, None]`) is deprecated and will be removed in a future version.  Convert to a numpy array before indexing instead.\n",
      "  normalized_cm = confusion_matrix.astype('float') / confusion_matrix.sum(axis=1)[:, np.newaxis]\n"
     ]
    },
    {
     "data": {
      "image/png": "[encoded data removed]",
      "text/plain": [
       "<Figure size 720x720 with 2 Axes>"
      ]
     },
     "metadata": {
      "needs_background": "light"
     },
     "output_type": "display_data"
    }
   ],
   "source": [
    "#Plot Normalized Confusion Matrix\n",
    "\n",
    "# Calculate normalized confusion matrix\n",
    "normalized_cm = confusion_matrix.astype('float') / confusion_matrix.sum(axis=1)[:, np.newaxis]\n",
    "\n",
    "#List out target names\n",
    "target_names = ['LAYING', 'SITTING', 'STANDING', 'WALKING', 'WALKING_DOWNSTAIRS', 'WALKING_UPSTAIRS']\n",
    "\n",
    "#Use seaborn to plot heat map of confusion matrix\n",
    "fig, ax = plt.subplots(figsize=(10,10))\n",
    "sns.heatmap(normalized_cm, annot=True, fmt='.2f', xticklabels = target_names, yticklabels = target_names)\n",
    "plt.ylabel('True Label')\n",
    "plt.xlabel('Predicted Label')\n",
    "plt.show(block=False)"
   ]
  },
  {
   "cell_type": "code",
   "execution_count": 22,
   "metadata": {},
   "outputs": [
    {
     "name": "stdout",
     "output_type": "stream",
     "text": [
      "93/93 [==============================] - 1s 16ms/step - loss: 0.8080 - accuracy: 0.8273\n",
      "\n",
      "   cat_crossentropy  ||   accuracy \n",
      "  ____________________________________\n",
      "[0.8079578280448914, 0.8272819519042969]\n"
     ]
    }
   ],
   "source": [
    "score = model.evaluate(X_test, Y_test)\n",
    "\n",
    "print(\"\\n   cat_crossentropy  ||   accuracy \")\n",
    "print(\"  ____________________________________\")\n",
    "print(score)"
   ]
  },
  {
   "cell_type": "markdown",
   "metadata": {},
   "source": [
    "## Architecture 3: Use 1 LSTM Layer"
   ]
  },
  {
   "cell_type": "code",
   "execution_count": 23,
   "metadata": {},
   "outputs": [],
   "source": [
    "##Hyperparameters\n",
    "epochs = 30\n",
    "batch_size = 16\n",
    "n_hidden_1 = 32\n",
    "n_hidden_2 = 16\n",
    "dropout_p = 0.5"
   ]
  },
  {
   "cell_type": "code",
   "execution_count": 24,
   "metadata": {},
   "outputs": [
    {
     "name": "stdout",
     "output_type": "stream",
     "text": [
      "Model: \"sequential_3\"\n",
      "_________________________________________________________________\n",
      " Layer (type)                Output Shape              Param #   \n",
      "=================================================================\n",
      " lstm_4 (LSTM)               (None, 32)                5376      \n",
      "                                                                 \n",
      " dropout_4 (Dropout)         (None, 32)                0         \n",
      "                                                                 \n",
      " dense_5 (Dense)             (None, 16)                528       \n",
      "                                                                 \n",
      " dense_6 (Dense)             (None, 6)                 102       \n",
      "                                                                 \n",
      "=================================================================\n",
      "Total params: 6006 (23.46 KB)\n",
      "Trainable params: 6006 (23.46 KB)\n",
      "Non-trainable params: 0 (0.00 Byte)\n",
      "_________________________________________________________________\n"
     ]
    }
   ],
   "source": [
    "model = Sequential() #Initializing our Model Architecture\n",
    "\n",
    "# Add an LSTM Layer\n",
    "model.add(LSTM(n_hidden_1, input_shape = (T, D)))\n",
    "\n",
    "# Adding a dropout layer\n",
    "model.add(Dropout(dropout_p))\n",
    "\n",
    "#Add another Dense Layer\n",
    "model.add(Dense(n_hidden_2, activation = \"relu\"))\n",
    "\n",
    "# Adding a Dense Layer with the Softmax Activation Function\n",
    "model.add(Dense(n_classes, activation = 'softmax'))\n",
    "\n",
    "model.summary() #Display a Summary of our model architecture"
   ]
  },
  {
   "cell_type": "code",
   "execution_count": 25,
   "metadata": {},
   "outputs": [],
   "source": [
    "# Compiling the model\n",
    "model.compile(loss='categorical_crossentropy', optimizer='rmsprop', metrics=['accuracy'])"
   ]
  },
  {
   "cell_type": "code",
   "execution_count": 26,
   "metadata": {},
   "outputs": [
    {
     "name": "stdout",
     "output_type": "stream",
     "text": [
      "Epoch 1/30\n",
      "460/460 [==============================] - 11s 22ms/step - loss: 1.2342 - accuracy: 0.4361 - val_loss: 0.9179 - val_accuracy: 0.5148\n",
      "Epoch 2/30\n",
      "460/460 [==============================] - 9s 21ms/step - loss: 0.8457 - accuracy: 0.5358 - val_loss: 0.7850 - val_accuracy: 0.5453\n",
      "Epoch 3/30\n",
      "460/460 [==============================] - 9s 20ms/step - loss: 0.7658 - accuracy: 0.5775 - val_loss: 0.7019 - val_accuracy: 0.6356\n",
      "Epoch 4/30\n",
      "460/460 [==============================] - 9s 20ms/step - loss: 0.6415 - accuracy: 0.6703 - val_loss: 0.5523 - val_accuracy: 0.7292\n",
      "Epoch 5/30\n",
      "460/460 [==============================] - 9s 21ms/step - loss: 0.5163 - accuracy: 0.7316 - val_loss: 0.5043 - val_accuracy: 0.7645\n",
      "Epoch 6/30\n",
      "460/460 [==============================] - 9s 20ms/step - loss: 0.4461 - accuracy: 0.7756 - val_loss: 0.3933 - val_accuracy: 0.8086\n",
      "Epoch 7/30\n",
      "460/460 [==============================] - 9s 20ms/step - loss: 0.3726 - accuracy: 0.7998 - val_loss: 0.5492 - val_accuracy: 0.7835\n",
      "Epoch 8/30\n",
      "460/460 [==============================] - 9s 20ms/step - loss: 0.3571 - accuracy: 0.8096 - val_loss: 0.3859 - val_accuracy: 0.8113\n",
      "Epoch 9/30\n",
      "460/460 [==============================] - 9s 20ms/step - loss: 0.3323 - accuracy: 0.8205 - val_loss: 0.3740 - val_accuracy: 0.8331\n",
      "Epoch 10/30\n",
      "460/460 [==============================] - 9s 20ms/step - loss: 0.3217 - accuracy: 0.8292 - val_loss: 0.4322 - val_accuracy: 0.8259\n",
      "Epoch 11/30\n",
      "460/460 [==============================] - 10s 21ms/step - loss: 0.3112 - accuracy: 0.8263 - val_loss: 0.4140 - val_accuracy: 0.8354\n",
      "Epoch 12/30\n",
      "460/460 [==============================] - 9s 20ms/step - loss: 0.3022 - accuracy: 0.8328 - val_loss: 0.4086 - val_accuracy: 0.8259\n",
      "Epoch 13/30\n",
      "460/460 [==============================] - 9s 20ms/step - loss: 0.3047 - accuracy: 0.8364 - val_loss: 0.4728 - val_accuracy: 0.7849\n",
      "Epoch 14/30\n",
      "460/460 [==============================] - 9s 20ms/step - loss: 0.3180 - accuracy: 0.8345 - val_loss: 0.4575 - val_accuracy: 0.8317\n",
      "Epoch 15/30\n",
      "460/460 [==============================] - 9s 20ms/step - loss: 0.3093 - accuracy: 0.8357 - val_loss: 0.5040 - val_accuracy: 0.8263\n",
      "Epoch 16/30\n",
      "460/460 [==============================] - 9s 20ms/step - loss: 0.2910 - accuracy: 0.8343 - val_loss: 0.5382 - val_accuracy: 0.8188\n",
      "Epoch 17/30\n",
      "460/460 [==============================] - 702s 2s/step - loss: 0.2788 - accuracy: 0.8437 - val_loss: 0.4215 - val_accuracy: 0.7961\n",
      "Epoch 18/30\n",
      "460/460 [==============================] - 13s 28ms/step - loss: 0.2792 - accuracy: 0.8462 - val_loss: 0.5490 - val_accuracy: 0.8337\n",
      "Epoch 19/30\n",
      "460/460 [==============================] - 11s 23ms/step - loss: 0.2971 - accuracy: 0.8375 - val_loss: 0.4299 - val_accuracy: 0.8429\n",
      "Epoch 20/30\n",
      "460/460 [==============================] - 10s 22ms/step - loss: 0.2856 - accuracy: 0.8462 - val_loss: 0.5045 - val_accuracy: 0.8307\n",
      "Epoch 21/30\n",
      "460/460 [==============================] - 11s 23ms/step - loss: 0.2956 - accuracy: 0.8508 - val_loss: 0.4268 - val_accuracy: 0.8426\n",
      "Epoch 22/30\n",
      "460/460 [==============================] - 12s 27ms/step - loss: 0.2742 - accuracy: 0.8487 - val_loss: 0.5260 - val_accuracy: 0.8310\n",
      "Epoch 23/30\n",
      "460/460 [==============================] - 13s 28ms/step - loss: 0.2692 - accuracy: 0.8523 - val_loss: 0.3900 - val_accuracy: 0.8361\n",
      "Epoch 24/30\n",
      "460/460 [==============================] - 14s 30ms/step - loss: 0.2844 - accuracy: 0.8511 - val_loss: 0.3763 - val_accuracy: 0.8375\n",
      "Epoch 25/30\n",
      "460/460 [==============================] - 10s 22ms/step - loss: 0.2824 - accuracy: 0.8498 - val_loss: 0.6668 - val_accuracy: 0.7659\n",
      "Epoch 26/30\n",
      "460/460 [==============================] - 9s 21ms/step - loss: 0.2880 - accuracy: 0.8485 - val_loss: 0.6022 - val_accuracy: 0.8235\n",
      "Epoch 27/30\n",
      "460/460 [==============================] - 9s 21ms/step - loss: 0.2721 - accuracy: 0.8498 - val_loss: 0.6178 - val_accuracy: 0.8113\n",
      "Epoch 28/30\n",
      "460/460 [==============================] - 9s 20ms/step - loss: 0.2650 - accuracy: 0.8545 - val_loss: 0.3598 - val_accuracy: 0.8375\n",
      "Epoch 29/30\n",
      "460/460 [==============================] - 9s 21ms/step - loss: 0.2722 - accuracy: 0.8513 - val_loss: 0.7878 - val_accuracy: 0.7815\n",
      "Epoch 30/30\n",
      "460/460 [==============================] - 9s 20ms/step - loss: 0.2672 - accuracy: 0.8558 - val_loss: 0.3575 - val_accuracy: 0.8510\n"
     ]
    },
    {
     "data": {
      "text/plain": [
       "<keras.src.callbacks.History at 0x7f7b12f043a0>"
      ]
     },
     "execution_count": 26,
     "metadata": {},
     "output_type": "execute_result"
    }
   ],
   "source": [
    "# Training the model\n",
    "model.fit(X_train, Y_train, batch_size=batch_size, validation_data=(X_test, Y_test),epochs=epochs)"
   ]
  },
  {
   "cell_type": "code",
   "execution_count": 27,
   "metadata": {},
   "outputs": [],
   "source": [
    "def generate_confusion_matrix(Y_true, Y_pred):\n",
    "    Y_true = pd.Series([ACTIVITIES[y] for y in np.argmax(Y_true, axis=1)])\n",
    "    Y_pred = pd.Series([ACTIVITIES[y] for y in np.argmax(Y_pred, axis=1)])\n",
    "    return pd.crosstab(Y_true, Y_pred, rownames=['True'], colnames=['Pred'])"
   ]
  },
  {
   "cell_type": "code",
   "execution_count": 28,
   "metadata": {},
   "outputs": [
    {
     "name": "stdout",
     "output_type": "stream",
     "text": [
      "93/93 [==============================] - 1s 6ms/step\n"
     ]
    }
   ],
   "source": [
    "#Generate Confusion Matrix\n",
    "confusion_matrix = generate_confusion_matrix(Y_test, model.predict(X_test))"
   ]
  },
  {
   "cell_type": "code",
   "execution_count": 29,
   "metadata": {},
   "outputs": [
    {
     "name": "stderr",
     "output_type": "stream",
     "text": [
      "/var/folders/_z/7xh85xcn7rd84tynktgvzyrr0000gn/T/ipykernel_51970/548805115.py:4: FutureWarning: Support for multi-dimensional indexing (e.g. `obj[:, None]`) is deprecated and will be removed in a future version.  Convert to a numpy array before indexing instead.\n",
      "  normalized_cm = confusion_matrix.astype('float') / confusion_matrix.sum(axis=1)[:, np.newaxis]\n"
     ]
    },
    {
     "data": {
      "image/png": "[encoded data removed]",
      "text/plain": [
       "<Figure size 720x720 with 2 Axes>"
      ]
     },
     "metadata": {
      "needs_background": "light"
     },
     "output_type": "display_data"
    }
   ],
   "source": [
    "#Plot Normalized Confusion Matrix\n",
    "\n",
    "# Calculate normalized confusion matrix\n",
    "normalized_cm = confusion_matrix.astype('float') / confusion_matrix.sum(axis=1)[:, np.newaxis]\n",
    "\n",
    "#List out target names\n",
    "target_names = ['LAYING', 'SITTING', 'STANDING', 'WALKING', 'WALKING_DOWNSTAIRS', 'WALKING_UPSTAIRS']\n",
    "\n",
    "#Use seaborn to plot heat map of confusion matrix\n",
    "fig, ax = plt.subplots(figsize=(10,10))\n",
    "sns.heatmap(normalized_cm, annot=True, fmt='.2f', xticklabels = target_names, yticklabels = target_names)\n",
    "plt.ylabel('True Label')\n",
    "plt.xlabel('Predicted Label')\n",
    "plt.show(block=False)"
   ]
  },
  {
   "cell_type": "code",
   "execution_count": 30,
   "metadata": {},
   "outputs": [
    {
     "name": "stdout",
     "output_type": "stream",
     "text": [
      "93/93 [==============================] - 1s 7ms/step - loss: 0.3575 - accuracy: 0.8510\n",
      "\n",
      "   cat_crossentropy  ||   accuracy \n",
      "  ____________________________________\n",
      "[0.35747793316841125, 0.851034939289093]\n"
     ]
    }
   ],
   "source": [
    "score = model.evaluate(X_test, Y_test)\n",
    "\n",
    "print(\"\\n   cat_crossentropy  ||   accuracy \")\n",
    "print(\"  ____________________________________\")\n",
    "print(score)"
   ]
  }
 ],
 "metadata": {
  "kernelspec": {
   "display_name": "base",
   "language": "python",
   "name": "python3"
  },
  "language_info": {
   "codemirror_mode": {
    "name": "ipython",
    "version": 3
   },
   "file_extension": ".py",
   "mimetype": "text/x-python",
   "name": "python",
   "nbconvert_exporter": "python",
   "pygments_lexer": "ipython3",
   "version": "3.9.12"
  }
 },
 "nbformat": 4,
 "nbformat_minor": 2
}
