{
 "cells": [
  {
   "cell_type": "markdown",
   "metadata": {},
   "source": [
    "# Import Libraries"
   ]
  },
  {
   "cell_type": "code",
   "execution_count": 12,
   "metadata": {},
   "outputs": [],
   "source": [
    "import pandas as pd\n",
    "import numpy as np\n",
    "\n",
    "#Use Keras Neural Network Components. This will be used to construct the LSTM\n",
    "from keras import backend as K\n",
    "from keras.models import Sequential\n",
    "from keras.layers import LSTM\n",
    "from keras.layers import Dense, Dropout\n",
    "from keras.layers import BatchNormalization\n",
    "from keras.layers import LayerNormalization\n",
    "from keras.layers import MultiHeadAttention\n",
    "from keras.regularizers import L1L2\n",
    "from keras.layers import Layer\n",
    "from keras import Model\n",
    "\n",
    "#Import Tensorflow \n",
    "import tensorflow as tf\n",
    "\n",
    "#Plotting Libraries\n",
    "import matplotlib.pyplot as plt\n",
    "import seaborn as sns"
   ]
  },
  {
   "cell_type": "markdown",
   "metadata": {},
   "source": [
    "# Ensure Reproducability of Results"
   ]
  },
  {
   "cell_type": "code",
   "execution_count": 13,
   "metadata": {},
   "outputs": [],
   "source": [
    "np.random.seed(42)\n",
    "tf.random.set_seed(42)"
   ]
  },
  {
   "cell_type": "markdown",
   "metadata": {},
   "source": [
    "# Fetch and Set Up Data"
   ]
  },
  {
   "cell_type": "code",
   "execution_count": 14,
   "metadata": {},
   "outputs": [],
   "source": [
    "#Numerically Encode the Activities\n",
    "ACTIVITIES = {\n",
    "    0: 'WALKING',\n",
    "    1: 'WALKING_UPSTAIRS',\n",
    "    2: 'WALKING_DOWNSTAIRS',\n",
    "    3: 'SITTING',\n",
    "    4: 'STANDING',\n",
    "    5: 'LAYING',\n",
    "}"
   ]
  },
  {
   "cell_type": "code",
   "execution_count": 15,
   "metadata": {},
   "outputs": [],
   "source": [
    "DATDIR = \"data/UCI HAR Dataset\"\n",
    "SIGNALS = [\n",
    "    \"body_acc_x\",\n",
    "    \"body_acc_y\",\n",
    "    \"body_acc_z\",\n",
    "    \"body_gyro_x\",\n",
    "    \"body_gyro_y\",\n",
    "    \"body_gyro_z\",\n",
    "    \"total_acc_x\",\n",
    "    \"total_acc_y\",\n",
    "    \"total_acc_z\"\n",
    "    ]"
   ]
  },
  {
   "cell_type": "code",
   "execution_count": 16,
   "metadata": {},
   "outputs": [],
   "source": [
    "#train_test: 0 if we want to fetch the training signal data, 1 if we want to fetch the test signal data\n",
    "def fetch_raw_signal_data(train_test, signal):\n",
    "    file_path = DATDIR + f\"/{'train' if train_test == 0 else 'test'}/Inertial Signals/{signal}_{'train' if train_test == 0 else 'test'}.txt\"\n",
    "    return pd.read_csv(file_path, delim_whitespace = True, header = None)\n",
    "\n",
    "#Same purpose as previous function but, in this case, we are fetching ALL the raw signal data!\n",
    "#train_test: 0 if we want to fetch the training signal data, 1 if we want to fetch the test signal data\n",
    "def fetch_all_raw_signals(train_test):\n",
    "    data_raw_signals = []\n",
    "    for signal in SIGNALS:\n",
    "        raw_signal_data = fetch_raw_signal_data(train_test, signal).to_numpy()\n",
    "        data_raw_signals.append(raw_signal_data)\n",
    "    \n",
    "    data_raw_signals = np.array(data_raw_signals)\n",
    "    return np.transpose(data_raw_signals, axes = (1, 2, 0))\n",
    "\n",
    "#Fetch Labels\n",
    "#train_test: 0 if we want to fetch the training signal data, 1 if we want to fetch the test signal data\n",
    "def fetch_labels(train_test):\n",
    "    file_path = DATDIR + f\"/{'train' if train_test == 0 else 'test'}/y_{'train' if train_test == 0 else 'test'}.txt\"\n",
    "    return pd.get_dummies(pd.read_csv(file_path, delim_whitespace=True, header = None)[0]).to_numpy()"
   ]
  },
  {
   "cell_type": "code",
   "execution_count": 17,
   "metadata": {},
   "outputs": [
    {
     "name": "stdout",
     "output_type": "stream",
     "text": [
      "7352 128 9\n",
      "6\n",
      "(7352, 128, 9) (7352, 6)\n"
     ]
    }
   ],
   "source": [
    "X_train, X_test, Y_train, Y_test = fetch_all_raw_signals(0), fetch_all_raw_signals(1), fetch_labels(0), fetch_labels(1)\n",
    "\n",
    "N = X_train.shape[0]\n",
    "T = X_train.shape[1]\n",
    "D = X_train.shape[2]\n",
    "\n",
    "print(N, T, D)\n",
    "\n",
    "n_classes = Y_train.shape[1]\n",
    "print(n_classes)\n",
    "print(X_train.shape, Y_train.shape)"
   ]
  },
  {
   "cell_type": "markdown",
   "metadata": {},
   "source": [
    "# Define LSTM Architecture"
   ]
  },
  {
   "cell_type": "markdown",
   "metadata": {},
   "source": [
    "## Architecture 1: 2 LSTM Layers With Attention Layer"
   ]
  },
  {
   "cell_type": "code",
   "execution_count": 18,
   "metadata": {},
   "outputs": [],
   "source": [
    "##Hyperparameters\n",
    "epochs = 30\n",
    "batch_size = 16\n",
    "\n",
    "n_hidden_1 = 64\n",
    "n_hidden_2 = 32\n",
    "n_hidden_3 = 16\n",
    "n_hidden_4 = 8\n",
    "\n",
    "dropout_p = 0.5\n",
    "num_heads = 6"
   ]
  },
  {
   "cell_type": "code",
   "execution_count": 19,
   "metadata": {},
   "outputs": [],
   "source": [
    "class AttentionBlock(Layer):\n",
    "    def __init__(self, num_heads, key_dim, fc_dim):\n",
    "        super().__init__()\n",
    "        self.dropout = Dropout(0.1)\n",
    "        self.attention = MultiHeadAttention(num_heads = num_heads, key_dim = key_dim, value_dim = key_dim)\n",
    "        self.fc = Sequential([Dense(fc_dim, activation=\"relu\")])\n",
    "        \n",
    "    def call(self, inputs, training):\n",
    "        attention_output = self.attention(inputs, inputs)\n",
    "        attention_output = self.dropout(attention_output, training = training)        \n",
    "        fc_output = self.fc(attention_output)\n",
    "        fc_output = self.dropout(fc_output, training = training)\n",
    "        return fc_output\n"
   ]
  },
  {
   "cell_type": "code",
   "execution_count": 20,
   "metadata": {},
   "outputs": [
    {
     "name": "stdout",
     "output_type": "stream",
     "text": [
      "Model: \"sequential_2\"\n",
      "_________________________________________________________________\n",
      " Layer (type)                Output Shape              Param #   \n",
      "=================================================================\n",
      " lstm_2 (LSTM)               (None, 128, 64)           18944     \n",
      "                                                                 \n",
      " attention_block_1 (Attenti  (None, 128, 32)           101600    \n",
      " onBlock)                                                        \n",
      "                                                                 \n",
      " batch_normalization_2 (Bat  (None, 128, 32)           128       \n",
      " chNormalization)                                                \n",
      "                                                                 \n",
      " lstm_3 (LSTM)               (None, 16)                3136      \n",
      "                                                                 \n",
      " batch_normalization_3 (Bat  (None, 16)                64        \n",
      " chNormalization)                                                \n",
      "                                                                 \n",
      " dense_4 (Dense)             (None, 8)                 136       \n",
      "                                                                 \n",
      " dropout_3 (Dropout)         (None, 8)                 0         \n",
      "                                                                 \n",
      " dense_5 (Dense)             (None, 6)                 54        \n",
      "                                                                 \n",
      "=================================================================\n",
      "Total params: 124062 (484.62 KB)\n",
      "Trainable params: 123966 (484.24 KB)\n",
      "Non-trainable params: 96 (384.00 Byte)\n",
      "_________________________________________________________________\n"
     ]
    }
   ],
   "source": [
    "model = Sequential() #Initializing our Model Architecture\n",
    "\n",
    "model.add(LSTM(n_hidden_1, input_shape = (T, D), return_sequences=True)) # Add an LSTM Layer\n",
    "model.add(AttentionBlock(num_heads = num_heads, key_dim = n_hidden_1, fc_dim = n_hidden_2)) #Add a Multihead Attention Layer\n",
    "model.add(BatchNormalization()) #Add Batch Normalization Layer\n",
    "\n",
    "model.add(LSTM(n_hidden_3)) #Add another LSTM to come after the AttentionBlock\n",
    "model.add(BatchNormalization()) #Add Batch Normalization Layer\n",
    "\n",
    "model.add(Dense(n_hidden_4, activation = \"relu\")) #Add another Dense Layer\n",
    "model.add(Dropout(dropout_p)) # Adding a dropout layer\n",
    "model.add(Dense(n_classes, activation = 'softmax')) #Adding a Dense Layer with the Softmax Activation Function\n",
    "\n",
    "model.summary() #Display a Summary of our model architecture"
   ]
  },
  {
   "cell_type": "code",
   "execution_count": 21,
   "metadata": {},
   "outputs": [],
   "source": [
    "# Compiling the model\n",
    "model.compile(loss='categorical_crossentropy', optimizer='rmsprop', metrics=['accuracy'])"
   ]
  },
  {
   "cell_type": "code",
   "execution_count": 22,
   "metadata": {},
   "outputs": [
    {
     "name": "stdout",
     "output_type": "stream",
     "text": [
      "Epoch 1/30\n",
      "460/460 [==============================] - 72s 145ms/step - loss: 1.2141 - accuracy: 0.5011 - val_loss: 1.1345 - val_accuracy: 0.5908\n",
      "Epoch 2/30\n",
      "460/460 [==============================] - 65s 141ms/step - loss: 0.8912 - accuracy: 0.6243 - val_loss: 0.4671 - val_accuracy: 0.8612\n",
      "Epoch 3/30\n",
      "460/460 [==============================] - 65s 141ms/step - loss: 0.7518 - accuracy: 0.6842 - val_loss: 0.3572 - val_accuracy: 0.8575\n",
      "Epoch 4/30\n",
      "460/460 [==============================] - 66s 144ms/step - loss: 0.7006 - accuracy: 0.7087 - val_loss: 0.3062 - val_accuracy: 0.8914\n",
      "Epoch 5/30\n",
      "460/460 [==============================] - 61s 133ms/step - loss: 0.7194 - accuracy: 0.6990 - val_loss: 0.3160 - val_accuracy: 0.9002\n",
      "Epoch 6/30\n",
      "460/460 [==============================] - 56s 122ms/step - loss: 0.6775 - accuracy: 0.7122 - val_loss: 0.3031 - val_accuracy: 0.9094\n",
      "Epoch 7/30\n",
      "460/460 [==============================] - 61s 133ms/step - loss: 0.6818 - accuracy: 0.7126 - val_loss: 0.3725 - val_accuracy: 0.9002\n",
      "Epoch 8/30\n",
      "460/460 [==============================] - 58s 126ms/step - loss: 0.6796 - accuracy: 0.7193 - val_loss: 0.2361 - val_accuracy: 0.9114\n",
      "Epoch 9/30\n",
      "460/460 [==============================] - 62s 134ms/step - loss: 0.6484 - accuracy: 0.7326 - val_loss: 0.2781 - val_accuracy: 0.9087\n",
      "Epoch 10/30\n",
      "460/460 [==============================] - 67s 147ms/step - loss: 0.6566 - accuracy: 0.7267 - val_loss: 0.2766 - val_accuracy: 0.9192\n",
      "Epoch 11/30\n",
      "460/460 [==============================] - 67s 146ms/step - loss: 0.6488 - accuracy: 0.7225 - val_loss: 0.3839 - val_accuracy: 0.8982\n",
      "Epoch 12/30\n",
      "460/460 [==============================] - 62s 135ms/step - loss: 0.6360 - accuracy: 0.7284 - val_loss: 0.3368 - val_accuracy: 0.8836\n",
      "Epoch 13/30\n",
      "460/460 [==============================] - 55s 120ms/step - loss: 0.6394 - accuracy: 0.7297 - val_loss: 0.2897 - val_accuracy: 0.9087\n",
      "Epoch 14/30\n",
      "460/460 [==============================] - 56s 121ms/step - loss: 0.6440 - accuracy: 0.7378 - val_loss: 0.2761 - val_accuracy: 0.9087\n",
      "Epoch 15/30\n",
      "460/460 [==============================] - 56s 121ms/step - loss: 0.6462 - accuracy: 0.7374 - val_loss: 0.2677 - val_accuracy: 0.9023\n",
      "Epoch 16/30\n",
      "460/460 [==============================] - 55s 119ms/step - loss: 0.6415 - accuracy: 0.7374 - val_loss: 0.2215 - val_accuracy: 0.9220\n",
      "Epoch 17/30\n",
      "460/460 [==============================] - 56s 122ms/step - loss: 0.6489 - accuracy: 0.7322 - val_loss: 0.4000 - val_accuracy: 0.8765\n",
      "Epoch 18/30\n",
      "460/460 [==============================] - 55s 120ms/step - loss: 0.6444 - accuracy: 0.7330 - val_loss: 0.2333 - val_accuracy: 0.9172\n",
      "Epoch 19/30\n",
      "460/460 [==============================] - 55s 120ms/step - loss: 0.6321 - accuracy: 0.7367 - val_loss: 0.2690 - val_accuracy: 0.9108\n",
      "Epoch 20/30\n",
      "460/460 [==============================] - 54s 118ms/step - loss: 0.6297 - accuracy: 0.7346 - val_loss: 1.3639 - val_accuracy: 0.8117\n",
      "Epoch 21/30\n",
      "460/460 [==============================] - 53s 115ms/step - loss: 0.6311 - accuracy: 0.7417 - val_loss: 0.2338 - val_accuracy: 0.9182\n",
      "Epoch 22/30\n",
      "460/460 [==============================] - 53s 115ms/step - loss: 0.6255 - accuracy: 0.7371 - val_loss: 0.2584 - val_accuracy: 0.9145\n",
      "Epoch 23/30\n",
      "460/460 [==============================] - 404s 880ms/step - loss: 0.6200 - accuracy: 0.7382 - val_loss: 0.4050 - val_accuracy: 0.9077\n",
      "Epoch 24/30\n",
      "460/460 [==============================] - 71s 153ms/step - loss: 0.6341 - accuracy: 0.7364 - val_loss: 0.2398 - val_accuracy: 0.9209\n",
      "Epoch 25/30\n",
      "460/460 [==============================] - 58s 127ms/step - loss: 0.6248 - accuracy: 0.7409 - val_loss: 0.3509 - val_accuracy: 0.9067\n",
      "Epoch 26/30\n",
      "460/460 [==============================] - 55s 120ms/step - loss: 0.6123 - accuracy: 0.7371 - val_loss: 0.3673 - val_accuracy: 0.9019\n",
      "Epoch 27/30\n",
      "460/460 [==============================] - 53s 116ms/step - loss: 0.6177 - accuracy: 0.7432 - val_loss: 0.2538 - val_accuracy: 0.9077\n",
      "Epoch 28/30\n",
      "460/460 [==============================] - 54s 118ms/step - loss: 0.5978 - accuracy: 0.7474 - val_loss: 0.2947 - val_accuracy: 0.9145\n",
      "Epoch 29/30\n",
      "460/460 [==============================] - 55s 120ms/step - loss: 0.6140 - accuracy: 0.7446 - val_loss: 0.2319 - val_accuracy: 0.9213\n",
      "Epoch 30/30\n",
      "460/460 [==============================] - 56s 121ms/step - loss: 0.6201 - accuracy: 0.7364 - val_loss: 0.4173 - val_accuracy: 0.8911\n"
     ]
    },
    {
     "data": {
      "text/plain": [
       "<keras.src.callbacks.History at 0x7fa69d9a2670>"
      ]
     },
     "execution_count": 22,
     "metadata": {},
     "output_type": "execute_result"
    }
   ],
   "source": [
    "# Training the model\n",
    "model.fit(X_train, Y_train, batch_size=batch_size, validation_data=(X_test, Y_test),epochs=epochs)"
   ]
  },
  {
   "cell_type": "code",
   "execution_count": 23,
   "metadata": {},
   "outputs": [],
   "source": [
    "def generate_confusion_matrix(Y_true, Y_pred):\n",
    "    Y_true = pd.Series([ACTIVITIES[y] for y in np.argmax(Y_true, axis=1)])\n",
    "    Y_pred = pd.Series([ACTIVITIES[y] for y in np.argmax(Y_pred, axis=1)])\n",
    "    return pd.crosstab(Y_true, Y_pred, rownames=['True'], colnames=['Pred'])"
   ]
  },
  {
   "cell_type": "code",
   "execution_count": 24,
   "metadata": {},
   "outputs": [
    {
     "name": "stdout",
     "output_type": "stream",
     "text": [
      "93/93 [==============================] - 7s 70ms/step\n"
     ]
    }
   ],
   "source": [
    "#Generate Confusion Matrix\n",
    "confusion_matrix = generate_confusion_matrix(Y_test, model.predict(X_test))"
   ]
  },
  {
   "cell_type": "code",
   "execution_count": 25,
   "metadata": {},
   "outputs": [
    {
     "name": "stderr",
     "output_type": "stream",
     "text": [
      "/var/folders/_z/7xh85xcn7rd84tynktgvzyrr0000gn/T/ipykernel_47549/548805115.py:4: FutureWarning: Support for multi-dimensional indexing (e.g. `obj[:, None]`) is deprecated and will be removed in a future version.  Convert to a numpy array before indexing instead.\n",
      "  normalized_cm = confusion_matrix.astype('float') / confusion_matrix.sum(axis=1)[:, np.newaxis]\n"
     ]
    },
    {
     "data": {
      "image/png": "[encoded data removed]",
      "text/plain": [
       "<Figure size 720x720 with 2 Axes>"
      ]
     },
     "metadata": {
      "needs_background": "light"
     },
     "output_type": "display_data"
    }
   ],
   "source": [
    "#Plot Normalized Confusion Matrix\n",
    "\n",
    "# Calculate normalized confusion matrix\n",
    "normalized_cm = confusion_matrix.astype('float') / confusion_matrix.sum(axis=1)[:, np.newaxis]\n",
    "\n",
    "#List out target names\n",
    "target_names = ['LAYING', 'SITTING', 'STANDING', 'WALKING', 'WALKING_DOWNSTAIRS', 'WALKING_UPSTAIRS']\n",
    "\n",
    "#Use seaborn to plot heat map of confusion matrix\n",
    "fig, ax = plt.subplots(figsize=(10,10))\n",
    "sns.heatmap(normalized_cm, annot=True, fmt='.2f', xticklabels = target_names, yticklabels = target_names)\n",
    "plt.ylabel('True Label')\n",
    "plt.xlabel('Predicted Label')\n",
    "plt.show(block=False)"
   ]
  },
  {
   "cell_type": "code",
   "execution_count": 26,
   "metadata": {},
   "outputs": [
    {
     "name": "stdout",
     "output_type": "stream",
     "text": [
      "93/93 [==============================] - 6s 69ms/step - loss: 0.4173 - accuracy: 0.8911\n",
      "\n",
      "   cat_crossentropy  ||   accuracy \n",
      "  ____________________________________\n",
      "[0.4173092842102051, 0.8910756707191467]\n"
     ]
    }
   ],
   "source": [
    "score = model.evaluate(X_test, Y_test)\n",
    "\n",
    "print(\"\\n   cat_crossentropy  ||   accuracy \")\n",
    "print(\"  ____________________________________\")\n",
    "print(score)"
   ]
  },
  {
   "cell_type": "markdown",
   "metadata": {},
   "source": [
    "## Architecture 2: Use 2 LSTM Layers"
   ]
  },
  {
   "cell_type": "code",
   "execution_count": 27,
   "metadata": {},
   "outputs": [],
   "source": [
    "##Hyperparameters\n",
    "epochs = 30\n",
    "batch_size = 16\n",
    "n_hidden_1 = 64\n",
    "dropout_p = 0.5\n",
    "n_hidden_2 = 32\n",
    "n_hidden_3 = 16"
   ]
  },
  {
   "cell_type": "code",
   "execution_count": 28,
   "metadata": {},
   "outputs": [
    {
     "name": "stdout",
     "output_type": "stream",
     "text": [
      "Model: \"sequential_4\"\n",
      "_________________________________________________________________\n",
      " Layer (type)                Output Shape              Param #   \n",
      "=================================================================\n",
      " lstm_4 (LSTM)               (None, 128, 64)           18944     \n",
      "                                                                 \n",
      " batch_normalization_4 (Bat  (None, 128, 64)           256       \n",
      " chNormalization)                                                \n",
      "                                                                 \n",
      " dropout_4 (Dropout)         (None, 128, 64)           0         \n",
      "                                                                 \n",
      " lstm_5 (LSTM)               (None, 32)                12416     \n",
      "                                                                 \n",
      " batch_normalization_5 (Bat  (None, 32)                128       \n",
      " chNormalization)                                                \n",
      "                                                                 \n",
      " dropout_5 (Dropout)         (None, 32)                0         \n",
      "                                                                 \n",
      " dense_6 (Dense)             (None, 16)                528       \n",
      "                                                                 \n",
      " dense_7 (Dense)             (None, 6)                 102       \n",
      "                                                                 \n",
      "=================================================================\n",
      "Total params: 32374 (126.46 KB)\n",
      "Trainable params: 32182 (125.71 KB)\n",
      "Non-trainable params: 192 (768.00 Byte)\n",
      "_________________________________________________________________\n"
     ]
    }
   ],
   "source": [
    "model = Sequential() #Initializing our Model Architecture\n",
    "\n",
    "#Define LSTM Layer with Batch Normalization\n",
    "model.add(LSTM(n_hidden_1, input_shape=(T, D), return_sequences=True))\n",
    "model.add(BatchNormalization())\n",
    "\n",
    "#Define Dropout Layer\n",
    "model.add(Dropout(dropout_p))\n",
    "\n",
    "#Define the second LSTM Layer with Batch Normalization\n",
    "model.add(LSTM(n_hidden_2))\n",
    "model.add(BatchNormalization())\n",
    "\n",
    "#Define Dropout Layer\n",
    "model.add(Dropout(dropout_p))\n",
    "\n",
    "#Define Dense Layer\n",
    "model.add(Dense(n_hidden_3, activation = 'relu'))\n",
    "\n",
    "#Define Dense Layer\n",
    "model.add(Dense(n_classes, activation = 'softmax'))\n",
    "\n",
    "#Print Model Summary\n",
    "model.summary()"
   ]
  },
  {
   "cell_type": "code",
   "execution_count": 29,
   "metadata": {},
   "outputs": [],
   "source": [
    "# Compiling the model\n",
    "model.compile(loss='categorical_crossentropy', optimizer='rmsprop', metrics=['accuracy'])"
   ]
  },
  {
   "cell_type": "code",
   "execution_count": 30,
   "metadata": {},
   "outputs": [
    {
     "name": "stdout",
     "output_type": "stream",
     "text": [
      "Epoch 1/30\n",
      "460/460 [==============================] - 28s 54ms/step - loss: 0.9977 - accuracy: 0.6030 - val_loss: 0.8470 - val_accuracy: 0.6454\n",
      "Epoch 2/30\n",
      "460/460 [==============================] - 24s 52ms/step - loss: 0.5392 - accuracy: 0.7980 - val_loss: 0.9243 - val_accuracy: 0.6328\n",
      "Epoch 3/30\n",
      "460/460 [==============================] - 24s 53ms/step - loss: 0.3291 - accuracy: 0.8872 - val_loss: 0.3698 - val_accuracy: 0.8629\n",
      "Epoch 4/30\n",
      "460/460 [==============================] - 24s 52ms/step - loss: 0.2435 - accuracy: 0.9120 - val_loss: 0.7096 - val_accuracy: 0.8056\n",
      "Epoch 5/30\n",
      "460/460 [==============================] - 24s 53ms/step - loss: 0.2428 - accuracy: 0.9217 - val_loss: 0.3579 - val_accuracy: 0.8968\n",
      "Epoch 6/30\n",
      "460/460 [==============================] - 24s 51ms/step - loss: 0.2265 - accuracy: 0.9195 - val_loss: 0.3859 - val_accuracy: 0.9087\n",
      "Epoch 7/30\n",
      "460/460 [==============================] - 24s 53ms/step - loss: 0.2097 - accuracy: 0.9289 - val_loss: 8.0519 - val_accuracy: 0.4343\n",
      "Epoch 8/30\n",
      "460/460 [==============================] - 24s 53ms/step - loss: 0.2083 - accuracy: 0.9279 - val_loss: 0.3655 - val_accuracy: 0.9121\n",
      "Epoch 9/30\n",
      "460/460 [==============================] - 25s 55ms/step - loss: 0.1854 - accuracy: 0.9348 - val_loss: 0.3296 - val_accuracy: 0.9216\n",
      "Epoch 10/30\n",
      "460/460 [==============================] - 24s 52ms/step - loss: 0.1848 - accuracy: 0.9370 - val_loss: 0.3302 - val_accuracy: 0.9223\n",
      "Epoch 11/30\n",
      "460/460 [==============================] - 25s 53ms/step - loss: 0.1931 - accuracy: 0.9348 - val_loss: 0.4140 - val_accuracy: 0.9057\n",
      "Epoch 12/30\n",
      "460/460 [==============================] - 25s 54ms/step - loss: 0.1846 - accuracy: 0.9369 - val_loss: 0.4454 - val_accuracy: 0.9196\n",
      "Epoch 13/30\n",
      "460/460 [==============================] - 24s 53ms/step - loss: 0.1827 - accuracy: 0.9357 - val_loss: 0.6160 - val_accuracy: 0.8996\n",
      "Epoch 14/30\n",
      "460/460 [==============================] - 25s 53ms/step - loss: 0.1589 - accuracy: 0.9397 - val_loss: 0.5070 - val_accuracy: 0.9141\n",
      "Epoch 15/30\n",
      "460/460 [==============================] - 24s 53ms/step - loss: 0.1628 - accuracy: 0.9441 - val_loss: 0.5130 - val_accuracy: 0.8904\n",
      "Epoch 16/30\n",
      "460/460 [==============================] - 24s 52ms/step - loss: 0.1774 - accuracy: 0.9400 - val_loss: 0.8746 - val_accuracy: 0.8683\n",
      "Epoch 17/30\n",
      "460/460 [==============================] - 24s 51ms/step - loss: 0.1742 - accuracy: 0.9400 - val_loss: 0.7172 - val_accuracy: 0.8941\n",
      "Epoch 18/30\n",
      "460/460 [==============================] - 24s 53ms/step - loss: 0.1707 - accuracy: 0.9396 - val_loss: 0.5328 - val_accuracy: 0.9070\n",
      "Epoch 19/30\n",
      "460/460 [==============================] - 24s 52ms/step - loss: 0.1592 - accuracy: 0.9397 - val_loss: 0.6956 - val_accuracy: 0.8901\n",
      "Epoch 20/30\n",
      "460/460 [==============================] - 24s 52ms/step - loss: 0.1526 - accuracy: 0.9442 - val_loss: 0.5206 - val_accuracy: 0.9118\n",
      "Epoch 21/30\n",
      "460/460 [==============================] - 23s 50ms/step - loss: 0.1539 - accuracy: 0.9415 - val_loss: 0.5316 - val_accuracy: 0.9040\n",
      "Epoch 22/30\n",
      "460/460 [==============================] - 23s 49ms/step - loss: 0.1481 - accuracy: 0.9463 - val_loss: 0.5476 - val_accuracy: 0.9016\n",
      "Epoch 23/30\n",
      "460/460 [==============================] - 699s 2s/step - loss: 0.1495 - accuracy: 0.9464 - val_loss: 0.5506 - val_accuracy: 0.9135\n",
      "Epoch 24/30\n",
      "460/460 [==============================] - 56s 123ms/step - loss: 0.1659 - accuracy: 0.9472 - val_loss: 0.5755 - val_accuracy: 0.9125\n",
      "Epoch 25/30\n",
      "460/460 [==============================] - 255s 556ms/step - loss: 0.1413 - accuracy: 0.9489 - val_loss: 0.5797 - val_accuracy: 0.9060\n",
      "Epoch 26/30\n",
      "460/460 [==============================] - 120s 261ms/step - loss: 0.1696 - accuracy: 0.9461 - val_loss: 0.6171 - val_accuracy: 0.9060\n",
      "Epoch 27/30\n",
      "460/460 [==============================] - 1388s 3s/step - loss: 0.1726 - accuracy: 0.9431 - val_loss: 0.8315 - val_accuracy: 0.8968\n",
      "Epoch 28/30\n",
      "460/460 [==============================] - 38s 83ms/step - loss: 0.1604 - accuracy: 0.9442 - val_loss: 0.5567 - val_accuracy: 0.9138\n",
      "Epoch 29/30\n",
      "460/460 [==============================] - 31s 66ms/step - loss: 0.1909 - accuracy: 0.9453 - val_loss: 0.4530 - val_accuracy: 0.9189\n",
      "Epoch 30/30\n",
      "460/460 [==============================] - 30s 65ms/step - loss: 0.1442 - accuracy: 0.9472 - val_loss: 0.7113 - val_accuracy: 0.9033\n"
     ]
    },
    {
     "data": {
      "text/plain": [
       "<keras.src.callbacks.History at 0x7fa68131cd60>"
      ]
     },
     "execution_count": 30,
     "metadata": {},
     "output_type": "execute_result"
    }
   ],
   "source": [
    "# Training the model\n",
    "model.fit(X_train, Y_train, batch_size=batch_size, validation_data=(X_test, Y_test),epochs=epochs)"
   ]
  },
  {
   "cell_type": "code",
   "execution_count": 31,
   "metadata": {},
   "outputs": [
    {
     "name": "stdout",
     "output_type": "stream",
     "text": [
      "93/93 [==============================] - 3s 20ms/step\n"
     ]
    }
   ],
   "source": [
    "#Generate Confusion Matrix\n",
    "confusion_matrix = generate_confusion_matrix(Y_test, model.predict(X_test))"
   ]
  },
  {
   "cell_type": "code",
   "execution_count": 32,
   "metadata": {},
   "outputs": [
    {
     "name": "stderr",
     "output_type": "stream",
     "text": [
      "/var/folders/_z/7xh85xcn7rd84tynktgvzyrr0000gn/T/ipykernel_47549/548805115.py:4: FutureWarning: Support for multi-dimensional indexing (e.g. `obj[:, None]`) is deprecated and will be removed in a future version.  Convert to a numpy array before indexing instead.\n",
      "  normalized_cm = confusion_matrix.astype('float') / confusion_matrix.sum(axis=1)[:, np.newaxis]\n"
     ]
    },
    {
     "data": {
      "image/png": "[encoded data removed]",
      "text/plain": [
       "<Figure size 720x720 with 2 Axes>"
      ]
     },
     "metadata": {
      "needs_background": "light"
     },
     "output_type": "display_data"
    }
   ],
   "source": [
    "#Plot Normalized Confusion Matrix\n",
    "\n",
    "# Calculate normalized confusion matrix\n",
    "normalized_cm = confusion_matrix.astype('float') / confusion_matrix.sum(axis=1)[:, np.newaxis]\n",
    "\n",
    "#List out target names\n",
    "target_names = ['LAYING', 'SITTING', 'STANDING', 'WALKING', 'WALKING_DOWNSTAIRS', 'WALKING_UPSTAIRS']\n",
    "\n",
    "#Use seaborn to plot heat map of confusion matrix\n",
    "fig, ax = plt.subplots(figsize=(10,10))\n",
    "sns.heatmap(normalized_cm, annot=True, fmt='.2f', xticklabels = target_names, yticklabels = target_names)\n",
    "plt.ylabel('True Label')\n",
    "plt.xlabel('Predicted Label')\n",
    "plt.show(block=False)"
   ]
  },
  {
   "cell_type": "code",
   "execution_count": 33,
   "metadata": {},
   "outputs": [
    {
     "name": "stdout",
     "output_type": "stream",
     "text": [
      "93/93 [==============================] - 2s 25ms/step - loss: 0.7113 - accuracy: 0.9033\n",
      "\n",
      "   cat_crossentropy  ||   accuracy \n",
      "  ____________________________________\n",
      "[0.7113261818885803, 0.9032914638519287]\n"
     ]
    }
   ],
   "source": [
    "score = model.evaluate(X_test, Y_test)\n",
    "\n",
    "print(\"\\n   cat_crossentropy  ||   accuracy \")\n",
    "print(\"  ____________________________________\")\n",
    "print(score)"
   ]
  },
  {
   "cell_type": "markdown",
   "metadata": {},
   "source": [
    "## Architecture 3: Use 1 LSTM Layer"
   ]
  },
  {
   "cell_type": "code",
   "execution_count": 34,
   "metadata": {},
   "outputs": [],
   "source": [
    "##Hyperparameters\n",
    "epochs = 30\n",
    "batch_size = 16\n",
    "n_hidden_1 = 32\n",
    "n_hidden_2 = 16\n",
    "dropout_p = 0.5"
   ]
  },
  {
   "cell_type": "code",
   "execution_count": 35,
   "metadata": {},
   "outputs": [
    {
     "name": "stdout",
     "output_type": "stream",
     "text": [
      "Model: \"sequential_5\"\n",
      "_________________________________________________________________\n",
      " Layer (type)                Output Shape              Param #   \n",
      "=================================================================\n",
      " lstm_6 (LSTM)               (None, 32)                5376      \n",
      "                                                                 \n",
      " dropout_6 (Dropout)         (None, 32)                0         \n",
      "                                                                 \n",
      " dense_8 (Dense)             (None, 16)                528       \n",
      "                                                                 \n",
      " dense_9 (Dense)             (None, 6)                 102       \n",
      "                                                                 \n",
      "=================================================================\n",
      "Total params: 6006 (23.46 KB)\n",
      "Trainable params: 6006 (23.46 KB)\n",
      "Non-trainable params: 0 (0.00 Byte)\n",
      "_________________________________________________________________\n"
     ]
    }
   ],
   "source": [
    "model = Sequential() #Initializing our Model Architecture\n",
    "\n",
    "# Add an LSTM Layer\n",
    "model.add(LSTM(n_hidden_1, input_shape = (T, D)))\n",
    "\n",
    "# Adding a dropout layer\n",
    "model.add(Dropout(dropout_p))\n",
    "\n",
    "#Add another Dense Layer\n",
    "model.add(Dense(n_hidden_2, activation = \"relu\"))\n",
    "\n",
    "# Adding a Dense Layer with the Softmax Activation Function\n",
    "model.add(Dense(n_classes, activation = 'softmax'))\n",
    "\n",
    "model.summary() #Display a Summary of our model architecture"
   ]
  },
  {
   "cell_type": "code",
   "execution_count": 36,
   "metadata": {},
   "outputs": [],
   "source": [
    "# Compiling the model\n",
    "model.compile(loss='categorical_crossentropy', optimizer='rmsprop', metrics=['accuracy'])"
   ]
  },
  {
   "cell_type": "code",
   "execution_count": 37,
   "metadata": {},
   "outputs": [
    {
     "name": "stdout",
     "output_type": "stream",
     "text": [
      "Epoch 1/30\n",
      "460/460 [==============================] - 16s 30ms/step - loss: 1.1480 - accuracy: 0.5246 - val_loss: 0.9187 - val_accuracy: 0.6305\n",
      "Epoch 2/30\n",
      "460/460 [==============================] - 318s 692ms/step - loss: 0.7021 - accuracy: 0.7002 - val_loss: 0.6967 - val_accuracy: 0.7133\n",
      "Epoch 3/30\n",
      "460/460 [==============================] - 16s 35ms/step - loss: 0.5649 - accuracy: 0.7626 - val_loss: 0.6714 - val_accuracy: 0.7380\n",
      "Epoch 4/30\n",
      "460/460 [==============================] - 13s 29ms/step - loss: 0.4804 - accuracy: 0.8006 - val_loss: 0.6290 - val_accuracy: 0.7910\n",
      "Epoch 5/30\n",
      "460/460 [==============================] - 65s 142ms/step - loss: 0.3895 - accuracy: 0.8566 - val_loss: 0.5227 - val_accuracy: 0.8405\n",
      "Epoch 6/30\n",
      "460/460 [==============================] - 122s 265ms/step - loss: 0.3004 - accuracy: 0.9027 - val_loss: 0.5562 - val_accuracy: 0.8585\n",
      "Epoch 7/30\n",
      "460/460 [==============================] - 155s 338ms/step - loss: 0.2560 - accuracy: 0.9189 - val_loss: 0.6253 - val_accuracy: 0.8605\n",
      "Epoch 8/30\n",
      "460/460 [==============================] - 31s 68ms/step - loss: 0.2179 - accuracy: 0.9271 - val_loss: 0.4442 - val_accuracy: 0.8850\n",
      "Epoch 9/30\n",
      "460/460 [==============================] - 19s 41ms/step - loss: 0.2066 - accuracy: 0.9305 - val_loss: 0.4582 - val_accuracy: 0.8744\n",
      "Epoch 10/30\n",
      "460/460 [==============================] - 16s 34ms/step - loss: 0.1854 - accuracy: 0.9344 - val_loss: 0.4741 - val_accuracy: 0.8877\n",
      "Epoch 11/30\n",
      "460/460 [==============================] - 14s 30ms/step - loss: 0.1901 - accuracy: 0.9348 - val_loss: 0.5474 - val_accuracy: 0.8761\n",
      "Epoch 12/30\n",
      "460/460 [==============================] - 14s 31ms/step - loss: 0.1760 - accuracy: 0.9384 - val_loss: 0.3903 - val_accuracy: 0.9023\n",
      "Epoch 13/30\n",
      "460/460 [==============================] - 14s 30ms/step - loss: 0.1630 - accuracy: 0.9418 - val_loss: 0.3990 - val_accuracy: 0.9080\n",
      "Epoch 14/30\n",
      "460/460 [==============================] - 14s 30ms/step - loss: 0.1698 - accuracy: 0.9397 - val_loss: 0.4965 - val_accuracy: 0.8979\n",
      "Epoch 15/30\n",
      "460/460 [==============================] - 13s 29ms/step - loss: 0.1582 - accuracy: 0.9450 - val_loss: 0.5159 - val_accuracy: 0.8996\n",
      "Epoch 16/30\n",
      "460/460 [==============================] - 24s 52ms/step - loss: 0.1662 - accuracy: 0.9452 - val_loss: 0.8095 - val_accuracy: 0.8724\n",
      "Epoch 17/30\n",
      "460/460 [==============================] - 34s 73ms/step - loss: 0.1571 - accuracy: 0.9465 - val_loss: 0.6255 - val_accuracy: 0.8928\n",
      "Epoch 18/30\n",
      "460/460 [==============================] - 24s 51ms/step - loss: 0.1633 - accuracy: 0.9429 - val_loss: 0.4347 - val_accuracy: 0.9111\n",
      "Epoch 19/30\n",
      "460/460 [==============================] - 13s 29ms/step - loss: 0.1584 - accuracy: 0.9445 - val_loss: 0.6242 - val_accuracy: 0.8965\n",
      "Epoch 20/30\n",
      "460/460 [==============================] - 13s 29ms/step - loss: 0.1462 - accuracy: 0.9475 - val_loss: 0.3825 - val_accuracy: 0.8985\n",
      "Epoch 21/30\n",
      "460/460 [==============================] - 14s 30ms/step - loss: 0.1519 - accuracy: 0.9476 - val_loss: 0.3876 - val_accuracy: 0.9138\n",
      "Epoch 22/30\n",
      "460/460 [==============================] - 14s 30ms/step - loss: 0.1548 - accuracy: 0.9471 - val_loss: 0.6493 - val_accuracy: 0.8839\n",
      "Epoch 23/30\n",
      "460/460 [==============================] - 15s 33ms/step - loss: 0.1321 - accuracy: 0.9493 - val_loss: 0.6712 - val_accuracy: 0.9030\n",
      "Epoch 24/30\n",
      "460/460 [==============================] - 14s 30ms/step - loss: 0.1432 - accuracy: 0.9497 - val_loss: 0.4624 - val_accuracy: 0.9158\n",
      "Epoch 25/30\n",
      "460/460 [==============================] - 14s 31ms/step - loss: 0.1443 - accuracy: 0.9497 - val_loss: 0.5433 - val_accuracy: 0.9060\n",
      "Epoch 26/30\n",
      "460/460 [==============================] - 14s 31ms/step - loss: 0.1472 - accuracy: 0.9486 - val_loss: 0.4759 - val_accuracy: 0.9046\n",
      "Epoch 27/30\n",
      "460/460 [==============================] - 14s 31ms/step - loss: 0.1380 - accuracy: 0.9506 - val_loss: 0.4564 - val_accuracy: 0.9162\n",
      "Epoch 28/30\n",
      "460/460 [==============================] - 14s 31ms/step - loss: 0.1480 - accuracy: 0.9487 - val_loss: 0.7562 - val_accuracy: 0.9043\n",
      "Epoch 29/30\n",
      "460/460 [==============================] - 13s 29ms/step - loss: 0.1537 - accuracy: 0.9487 - val_loss: 0.3908 - val_accuracy: 0.9213\n",
      "Epoch 30/30\n",
      "460/460 [==============================] - 13s 29ms/step - loss: 0.1543 - accuracy: 0.9480 - val_loss: 1.4618 - val_accuracy: 0.8188\n"
     ]
    },
    {
     "data": {
      "text/plain": [
       "<keras.src.callbacks.History at 0x7fa6689fa250>"
      ]
     },
     "execution_count": 37,
     "metadata": {},
     "output_type": "execute_result"
    }
   ],
   "source": [
    "# Training the model\n",
    "model.fit(X_train, Y_train, batch_size=batch_size, validation_data=(X_test, Y_test),epochs=epochs)"
   ]
  },
  {
   "cell_type": "code",
   "execution_count": 38,
   "metadata": {},
   "outputs": [],
   "source": [
    "def generate_confusion_matrix(Y_true, Y_pred):\n",
    "    Y_true = pd.Series([ACTIVITIES[y] for y in np.argmax(Y_true, axis=1)])\n",
    "    Y_pred = pd.Series([ACTIVITIES[y] for y in np.argmax(Y_pred, axis=1)])\n",
    "    return pd.crosstab(Y_true, Y_pred, rownames=['True'], colnames=['Pred'])"
   ]
  },
  {
   "cell_type": "code",
   "execution_count": 39,
   "metadata": {},
   "outputs": [
    {
     "name": "stdout",
     "output_type": "stream",
     "text": [
      "93/93 [==============================] - 1s 9ms/step\n"
     ]
    }
   ],
   "source": [
    "#Generate Confusion Matrix\n",
    "confusion_matrix = generate_confusion_matrix(Y_test, model.predict(X_test))"
   ]
  },
  {
   "cell_type": "code",
   "execution_count": 40,
   "metadata": {},
   "outputs": [
    {
     "name": "stderr",
     "output_type": "stream",
     "text": [
      "/var/folders/_z/7xh85xcn7rd84tynktgvzyrr0000gn/T/ipykernel_47549/548805115.py:4: FutureWarning: Support for multi-dimensional indexing (e.g. `obj[:, None]`) is deprecated and will be removed in a future version.  Convert to a numpy array before indexing instead.\n",
      "  normalized_cm = confusion_matrix.astype('float') / confusion_matrix.sum(axis=1)[:, np.newaxis]\n"
     ]
    },
    {
     "data": {
      "image/png": "[encoded data removed]",
      "text/plain": [
       "<Figure size 720x720 with 2 Axes>"
      ]
     },
     "metadata": {
      "needs_background": "light"
     },
     "output_type": "display_data"
    }
   ],
   "source": [
    "#Plot Normalized Confusion Matrix\n",
    "\n",
    "# Calculate normalized confusion matrix\n",
    "normalized_cm = confusion_matrix.astype('float') / confusion_matrix.sum(axis=1)[:, np.newaxis]\n",
    "\n",
    "#List out target names\n",
    "target_names = ['LAYING', 'SITTING', 'STANDING', 'WALKING', 'WALKING_DOWNSTAIRS', 'WALKING_UPSTAIRS']\n",
    "\n",
    "#Use seaborn to plot heat map of confusion matrix\n",
    "fig, ax = plt.subplots(figsize=(10,10))\n",
    "sns.heatmap(normalized_cm, annot=True, fmt='.2f', xticklabels = target_names, yticklabels = target_names)\n",
    "plt.ylabel('True Label')\n",
    "plt.xlabel('Predicted Label')\n",
    "plt.show(block=False)"
   ]
  },
  {
   "cell_type": "code",
   "execution_count": 41,
   "metadata": {},
   "outputs": [
    {
     "name": "stdout",
     "output_type": "stream",
     "text": [
      "93/93 [==============================] - 1s 9ms/step - loss: 1.4618 - accuracy: 0.8188\n",
      "\n",
      "   cat_crossentropy  ||   accuracy \n",
      "  ____________________________________\n",
      "[1.4617618322372437, 0.8187987804412842]\n"
     ]
    }
   ],
   "source": [
    "score = model.evaluate(X_test, Y_test)\n",
    "\n",
    "print(\"\\n   cat_crossentropy  ||   accuracy \")\n",
    "print(\"  ____________________________________\")\n",
    "print(score)"
   ]
  }
 ],
 "metadata": {
  "kernelspec": {
   "display_name": "base",
   "language": "python",
   "name": "python3"
  },
  "language_info": {
   "codemirror_mode": {
    "name": "ipython",
    "version": 3
   },
   "file_extension": ".py",
   "mimetype": "text/x-python",
   "name": "python",
   "nbconvert_exporter": "python",
   "pygments_lexer": "ipython3",
   "version": "3.9.12"
  }
 },
 "nbformat": 4,
 "nbformat_minor": 2
}
