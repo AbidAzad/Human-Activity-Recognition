{
 "cells": [
  {
   "cell_type": "markdown",
   "metadata": {},
   "source": [
    "# Import Libraries"
   ]
  },
  {
   "cell_type": "code",
   "execution_count": 1,
   "metadata": {},
   "outputs": [
    {
     "name": "stderr",
     "output_type": "stream",
     "text": [
      "2023-12-07 09:27:14.408724: I tensorflow/core/platform/cpu_feature_guard.cc:182] This TensorFlow binary is optimized to use available CPU instructions in performance-critical operations.\n",
      "To enable the following instructions: AVX2 FMA, in other operations, rebuild TensorFlow with the appropriate compiler flags.\n"
     ]
    }
   ],
   "source": [
    "import pandas as pd\n",
    "import numpy as np\n",
    "\n",
    "#Use Keras Neural Network Components. This will be used to construct the LSTM\n",
    "from keras import backend as K\n",
    "from keras.models import Sequential\n",
    "from keras.layers import LSTM\n",
    "from keras.layers import Dense, Dropout\n",
    "from keras.layers import BatchNormalization\n",
    "from keras.regularizers import L1L2\n",
    "\n",
    "#Import Tensorflow \n",
    "import tensorflow as tf\n",
    "\n",
    "#Plotting Libraries\n",
    "import matplotlib.pyplot as plt\n",
    "import seaborn as sns"
   ]
  },
  {
   "cell_type": "markdown",
   "metadata": {},
   "source": [
    "# Ensure Reproducability of Results"
   ]
  },
  {
   "cell_type": "code",
   "execution_count": 2,
   "metadata": {},
   "outputs": [],
   "source": [
    "np.random.seed(42)\n",
    "tf.random.set_seed(42)"
   ]
  },
  {
   "cell_type": "markdown",
   "metadata": {},
   "source": [
    "# Fetch and Set Up Data"
   ]
  },
  {
   "cell_type": "code",
   "execution_count": 3,
   "metadata": {},
   "outputs": [],
   "source": [
    "#Numerically Encode the Activities\n",
    "ACTIVITIES = {\n",
    "    0: 'WALKING',\n",
    "    1: 'WALKING_UPSTAIRS',\n",
    "    2: 'WALKING_DOWNSTAIRS',\n",
    "    3: 'SITTING',\n",
    "    4: 'STANDING',\n",
    "    5: 'LAYING',\n",
    "}"
   ]
  },
  {
   "cell_type": "code",
   "execution_count": 4,
   "metadata": {},
   "outputs": [],
   "source": [
    "DATDIR = \"data/UCI HAR Dataset\"\n",
    "SIGNALS = [\n",
    "    \"body_acc_x\",\n",
    "    \"body_acc_y\",\n",
    "    \"body_acc_z\",\n",
    "    \"body_gyro_x\",\n",
    "    \"body_gyro_y\",\n",
    "    \"body_gyro_z\",\n",
    "    \"total_acc_x\",\n",
    "    \"total_acc_y\",\n",
    "    \"total_acc_z\"\n",
    "    ]"
   ]
  },
  {
   "cell_type": "code",
   "execution_count": 5,
   "metadata": {},
   "outputs": [],
   "source": [
    "#train_test: 0 if we want to fetch the training signal data, 1 if we want to fetch the test signal data\n",
    "def fetch_raw_signal_data(train_test, signal):\n",
    "    file_path = DATDIR + f\"/{'train' if train_test == 0 else 'test'}/Inertial Signals/{signal}_{'train' if train_test == 0 else 'test'}.txt\"\n",
    "    return pd.read_csv(file_path, delim_whitespace = True, header = None)\n",
    "\n",
    "#Same purpose as previous function but, in this case, we are fetching ALL the raw signal data!\n",
    "#train_test: 0 if we want to fetch the training signal data, 1 if we want to fetch the test signal data\n",
    "def fetch_all_raw_signals(train_test):\n",
    "    data_raw_signals = []\n",
    "    for signal in SIGNALS:\n",
    "        raw_signal_data = fetch_raw_signal_data(train_test, signal).to_numpy()\n",
    "        data_raw_signals.append(raw_signal_data)\n",
    "    \n",
    "    data_raw_signals = np.array(data_raw_signals)\n",
    "    return np.transpose(data_raw_signals, axes = (1, 2, 0))\n",
    "\n",
    "#Fetch Labels\n",
    "#train_test: 0 if we want to fetch the training signal data, 1 if we want to fetch the test signal data\n",
    "def fetch_labels(train_test):\n",
    "    file_path = DATDIR + f\"/{'train' if train_test == 0 else 'test'}/y_{'train' if train_test == 0 else 'test'}.txt\"\n",
    "    return pd.get_dummies(pd.read_csv(file_path, delim_whitespace=True, header = None)[0]).to_numpy()"
   ]
  },
  {
   "cell_type": "code",
   "execution_count": 6,
   "metadata": {},
   "outputs": [
    {
     "name": "stdout",
     "output_type": "stream",
     "text": [
      "7352 128 9\n",
      "6\n"
     ]
    }
   ],
   "source": [
    "X_train, X_test, Y_train, Y_test = fetch_all_raw_signals(0), fetch_all_raw_signals(1), fetch_labels(0), fetch_labels(1)\n",
    "\n",
    "N = X_train.shape[0]\n",
    "T = X_train.shape[1]\n",
    "D = X_train.shape[2]\n",
    "\n",
    "print(N, T, D)\n",
    "\n",
    "n_classes = Y_train.shape[1]\n",
    "print(n_classes)"
   ]
  },
  {
   "cell_type": "markdown",
   "metadata": {},
   "source": [
    "# Define LSTM Architecture"
   ]
  },
  {
   "cell_type": "markdown",
   "metadata": {},
   "source": [
    "## Use 1 LSTM Layer"
   ]
  },
  {
   "cell_type": "code",
   "execution_count": 7,
   "metadata": {},
   "outputs": [],
   "source": [
    "##Hyperparameters\n",
    "epochs = 30\n",
    "batch_size = 16\n",
    "n_hidden_1 = 32\n",
    "n_hidden_2 = 16\n",
    "dropout_p = 0.5"
   ]
  },
  {
   "cell_type": "code",
   "execution_count": 8,
   "metadata": {},
   "outputs": [
    {
     "name": "stdout",
     "output_type": "stream",
     "text": [
      "Model: \"sequential\"\n",
      "_________________________________________________________________\n",
      " Layer (type)                Output Shape              Param #   \n",
      "=================================================================\n",
      " lstm (LSTM)                 (None, 32)                5376      \n",
      "                                                                 \n",
      " dropout (Dropout)           (None, 32)                0         \n",
      "                                                                 \n",
      " dense (Dense)               (None, 16)                528       \n",
      "                                                                 \n",
      " dense_1 (Dense)             (None, 6)                 102       \n",
      "                                                                 \n",
      "=================================================================\n",
      "Total params: 6006 (23.46 KB)\n",
      "Trainable params: 6006 (23.46 KB)\n",
      "Non-trainable params: 0 (0.00 Byte)\n",
      "_________________________________________________________________\n"
     ]
    }
   ],
   "source": [
    "model = Sequential() #Initializing our Model Architecture\n",
    "\n",
    "# Add an LSTM Layer\n",
    "model.add(LSTM(n_hidden_1, input_shape = (T, D)))\n",
    "\n",
    "# Adding a dropout layer\n",
    "model.add(Dropout(dropout_p))\n",
    "\n",
    "#Add another Dense Layer\n",
    "model.add(Dense(n_hidden_2, activation = \"relu\"))\n",
    "\n",
    "# Adding a Dense Layer with the Softmax Activation Function\n",
    "model.add(Dense(n_classes, activation = 'softmax'))\n",
    "\n",
    "model.summary() #Display a Summary of our model architecture"
   ]
  },
  {
   "cell_type": "code",
   "execution_count": 9,
   "metadata": {},
   "outputs": [],
   "source": [
    "# Compiling the model\n",
    "model.compile(loss='categorical_crossentropy', optimizer='rmsprop', metrics=['accuracy'])"
   ]
  },
  {
   "cell_type": "code",
   "execution_count": 10,
   "metadata": {},
   "outputs": [
    {
     "name": "stdout",
     "output_type": "stream",
     "text": [
      "Epoch 1/30\n",
      "460/460 [==============================] - 16s 30ms/step - loss: 1.1785 - accuracy: 0.5011 - val_loss: 0.9411 - val_accuracy: 0.5904\n",
      "Epoch 2/30\n",
      "460/460 [==============================] - 13s 29ms/step - loss: 0.7235 - accuracy: 0.6835 - val_loss: 0.7241 - val_accuracy: 0.7438\n",
      "Epoch 3/30\n",
      "460/460 [==============================] - 13s 29ms/step - loss: 0.5996 - accuracy: 0.7641 - val_loss: 1.0913 - val_accuracy: 0.6447\n",
      "Epoch 4/30\n",
      "460/460 [==============================] - 15s 32ms/step - loss: 0.4922 - accuracy: 0.8105 - val_loss: 0.6716 - val_accuracy: 0.7822\n",
      "Epoch 5/30\n",
      "460/460 [==============================] - 14s 31ms/step - loss: 0.4257 - accuracy: 0.8335 - val_loss: 0.6036 - val_accuracy: 0.8039\n",
      "Epoch 6/30\n",
      "460/460 [==============================] - 14s 31ms/step - loss: 0.3614 - accuracy: 0.8821 - val_loss: 0.6102 - val_accuracy: 0.8429\n",
      "Epoch 7/30\n",
      "460/460 [==============================] - 14s 31ms/step - loss: 0.2976 - accuracy: 0.9003 - val_loss: 0.6812 - val_accuracy: 0.8300\n",
      "Epoch 8/30\n",
      "460/460 [==============================] - 14s 30ms/step - loss: 0.2625 - accuracy: 0.9113 - val_loss: 0.5807 - val_accuracy: 0.8219\n",
      "Epoch 9/30\n",
      "460/460 [==============================] - 15s 33ms/step - loss: 0.2526 - accuracy: 0.9161 - val_loss: 0.5942 - val_accuracy: 0.8568\n",
      "Epoch 10/30\n",
      "460/460 [==============================] - 15s 32ms/step - loss: 0.2341 - accuracy: 0.9219 - val_loss: 0.4402 - val_accuracy: 0.8724\n",
      "Epoch 11/30\n",
      "460/460 [==============================] - 14s 30ms/step - loss: 0.2104 - accuracy: 0.9274 - val_loss: 0.4191 - val_accuracy: 0.8792\n",
      "Epoch 12/30\n",
      "460/460 [==============================] - 15s 33ms/step - loss: 0.2071 - accuracy: 0.9302 - val_loss: 0.3786 - val_accuracy: 0.8992\n",
      "Epoch 13/30\n",
      "460/460 [==============================] - 15s 32ms/step - loss: 0.1920 - accuracy: 0.9339 - val_loss: 0.3028 - val_accuracy: 0.8951\n",
      "Epoch 14/30\n",
      "460/460 [==============================] - 14s 30ms/step - loss: 0.1862 - accuracy: 0.9355 - val_loss: 0.3809 - val_accuracy: 0.8907\n",
      "Epoch 15/30\n",
      "460/460 [==============================] - 14s 30ms/step - loss: 0.1709 - accuracy: 0.9397 - val_loss: 0.4388 - val_accuracy: 0.8901\n",
      "Epoch 16/30\n",
      "460/460 [==============================] - 14s 30ms/step - loss: 0.1709 - accuracy: 0.9376 - val_loss: 0.3231 - val_accuracy: 0.9091\n",
      "Epoch 17/30\n",
      "460/460 [==============================] - 14s 30ms/step - loss: 0.1655 - accuracy: 0.9396 - val_loss: 0.3698 - val_accuracy: 0.8924\n",
      "Epoch 18/30\n",
      "460/460 [==============================] - 14s 31ms/step - loss: 0.1625 - accuracy: 0.9415 - val_loss: 0.3095 - val_accuracy: 0.9043\n",
      "Epoch 19/30\n",
      "460/460 [==============================] - 14s 30ms/step - loss: 0.1655 - accuracy: 0.9412 - val_loss: 0.4193 - val_accuracy: 0.9013\n",
      "Epoch 20/30\n",
      "460/460 [==============================] - 13s 29ms/step - loss: 0.1547 - accuracy: 0.9437 - val_loss: 0.4137 - val_accuracy: 0.9036\n",
      "Epoch 21/30\n",
      "460/460 [==============================] - 13s 28ms/step - loss: 0.1594 - accuracy: 0.9440 - val_loss: 0.3560 - val_accuracy: 0.9033\n",
      "Epoch 22/30\n",
      "460/460 [==============================] - 14s 30ms/step - loss: 0.1501 - accuracy: 0.9460 - val_loss: 0.3727 - val_accuracy: 0.8985\n",
      "Epoch 23/30\n",
      "460/460 [==============================] - 14s 30ms/step - loss: 0.1401 - accuracy: 0.9479 - val_loss: 0.5354 - val_accuracy: 0.8928\n",
      "Epoch 24/30\n",
      "460/460 [==============================] - 14s 30ms/step - loss: 0.1488 - accuracy: 0.9472 - val_loss: 0.5575 - val_accuracy: 0.9030\n",
      "Epoch 25/30\n",
      "460/460 [==============================] - 14s 31ms/step - loss: 0.1399 - accuracy: 0.9489 - val_loss: 0.5787 - val_accuracy: 0.8992\n",
      "Epoch 26/30\n",
      "460/460 [==============================] - 14s 30ms/step - loss: 0.1392 - accuracy: 0.9521 - val_loss: 0.5133 - val_accuracy: 0.9063\n",
      "Epoch 27/30\n",
      "460/460 [==============================] - 14s 30ms/step - loss: 0.1325 - accuracy: 0.9516 - val_loss: 0.9471 - val_accuracy: 0.8968\n",
      "Epoch 28/30\n",
      "460/460 [==============================] - 14s 30ms/step - loss: 0.1487 - accuracy: 0.9487 - val_loss: 0.6452 - val_accuracy: 0.8935\n",
      "Epoch 29/30\n",
      "460/460 [==============================] - 16s 34ms/step - loss: 0.1391 - accuracy: 0.9472 - val_loss: 0.3876 - val_accuracy: 0.9104\n",
      "Epoch 30/30\n",
      "460/460 [==============================] - 14s 31ms/step - loss: 0.1529 - accuracy: 0.9506 - val_loss: 0.6961 - val_accuracy: 0.8958\n"
     ]
    },
    {
     "data": {
      "text/plain": [
       "<keras.src.callbacks.History at 0x7fed98af7e80>"
      ]
     },
     "execution_count": 10,
     "metadata": {},
     "output_type": "execute_result"
    }
   ],
   "source": [
    "# Training the model\n",
    "model.fit(X_train, Y_train, batch_size=batch_size, validation_data=(X_test, Y_test),epochs=epochs)"
   ]
  },
  {
   "cell_type": "code",
   "execution_count": 11,
   "metadata": {},
   "outputs": [],
   "source": [
    "def generate_confusion_matrix(Y_true, Y_pred):\n",
    "    Y_true = pd.Series([ACTIVITIES[y] for y in np.argmax(Y_true, axis=1)])\n",
    "    Y_pred = pd.Series([ACTIVITIES[y] for y in np.argmax(Y_pred, axis=1)])\n",
    "    return pd.crosstab(Y_true, Y_pred, rownames=['True'], colnames=['Pred'])"
   ]
  },
  {
   "cell_type": "code",
   "execution_count": 12,
   "metadata": {},
   "outputs": [
    {
     "name": "stdout",
     "output_type": "stream",
     "text": [
      "93/93 [==============================] - 1s 9ms/step\n"
     ]
    }
   ],
   "source": [
    "#Generate Confusion Matrix\n",
    "confusion_matrix = generate_confusion_matrix(Y_test, model.predict(X_test))"
   ]
  },
  {
   "cell_type": "code",
   "execution_count": 13,
   "metadata": {},
   "outputs": [
    {
     "name": "stderr",
     "output_type": "stream",
     "text": [
      "/var/folders/_z/7xh85xcn7rd84tynktgvzyrr0000gn/T/ipykernel_44794/548805115.py:4: FutureWarning: Support for multi-dimensional indexing (e.g. `obj[:, None]`) is deprecated and will be removed in a future version.  Convert to a numpy array before indexing instead.\n",
      "  normalized_cm = confusion_matrix.astype('float') / confusion_matrix.sum(axis=1)[:, np.newaxis]\n"
     ]
    },
    {
     "data": {
      "image/png": "[encoded data removed]",
      "text/plain": [
       "<Figure size 720x720 with 2 Axes>"
      ]
     },
     "metadata": {
      "needs_background": "light"
     },
     "output_type": "display_data"
    }
   ],
   "source": [
    "#Plot Normalized Confusion Matrix\n",
    "\n",
    "# Calculate normalized confusion matrix\n",
    "normalized_cm = confusion_matrix.astype('float') / confusion_matrix.sum(axis=1)[:, np.newaxis]\n",
    "\n",
    "#List out target names\n",
    "target_names = ['LAYING', 'SITTING', 'STANDING', 'WALKING', 'WALKING_DOWNSTAIRS', 'WALKING_UPSTAIRS']\n",
    "\n",
    "#Use seaborn to plot heat map of confusion matrix\n",
    "fig, ax = plt.subplots(figsize=(10,10))\n",
    "sns.heatmap(normalized_cm, annot=True, fmt='.2f', xticklabels = target_names, yticklabels = target_names)\n",
    "plt.ylabel('True Label')\n",
    "plt.xlabel('Predicted Label')\n",
    "plt.show(block=False)"
   ]
  },
  {
   "cell_type": "code",
   "execution_count": 14,
   "metadata": {},
   "outputs": [
    {
     "name": "stdout",
     "output_type": "stream",
     "text": [
      "93/93 [==============================] - 1s 9ms/step - loss: 0.6961 - accuracy: 0.8958\n",
      "\n",
      "   cat_crossentropy  ||   accuracy \n",
      "  ____________________________________\n",
      "[0.696121871471405, 0.8958262801170349]\n"
     ]
    }
   ],
   "source": [
    "score = model.evaluate(X_test, Y_test)\n",
    "\n",
    "print(\"\\n   cat_crossentropy  ||   accuracy \")\n",
    "print(\"  ____________________________________\")\n",
    "print(score)"
   ]
  },
  {
   "cell_type": "markdown",
   "metadata": {},
   "source": [
    "## Use 2 LSTM Layers"
   ]
  },
  {
   "cell_type": "code",
   "execution_count": 15,
   "metadata": {},
   "outputs": [],
   "source": [
    "##Hyperparameters\n",
    "epochs = 30\n",
    "batch_size = 16\n",
    "n_hidden_1 = 64\n",
    "dropout_p = 0.5\n",
    "n_hidden_2 = 32\n",
    "n_hidden_3 = 16"
   ]
  },
  {
   "cell_type": "code",
   "execution_count": 16,
   "metadata": {},
   "outputs": [
    {
     "name": "stdout",
     "output_type": "stream",
     "text": [
      "Model: \"sequential_1\"\n",
      "_________________________________________________________________\n",
      " Layer (type)                Output Shape              Param #   \n",
      "=================================================================\n",
      " lstm_1 (LSTM)               (None, 128, 64)           18944     \n",
      "                                                                 \n",
      " batch_normalization (Batch  (None, 128, 64)           256       \n",
      " Normalization)                                                  \n",
      "                                                                 \n",
      " dropout_1 (Dropout)         (None, 128, 64)           0         \n",
      "                                                                 \n",
      " lstm_2 (LSTM)               (None, 32)                12416     \n",
      "                                                                 \n",
      " batch_normalization_1 (Bat  (None, 32)                128       \n",
      " chNormalization)                                                \n",
      "                                                                 \n",
      " dropout_2 (Dropout)         (None, 32)                0         \n",
      "                                                                 \n",
      " dense_2 (Dense)             (None, 16)                528       \n",
      "                                                                 \n",
      " dense_3 (Dense)             (None, 6)                 102       \n",
      "                                                                 \n",
      "=================================================================\n",
      "Total params: 32374 (126.46 KB)\n",
      "Trainable params: 32182 (125.71 KB)\n",
      "Non-trainable params: 192 (768.00 Byte)\n",
      "_________________________________________________________________\n"
     ]
    }
   ],
   "source": [
    "model = Sequential() #Initializing our Model Architecture\n",
    "\n",
    "#Define LSTM Layer with Batch Normalization\n",
    "model.add(LSTM(n_hidden_1, input_shape=(T, D), return_sequences=True))\n",
    "model.add(BatchNormalization())\n",
    "\n",
    "#Define Dropout Layer\n",
    "model.add(Dropout(dropout_p))\n",
    "\n",
    "#Define the second LSTM Layer with Batch Normalization\n",
    "model.add(LSTM(n_hidden_2))\n",
    "model.add(BatchNormalization())\n",
    "\n",
    "#Define Dropout Layer\n",
    "model.add(Dropout(dropout_p))\n",
    "\n",
    "#Define Dense Layer\n",
    "model.add(Dense(n_hidden_3, activation = 'relu'))\n",
    "\n",
    "#Define Dense Layer\n",
    "model.add(Dense(n_classes, activation = 'softmax'))\n",
    "\n",
    "#Print Model Summary\n",
    "model.summary()"
   ]
  },
  {
   "cell_type": "code",
   "execution_count": 17,
   "metadata": {},
   "outputs": [],
   "source": [
    "# Compiling the model\n",
    "model.compile(loss='categorical_crossentropy', optimizer='rmsprop', metrics=['accuracy'])"
   ]
  },
  {
   "cell_type": "code",
   "execution_count": 18,
   "metadata": {},
   "outputs": [
    {
     "name": "stdout",
     "output_type": "stream",
     "text": [
      "Epoch 1/30\n",
      "460/460 [==============================] - 39s 76ms/step - loss: 0.9566 - accuracy: 0.6197 - val_loss: 0.8674 - val_accuracy: 0.6797\n",
      "Epoch 2/30\n",
      "460/460 [==============================] - 33s 71ms/step - loss: 0.5322 - accuracy: 0.8016 - val_loss: 0.3234 - val_accuracy: 0.8843\n",
      "Epoch 3/30\n",
      "460/460 [==============================] - 37s 82ms/step - loss: 0.3387 - accuracy: 0.8845 - val_loss: 0.9640 - val_accuracy: 0.7835\n",
      "Epoch 4/30\n",
      "460/460 [==============================] - 32s 71ms/step - loss: 0.2571 - accuracy: 0.9110 - val_loss: 0.5862 - val_accuracy: 0.8483\n",
      "Epoch 5/30\n",
      "460/460 [==============================] - 35s 77ms/step - loss: 0.2435 - accuracy: 0.9192 - val_loss: 0.4277 - val_accuracy: 0.8823\n",
      "Epoch 6/30\n",
      "460/460 [==============================] - 34s 73ms/step - loss: 0.2111 - accuracy: 0.9226 - val_loss: 0.5846 - val_accuracy: 0.8717\n",
      "Epoch 7/30\n",
      "460/460 [==============================] - 36s 78ms/step - loss: 0.2082 - accuracy: 0.9286 - val_loss: 0.3010 - val_accuracy: 0.9036\n",
      "Epoch 8/30\n",
      "460/460 [==============================] - 35s 77ms/step - loss: 0.1907 - accuracy: 0.9329 - val_loss: 0.3633 - val_accuracy: 0.9114\n",
      "Epoch 9/30\n",
      "460/460 [==============================] - 34s 73ms/step - loss: 0.1686 - accuracy: 0.9357 - val_loss: 0.3358 - val_accuracy: 0.9250\n",
      "Epoch 10/30\n",
      "460/460 [==============================] - 33s 73ms/step - loss: 0.1748 - accuracy: 0.9376 - val_loss: 0.2412 - val_accuracy: 0.9216\n",
      "Epoch 11/30\n",
      "460/460 [==============================] - 31s 68ms/step - loss: 0.1833 - accuracy: 0.9343 - val_loss: 0.3674 - val_accuracy: 0.9179\n",
      "Epoch 12/30\n",
      "460/460 [==============================] - 31s 67ms/step - loss: 0.1498 - accuracy: 0.9441 - val_loss: 0.3801 - val_accuracy: 0.9169\n",
      "Epoch 13/30\n",
      "460/460 [==============================] - 32s 71ms/step - loss: 0.1688 - accuracy: 0.9376 - val_loss: 0.4494 - val_accuracy: 0.9141\n",
      "Epoch 14/30\n",
      "460/460 [==============================] - 37s 81ms/step - loss: 0.1669 - accuracy: 0.9423 - val_loss: 0.5425 - val_accuracy: 0.8948\n",
      "Epoch 15/30\n",
      "460/460 [==============================] - 32s 69ms/step - loss: 0.1609 - accuracy: 0.9392 - val_loss: 0.6146 - val_accuracy: 0.9060\n",
      "Epoch 16/30\n",
      "460/460 [==============================] - 35s 76ms/step - loss: 0.1702 - accuracy: 0.9412 - val_loss: 0.4210 - val_accuracy: 0.9067\n",
      "Epoch 17/30\n",
      "460/460 [==============================] - 33s 71ms/step - loss: 0.1495 - accuracy: 0.9470 - val_loss: 0.3751 - val_accuracy: 0.9189\n",
      "Epoch 18/30\n",
      "460/460 [==============================] - 32s 70ms/step - loss: 0.1676 - accuracy: 0.9436 - val_loss: 0.4039 - val_accuracy: 0.9209\n",
      "Epoch 19/30\n",
      "460/460 [==============================] - 33s 71ms/step - loss: 0.1752 - accuracy: 0.9395 - val_loss: 0.8402 - val_accuracy: 0.8198\n",
      "Epoch 20/30\n",
      "460/460 [==============================] - 31s 67ms/step - loss: 0.1968 - accuracy: 0.9374 - val_loss: 0.4482 - val_accuracy: 0.9077\n",
      "Epoch 21/30\n",
      "460/460 [==============================] - 33s 73ms/step - loss: 0.1594 - accuracy: 0.9470 - val_loss: 0.4789 - val_accuracy: 0.9043\n",
      "Epoch 22/30\n",
      "460/460 [==============================] - 33s 72ms/step - loss: 0.1543 - accuracy: 0.9442 - val_loss: 0.5200 - val_accuracy: 0.9104\n",
      "Epoch 23/30\n",
      "460/460 [==============================] - 34s 73ms/step - loss: 0.1473 - accuracy: 0.9467 - val_loss: 0.6141 - val_accuracy: 0.9084\n",
      "Epoch 24/30\n",
      "460/460 [==============================] - 32s 69ms/step - loss: 0.1636 - accuracy: 0.9452 - val_loss: 0.8602 - val_accuracy: 0.8843\n",
      "Epoch 25/30\n",
      "460/460 [==============================] - 32s 70ms/step - loss: 0.1619 - accuracy: 0.9442 - val_loss: 0.4411 - val_accuracy: 0.9162\n",
      "Epoch 26/30\n",
      "460/460 [==============================] - 32s 70ms/step - loss: 0.1603 - accuracy: 0.9440 - val_loss: 0.4368 - val_accuracy: 0.9209\n",
      "Epoch 27/30\n",
      "460/460 [==============================] - 32s 70ms/step - loss: 0.1447 - accuracy: 0.9491 - val_loss: 0.4507 - val_accuracy: 0.9209\n",
      "Epoch 28/30\n",
      "460/460 [==============================] - 32s 71ms/step - loss: 0.1470 - accuracy: 0.9504 - val_loss: 0.8783 - val_accuracy: 0.8989\n",
      "Epoch 29/30\n",
      "460/460 [==============================] - 32s 71ms/step - loss: 0.1531 - accuracy: 0.9472 - val_loss: 0.4479 - val_accuracy: 0.9267\n",
      "Epoch 30/30\n",
      "460/460 [==============================] - 32s 70ms/step - loss: 0.1484 - accuracy: 0.9484 - val_loss: 0.4458 - val_accuracy: 0.9186\n"
     ]
    },
    {
     "data": {
      "text/plain": [
       "<keras.src.callbacks.History at 0x7fed99142370>"
      ]
     },
     "execution_count": 18,
     "metadata": {},
     "output_type": "execute_result"
    }
   ],
   "source": [
    "# Training the model\n",
    "model.fit(X_train, Y_train, batch_size=batch_size, validation_data=(X_test, Y_test),epochs=epochs)"
   ]
  },
  {
   "cell_type": "code",
   "execution_count": 19,
   "metadata": {},
   "outputs": [
    {
     "name": "stdout",
     "output_type": "stream",
     "text": [
      "93/93 [==============================] - 3s 24ms/step\n"
     ]
    }
   ],
   "source": [
    "#Generate Confusion Matrix\n",
    "confusion_matrix = generate_confusion_matrix(Y_test, model.predict(X_test))"
   ]
  },
  {
   "cell_type": "code",
   "execution_count": 20,
   "metadata": {},
   "outputs": [
    {
     "name": "stderr",
     "output_type": "stream",
     "text": [
      "/var/folders/_z/7xh85xcn7rd84tynktgvzyrr0000gn/T/ipykernel_44794/548805115.py:4: FutureWarning: Support for multi-dimensional indexing (e.g. `obj[:, None]`) is deprecated and will be removed in a future version.  Convert to a numpy array before indexing instead.\n",
      "  normalized_cm = confusion_matrix.astype('float') / confusion_matrix.sum(axis=1)[:, np.newaxis]\n"
     ]
    },
    {
     "data": {
      "image/png": "[encoded data removed]",
      "text/plain": [
       "<Figure size 720x720 with 2 Axes>"
      ]
     },
     "metadata": {
      "needs_background": "light"
     },
     "output_type": "display_data"
    }
   ],
   "source": [
    "#Plot Normalized Confusion Matrix\n",
    "\n",
    "# Calculate normalized confusion matrix\n",
    "normalized_cm = confusion_matrix.astype('float') / confusion_matrix.sum(axis=1)[:, np.newaxis]\n",
    "\n",
    "#List out target names\n",
    "target_names = ['LAYING', 'SITTING', 'STANDING', 'WALKING', 'WALKING_DOWNSTAIRS', 'WALKING_UPSTAIRS']\n",
    "\n",
    "#Use seaborn to plot heat map of confusion matrix\n",
    "fig, ax = plt.subplots(figsize=(10,10))\n",
    "sns.heatmap(normalized_cm, annot=True, fmt='.2f', xticklabels = target_names, yticklabels = target_names)\n",
    "plt.ylabel('True Label')\n",
    "plt.xlabel('Predicted Label')\n",
    "plt.show(block=False)"
   ]
  },
  {
   "cell_type": "code",
   "execution_count": 21,
   "metadata": {},
   "outputs": [
    {
     "name": "stdout",
     "output_type": "stream",
     "text": [
      "93/93 [==============================] - 2s 25ms/step - loss: 0.4458 - accuracy: 0.9186\n",
      "\n",
      "   cat_crossentropy  ||   accuracy \n",
      "  ____________________________________\n",
      "[0.44584590196609497, 0.9185612201690674]\n"
     ]
    }
   ],
   "source": [
    "score = model.evaluate(X_test, Y_test)\n",
    "\n",
    "print(\"\\n   cat_crossentropy  ||   accuracy \")\n",
    "print(\"  ____________________________________\")\n",
    "print(score)"
   ]
  }
 ],
 "metadata": {
  "kernelspec": {
   "display_name": "base",
   "language": "python",
   "name": "python3"
  },
  "language_info": {
   "codemirror_mode": {
    "name": "ipython",
    "version": 3
   },
   "file_extension": ".py",
   "mimetype": "text/x-python",
   "name": "python",
   "nbconvert_exporter": "python",
   "pygments_lexer": "ipython3",
   "version": "3.9.12"
  }
 },
 "nbformat": 4,
 "nbformat_minor": 2
}
