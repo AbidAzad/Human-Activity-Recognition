{
 "cells": [
  {
   "cell_type": "markdown",
   "metadata": {},
   "source": [
    "# Import Libraries"
   ]
  },
  {
   "cell_type": "code",
   "execution_count": 1,
   "metadata": {},
   "outputs": [],
   "source": [
    "import numpy as np\n",
    "import pandas as pd\n",
    "import itertools\n",
    "import matplotlib.pyplot as plt\n",
    "import warnings\n",
    "from sklearn.exceptions import ConvergenceWarning\n",
    "from sklearn.metrics import confusion_matrix\n",
    "from datetime import datetime\n",
    "\n",
    "from sklearn import linear_model\n",
    "from sklearn import metrics\n",
    "\n",
    "from sklearn.model_selection import GridSearchCV"
   ]
  },
  {
   "cell_type": "markdown",
   "metadata": {},
   "source": [
    "# Fetching and Processing Data"
   ]
  },
  {
   "cell_type": "code",
   "execution_count": 2,
   "metadata": {},
   "outputs": [],
   "source": [
    "# Load Features\n",
    "features_filepath = 'data/UCI HAR Dataset/features.txt'\n",
    "with open(features_filepath) as features_file:\n",
    "    feature_names = [line.split()[1] for line in features_file.readlines()]\n",
    "\n",
    "# Load Training Data\n",
    "train_data_filepath = 'data/UCI HAR Dataset/train/'\n",
    "X_train_filepath = f'{train_data_filepath}X_train.txt'\n",
    "y_train_filepath = f'{train_data_filepath}y_train.txt'\n",
    "\n",
    "X_train = pd.read_csv(X_train_filepath, delim_whitespace=True, header=None)\n",
    "X_train.columns = feature_names\n",
    "\n",
    "y_train = pd.read_csv(y_train_filepath, names=['Activity']).iloc[:, 0]\n",
    "\n",
    "# Load Testing Data\n",
    "test_data_filepath = 'data/UCI HAR Dataset/test/'\n",
    "X_test_filepath = f'{test_data_filepath}X_test.txt'\n",
    "y_test_filepath = f'{test_data_filepath}y_test.txt'\n",
    "\n",
    "X_test = pd.read_csv(X_test_filepath, delim_whitespace=True, header=None)\n",
    "X_test.columns = feature_names\n",
    "\n",
    "y_test = pd.read_csv(y_test_filepath, names=['Activity']).iloc[:, 0]\n"
   ]
  },
  {
   "cell_type": "markdown",
   "metadata": {},
   "source": [
    "# Set Up Grid Search And LR Model"
   ]
  },
  {
   "cell_type": "code",
   "execution_count": 3,
   "metadata": {},
   "outputs": [],
   "source": [
    "# Define hyperparameters grid\n",
    "param_grid = {'C': [0.01, 0.1, 1, 10, 20, 30], 'penalty': ['l2', 'l1']}\n",
    "\n",
    "# Create a Logistic Regression model\n",
    "logistic_regression_model = linear_model.LogisticRegression()\n",
    "\n",
    "# Set up GridSearchCV\n",
    "log_reg_grid_search = GridSearchCV(logistic_regression_model, param_grid=param_grid, cv=3, verbose=1, n_jobs=-1)"
   ]
  },
  {
   "cell_type": "markdown",
   "metadata": {},
   "source": [
    "# Train LR Model"
   ]
  },
  {
   "cell_type": "code",
   "execution_count": 4,
   "metadata": {},
   "outputs": [
    {
     "name": "stdout",
     "output_type": "stream",
     "text": [
      "Model Training has Started!\n",
      "Model Training Done!\n",
      "\n",
      "Training Time: 0:00:01.878823\n",
      "\n"
     ]
    }
   ],
   "source": [
    "# Dictionary to store results\n",
    "results_dict = {}\n",
    "\n",
    "# Ignore warnings\n",
    "warnings.filterwarnings(\"ignore\")\n",
    "warnings.simplefilter(action='ignore', category=ConvergenceWarning)\n",
    "\n",
    "# Record the start time for training\n",
    "training_start_time = datetime.now()\n",
    "print('Model Training has Started!')\n",
    "\n",
    "# Fit the logistic regression model\n",
    "logistic_regression_model.fit(X_train, y_train)\n",
    "\n",
    "# Print a message indicating the end of training\n",
    "print('Model Training Done!\\n')\n",
    "\n",
    "# Record the end time for training\n",
    "training_end_time = datetime.now()\n",
    "\n",
    "# Calculate and store the training time\n",
    "results_dict['training_time'] = training_end_time - training_start_time\n",
    "print('Training Time: {}\\n'.format(results_dict['training_time']))"
   ]
  },
  {
   "cell_type": "markdown",
   "metadata": {},
   "source": [
    "# Predicting Test Data"
   ]
  },
  {
   "cell_type": "code",
   "execution_count": 5,
   "metadata": {},
   "outputs": [
    {
     "name": "stdout",
     "output_type": "stream",
     "text": [
      "Predicting Test data\n",
      "Predictions Done!\n",
      "\n",
      "Testing Time: 0:00:00.019899\n",
      "\n"
     ]
    }
   ],
   "source": [
    "# Print a message indicating the start of the prediction on test data\n",
    "print('Predicting Test data')\n",
    "\n",
    "# Record the start time for testing\n",
    "testing_start_time = datetime.now()\n",
    "\n",
    "# Predict on the test data\n",
    "y_pred = logistic_regression_model.predict(X_test)\n",
    "\n",
    "# Record the end time for testing\n",
    "testing_end_time = datetime.now()\n",
    "print('Predictions Done!\\n')\n",
    "\n",
    "# Calculate and store the testing time\n",
    "results_dict['testing_time'] = testing_end_time - testing_start_time\n",
    "print('Testing Time: {}\\n'.format(results_dict['testing_time']))\n",
    "\n",
    "# Store the predicted values\n",
    "results_dict['predicted'] = y_pred"
   ]
  },
  {
   "cell_type": "markdown",
   "metadata": {},
   "source": [
    "# Calculated Accuracy"
   ]
  },
  {
   "cell_type": "code",
   "execution_count": 6,
   "metadata": {},
   "outputs": [
    {
     "name": "stdout",
     "output_type": "stream",
     "text": [
      "Accuracy: 0.9579233118425518\n",
      "\n"
     ]
    }
   ],
   "source": [
    "# Calculate accuracy\n",
    "accuracy_score = metrics.accuracy_score(y_true=y_test, y_pred=y_pred)\n",
    "\n",
    "# Store accuracy in the results dictionary\n",
    "results_dict['accuracy'] = accuracy_score\n",
    "\n",
    "# Print the accuracy\n",
    "print('Accuracy: {}\\n'.format(accuracy_score))"
   ]
  },
  {
   "cell_type": "markdown",
   "metadata": {},
   "source": [
    "# Calculating Confusion Matrix"
   ]
  },
  {
   "cell_type": "code",
   "execution_count": 7,
   "metadata": {},
   "outputs": [
    {
     "name": "stdout",
     "output_type": "stream",
     "text": [
      "\n",
      "Confusion Matrix:\n",
      "\n",
      "[[492   1   3   0   0   0]\n",
      " [ 24 445   2   0   0   0]\n",
      " [  4  13 403   0   0   0]\n",
      " [  0   3   0 430  58   0]\n",
      " [  0   0   0  16 516   0]\n",
      " [  0   0   0   0   0 537]]\n"
     ]
    }
   ],
   "source": [
    "# Calculate confusion matrix\n",
    "confusion_matrix = metrics.confusion_matrix(y_test, y_pred)\n",
    "\n",
    "# Store confusion matrix in the results dictionary\n",
    "results_dict['confusion_matrix'] = confusion_matrix\n",
    "\n",
    "# Print the confusion matrix\n",
    "print('\\nConfusion Matrix:')\n",
    "print('\\n{}'.format(confusion_matrix))"
   ]
  },
  {
   "cell_type": "markdown",
   "metadata": {},
   "source": [
    "# Plot Confusion Matrix"
   ]
  },
  {
   "cell_type": "code",
   "execution_count": 8,
   "metadata": {},
   "outputs": [
    {
     "data": {
      "image/png": "[encoded data removed]",
      "text/plain": [
       "<Figure size 432x288 with 2 Axes>"
      ]
     },
     "metadata": {
      "needs_background": "light"
     },
     "output_type": "display_data"
    }
   ],
   "source": [
    "# Set font family\n",
    "plt.rcParams[\"font.family\"] = 'DejaVu Sans'\n",
    "\n",
    "# Calculate normalized confusion matrix\n",
    "normalized_cm = confusion_matrix.astype('float') / confusion_matrix.sum(axis=1)[:, np.newaxis]\n",
    "\n",
    "# Plot the normalized confusion matrix\n",
    "plt.imshow(normalized_cm, interpolation='nearest', cmap=plt.cm.Blues)\n",
    "plt.title('Normalized Confusion Matrix')\n",
    "plt.colorbar()\n",
    "\n",
    "# Define labels and tick marks\n",
    "labels = ['LAYING', 'SITTING', 'STANDING', 'WALKING', 'WALKING_DOWNSTAIRS', 'WALKING_UPSTAIRS']\n",
    "tick_marks = np.arange(len(labels))\n",
    "plt.xticks(tick_marks, labels, rotation=90)\n",
    "plt.yticks(tick_marks, labels)\n",
    "\n",
    "# Format and display values in the cells\n",
    "fmt = '.2f'\n",
    "thresh = normalized_cm.max() / 2.\n",
    "for i, j in itertools.product(range(normalized_cm.shape[0]), range(normalized_cm.shape[1])):\n",
    "    plt.text(j, i, format(normalized_cm[i, j], fmt),\n",
    "             horizontalalignment=\"center\",\n",
    "             color=\"white\" if normalized_cm[i, j] > thresh else \"black\")\n",
    "\n",
    "# Set plot layout and labels\n",
    "plt.tight_layout()\n",
    "plt.ylabel('True label')\n",
    "plt.xlabel('Predicted label')\n",
    "\n",
    "# Show the plot\n",
    "plt.show()"
   ]
  },
  {
   "cell_type": "markdown",
   "metadata": {},
   "source": [
    "# Classification Report"
   ]
  },
  {
   "cell_type": "code",
   "execution_count": 9,
   "metadata": {},
   "outputs": [
    {
     "name": "stdout",
     "output_type": "stream",
     "text": [
      "Classification Report\n",
      "              precision    recall  f1-score   support\n",
      "\n",
      "           1       0.95      0.99      0.97       496\n",
      "           2       0.96      0.94      0.95       471\n",
      "           3       0.99      0.96      0.97       420\n",
      "           4       0.96      0.88      0.92       491\n",
      "           5       0.90      0.97      0.93       532\n",
      "           6       1.00      1.00      1.00       537\n",
      "\n",
      "    accuracy                           0.96      2947\n",
      "   macro avg       0.96      0.96      0.96      2947\n",
      "weighted avg       0.96      0.96      0.96      2947\n",
      "\n"
     ]
    }
   ],
   "source": [
    "# Get classification report\n",
    "print('Classification Report')\n",
    "classification_report_result = metrics.classification_report(y_test, y_pred)\n",
    "\n",
    "# Print the classification report\n",
    "print(classification_report_result)"
   ]
  }
 ],
 "metadata": {
  "kernelspec": {
   "display_name": "Python 3",
   "language": "python",
   "name": "python3"
  },
  "language_info": {
   "codemirror_mode": {
    "name": "ipython",
    "version": 3
   },
   "file_extension": ".py",
   "mimetype": "text/x-python",
   "name": "python",
   "nbconvert_exporter": "python",
   "pygments_lexer": "ipython3",
   "version": "3.9.12"
  }
 },
 "nbformat": 4,
 "nbformat_minor": 2
}
