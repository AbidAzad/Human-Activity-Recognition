{
 "cells": [
  {
   "cell_type": "markdown",
   "metadata": {},
   "source": [
    "# Import Libraries"
   ]
  },
  {
   "cell_type": "code",
   "execution_count": 1,
   "metadata": {},
   "outputs": [
    {
     "name": "stderr",
     "output_type": "stream",
     "text": [
      "2023-12-07 20:32:33.243693: I tensorflow/core/platform/cpu_feature_guard.cc:182] This TensorFlow binary is optimized to use available CPU instructions in performance-critical operations.\n",
      "To enable the following instructions: AVX2 FMA, in other operations, rebuild TensorFlow with the appropriate compiler flags.\n"
     ]
    }
   ],
   "source": [
    "import pandas as pd\n",
    "import numpy as np\n",
    "\n",
    "#Use Keras Neural Network Components. This will be used to construct the LSTM\n",
    "from keras import backend as K\n",
    "from keras.models import Sequential\n",
    "from keras.layers import LSTM\n",
    "from keras.layers import Dense, Dropout\n",
    "from keras.layers import BatchNormalization\n",
    "from keras.layers import LayerNormalization\n",
    "from keras.layers import MultiHeadAttention\n",
    "from keras.regularizers import L1L2\n",
    "from keras.layers import Layer\n",
    "from keras import Model\n",
    "\n",
    "#Import Tensorflow \n",
    "import tensorflow as tf\n",
    "\n",
    "#Plotting Libraries\n",
    "import matplotlib.pyplot as plt\n",
    "import seaborn as sns"
   ]
  },
  {
   "cell_type": "markdown",
   "metadata": {},
   "source": [
    "# Ensure Reproducability of Results"
   ]
  },
  {
   "cell_type": "code",
   "execution_count": 2,
   "metadata": {},
   "outputs": [],
   "source": [
    "np.random.seed(42)\n",
    "tf.random.set_seed(42)"
   ]
  },
  {
   "cell_type": "markdown",
   "metadata": {},
   "source": [
    "# Fetch and Set Up Data"
   ]
  },
  {
   "cell_type": "code",
   "execution_count": 3,
   "metadata": {},
   "outputs": [],
   "source": [
    "#Numerically Encode the Activities\n",
    "ACTIVITIES = {\n",
    "    0: 'WALKING',\n",
    "    1: 'WALKING_UPSTAIRS',\n",
    "    2: 'WALKING_DOWNSTAIRS',\n",
    "    3: 'SITTING',\n",
    "    4: 'STANDING',\n",
    "    5: 'LAYING',\n",
    "}"
   ]
  },
  {
   "cell_type": "code",
   "execution_count": 4,
   "metadata": {},
   "outputs": [],
   "source": [
    "DATDIR = \"data/UCI HAR Dataset\"\n",
    "SIGNALS = [\n",
    "    \"body_acc_x\",\n",
    "    \"body_acc_y\",\n",
    "    \"body_acc_z\",\n",
    "    \"body_gyro_x\",\n",
    "    \"body_gyro_y\",\n",
    "    \"body_gyro_z\",\n",
    "    \"total_acc_x\",\n",
    "    \"total_acc_y\",\n",
    "    \"total_acc_z\"\n",
    "    ]"
   ]
  },
  {
   "cell_type": "code",
   "execution_count": 5,
   "metadata": {},
   "outputs": [],
   "source": [
    "#train_test: 0 if we want to fetch the training signal data, 1 if we want to fetch the test signal data\n",
    "def fetch_raw_signal_data(train_test, signal):\n",
    "    file_path = DATDIR + f\"/{'train' if train_test == 0 else 'test'}/Inertial Signals/{signal}_{'train' if train_test == 0 else 'test'}.txt\"\n",
    "    return pd.read_csv(file_path, delim_whitespace = True, header = None)\n",
    "\n",
    "#Same purpose as previous function but, in this case, we are fetching ALL the raw signal data!\n",
    "#train_test: 0 if we want to fetch the training signal data, 1 if we want to fetch the test signal data\n",
    "def fetch_all_raw_signals(train_test):\n",
    "    data_raw_signals = []\n",
    "    for signal in SIGNALS:\n",
    "        raw_signal_data = fetch_raw_signal_data(train_test, signal).to_numpy()\n",
    "        data_raw_signals.append(raw_signal_data)\n",
    "    \n",
    "    data_raw_signals = np.array(data_raw_signals)\n",
    "    return np.transpose(data_raw_signals, axes = (1, 2, 0))\n",
    "\n",
    "#Fetch Labels\n",
    "#train_test: 0 if we want to fetch the training signal data, 1 if we want to fetch the test signal data\n",
    "def fetch_labels(train_test):\n",
    "    file_path = DATDIR + f\"/{'train' if train_test == 0 else 'test'}/y_{'train' if train_test == 0 else 'test'}.txt\"\n",
    "    return pd.get_dummies(pd.read_csv(file_path, delim_whitespace=True, header = None)[0]).to_numpy()"
   ]
  },
  {
   "cell_type": "code",
   "execution_count": 6,
   "metadata": {},
   "outputs": [
    {
     "name": "stdout",
     "output_type": "stream",
     "text": [
      "7352 128 9\n",
      "6\n",
      "(7352, 128, 9) (7352, 6)\n"
     ]
    }
   ],
   "source": [
    "X_train, X_test, Y_train, Y_test = fetch_all_raw_signals(0), fetch_all_raw_signals(1), fetch_labels(0), fetch_labels(1)\n",
    "\n",
    "N = X_train.shape[0]\n",
    "T = X_train.shape[1]\n",
    "D = X_train.shape[2]\n",
    "\n",
    "print(N, T, D)\n",
    "\n",
    "n_classes = Y_train.shape[1]\n",
    "print(n_classes)\n",
    "print(X_train.shape, Y_train.shape)"
   ]
  },
  {
   "cell_type": "markdown",
   "metadata": {},
   "source": [
    "# Define LSTM Architecture"
   ]
  },
  {
   "cell_type": "markdown",
   "metadata": {},
   "source": [
    "## Architecture 1: 2 LSTM Layers With Attention Layer"
   ]
  },
  {
   "cell_type": "code",
   "execution_count": 7,
   "metadata": {},
   "outputs": [],
   "source": [
    "##Hyperparameters\n",
    "epochs = 30\n",
    "batch_size = 16\n",
    "\n",
    "n_hidden_1 = 64\n",
    "n_hidden_2 = 32\n",
    "n_hidden_3 = 16\n",
    "n_hidden_4 = 8\n",
    "\n",
    "dropout_p = 0.5\n",
    "num_heads = 6"
   ]
  },
  {
   "cell_type": "code",
   "execution_count": 8,
   "metadata": {},
   "outputs": [],
   "source": [
    "class AttentionBlock(Layer):\n",
    "    def __init__(self, num_heads, key_dim, fc_dim):\n",
    "        super().__init__()\n",
    "        self.dropout = Dropout(0.1)\n",
    "        self.attention = MultiHeadAttention(num_heads = num_heads, key_dim = key_dim, value_dim = key_dim)\n",
    "        self.fc = Sequential([Dense(fc_dim, activation=\"relu\")])\n",
    "        \n",
    "    def call(self, inputs, training):\n",
    "        attention_output = self.attention(inputs, inputs)\n",
    "        attention_output = self.dropout(attention_output, training = training)        \n",
    "        fc_output = self.fc(attention_output)\n",
    "        fc_output = self.dropout(fc_output, training = training)\n",
    "        return fc_output\n"
   ]
  },
  {
   "cell_type": "code",
   "execution_count": 9,
   "metadata": {},
   "outputs": [
    {
     "name": "stdout",
     "output_type": "stream",
     "text": [
      "Model: \"sequential\"\n",
      "_________________________________________________________________\n",
      " Layer (type)                Output Shape              Param #   \n",
      "=================================================================\n",
      " lstm (LSTM)                 (None, 128, 64)           18944     \n",
      "                                                                 \n",
      " attention_block (Attention  (None, 128, 32)           101600    \n",
      " Block)                                                          \n",
      "                                                                 \n",
      " batch_normalization (Batch  (None, 128, 32)           128       \n",
      " Normalization)                                                  \n",
      "                                                                 \n",
      " lstm_1 (LSTM)               (None, 16)                3136      \n",
      "                                                                 \n",
      " batch_normalization_1 (Bat  (None, 16)                64        \n",
      " chNormalization)                                                \n",
      "                                                                 \n",
      " dense_1 (Dense)             (None, 8)                 136       \n",
      "                                                                 \n",
      " dropout_1 (Dropout)         (None, 8)                 0         \n",
      "                                                                 \n",
      " dense_2 (Dense)             (None, 6)                 54        \n",
      "                                                                 \n",
      "=================================================================\n",
      "Total params: 124062 (484.62 KB)\n",
      "Trainable params: 123966 (484.24 KB)\n",
      "Non-trainable params: 96 (384.00 Byte)\n",
      "_________________________________________________________________\n"
     ]
    }
   ],
   "source": [
    "model = Sequential() #Initializing our Model Architecture\n",
    "\n",
    "model.add(LSTM(n_hidden_1, input_shape = (T, D), return_sequences=True)) # Add an LSTM Layer\n",
    "model.add(AttentionBlock(num_heads = num_heads, key_dim = n_hidden_1, fc_dim = n_hidden_2)) #Add a Multihead Attention Layer\n",
    "model.add(BatchNormalization()) #Add Batch Normalization Layer\n",
    "\n",
    "model.add(LSTM(n_hidden_3)) #Add another LSTM to come after the AttentionBlock\n",
    "model.add(BatchNormalization()) #Add Batch Normalization Layer\n",
    "\n",
    "model.add(Dense(n_hidden_4, activation = \"relu\")) #Add another Dense Layer\n",
    "model.add(Dropout(dropout_p)) # Adding a dropout layer\n",
    "model.add(Dense(n_classes, activation = 'softmax')) #Adding a Dense Layer with the Softmax Activation Function\n",
    "\n",
    "model.summary() #Display a Summary of our model architecture"
   ]
  },
  {
   "cell_type": "code",
   "execution_count": 10,
   "metadata": {},
   "outputs": [],
   "source": [
    "# Compiling the model\n",
    "model.compile(loss='categorical_crossentropy', optimizer='rmsprop', metrics=['accuracy'])"
   ]
  },
  {
   "cell_type": "code",
   "execution_count": 11,
   "metadata": {},
   "outputs": [
    {
     "name": "stdout",
     "output_type": "stream",
     "text": [
      "Epoch 1/30\n",
      "460/460 [==============================] - 62s 127ms/step - loss: 1.2856 - accuracy: 0.4557 - val_loss: 0.5514 - val_accuracy: 0.8605\n",
      "Epoch 2/30\n",
      "460/460 [==============================] - 58s 125ms/step - loss: 0.8558 - accuracy: 0.6133 - val_loss: 0.3497 - val_accuracy: 0.8860\n",
      "Epoch 3/30\n",
      "460/460 [==============================] - 65s 142ms/step - loss: 0.7724 - accuracy: 0.6382 - val_loss: 0.3054 - val_accuracy: 0.9067\n",
      "Epoch 4/30\n",
      "460/460 [==============================] - 68s 148ms/step - loss: 0.7348 - accuracy: 0.6590 - val_loss: 0.2706 - val_accuracy: 0.9118\n",
      "Epoch 5/30\n",
      "460/460 [==============================] - 66s 142ms/step - loss: 0.6989 - accuracy: 0.6944 - val_loss: 0.2267 - val_accuracy: 0.9223\n",
      "Epoch 6/30\n",
      "460/460 [==============================] - 53s 116ms/step - loss: 0.6628 - accuracy: 0.7012 - val_loss: 0.2185 - val_accuracy: 0.9199\n",
      "Epoch 7/30\n",
      "460/460 [==============================] - 54s 117ms/step - loss: 0.6635 - accuracy: 0.6961 - val_loss: 0.2586 - val_accuracy: 0.9189\n",
      "Epoch 8/30\n",
      "460/460 [==============================] - 54s 117ms/step - loss: 0.6290 - accuracy: 0.7133 - val_loss: 0.2283 - val_accuracy: 0.9131\n",
      "Epoch 9/30\n",
      "460/460 [==============================] - 54s 118ms/step - loss: 0.6094 - accuracy: 0.7210 - val_loss: 0.2278 - val_accuracy: 0.9145\n",
      "Epoch 10/30\n",
      "460/460 [==============================] - 54s 118ms/step - loss: 0.6090 - accuracy: 0.7278 - val_loss: 0.2351 - val_accuracy: 0.9250\n",
      "Epoch 11/30\n",
      "460/460 [==============================] - 54s 118ms/step - loss: 0.6102 - accuracy: 0.7300 - val_loss: 0.2731 - val_accuracy: 0.9094\n",
      "Epoch 12/30\n",
      "460/460 [==============================] - 53s 115ms/step - loss: 0.6056 - accuracy: 0.7327 - val_loss: 0.2753 - val_accuracy: 0.9060\n",
      "Epoch 13/30\n",
      "460/460 [==============================] - 53s 116ms/step - loss: 0.5881 - accuracy: 0.7378 - val_loss: 0.3650 - val_accuracy: 0.9006\n",
      "Epoch 14/30\n",
      "460/460 [==============================] - 53s 115ms/step - loss: 0.5948 - accuracy: 0.7390 - val_loss: 0.5305 - val_accuracy: 0.8938\n",
      "Epoch 15/30\n",
      "460/460 [==============================] - 53s 115ms/step - loss: 0.6000 - accuracy: 0.7386 - val_loss: 0.3660 - val_accuracy: 0.9104\n",
      "Epoch 16/30\n",
      "460/460 [==============================] - 54s 117ms/step - loss: 0.5783 - accuracy: 0.7413 - val_loss: 0.3600 - val_accuracy: 0.9101\n",
      "Epoch 17/30\n",
      "460/460 [==============================] - 53s 116ms/step - loss: 0.5761 - accuracy: 0.7477 - val_loss: 0.5826 - val_accuracy: 0.8955\n",
      "Epoch 18/30\n",
      "460/460 [==============================] - 53s 116ms/step - loss: 0.5887 - accuracy: 0.7459 - val_loss: 0.2527 - val_accuracy: 0.9172\n",
      "Epoch 19/30\n",
      "460/460 [==============================] - 53s 115ms/step - loss: 0.5835 - accuracy: 0.7504 - val_loss: 0.2447 - val_accuracy: 0.9264\n",
      "Epoch 20/30\n",
      "460/460 [==============================] - 53s 115ms/step - loss: 0.5752 - accuracy: 0.7563 - val_loss: 0.3154 - val_accuracy: 0.9196\n",
      "Epoch 21/30\n",
      "460/460 [==============================] - 54s 117ms/step - loss: 0.5617 - accuracy: 0.7544 - val_loss: 0.2157 - val_accuracy: 0.9213\n",
      "Epoch 22/30\n",
      "460/460 [==============================] - 53s 115ms/step - loss: 0.5673 - accuracy: 0.7584 - val_loss: 0.3422 - val_accuracy: 0.9080\n",
      "Epoch 23/30\n",
      "460/460 [==============================] - 53s 115ms/step - loss: 0.5718 - accuracy: 0.7554 - val_loss: 0.3829 - val_accuracy: 0.9033\n",
      "Epoch 24/30\n",
      "460/460 [==============================] - 53s 116ms/step - loss: 0.5826 - accuracy: 0.7504 - val_loss: 0.2440 - val_accuracy: 0.9247\n",
      "Epoch 25/30\n",
      "460/460 [==============================] - 53s 115ms/step - loss: 0.5713 - accuracy: 0.7549 - val_loss: 0.2420 - val_accuracy: 0.9294\n",
      "Epoch 26/30\n",
      "460/460 [==============================] - 54s 118ms/step - loss: 0.5838 - accuracy: 0.7631 - val_loss: 0.2184 - val_accuracy: 0.9220\n",
      "Epoch 27/30\n",
      "460/460 [==============================] - 60s 130ms/step - loss: 0.5644 - accuracy: 0.7603 - val_loss: 0.2243 - val_accuracy: 0.9342\n",
      "Epoch 28/30\n",
      "460/460 [==============================] - 59s 129ms/step - loss: 0.5639 - accuracy: 0.7557 - val_loss: 0.3768 - val_accuracy: 0.9013\n",
      "Epoch 29/30\n",
      "460/460 [==============================] - 60s 131ms/step - loss: 0.5671 - accuracy: 0.7567 - val_loss: 0.4963 - val_accuracy: 0.9196\n",
      "Epoch 30/30\n",
      "460/460 [==============================] - 69s 150ms/step - loss: 0.5941 - accuracy: 0.7510 - val_loss: 0.3831 - val_accuracy: 0.9067\n"
     ]
    },
    {
     "data": {
      "text/plain": [
       "<keras.src.callbacks.History at 0x7fc87e9a27f0>"
      ]
     },
     "execution_count": 11,
     "metadata": {},
     "output_type": "execute_result"
    }
   ],
   "source": [
    "# Training the model\n",
    "model.fit(X_train, Y_train, batch_size=batch_size, validation_data=(X_test, Y_test),epochs=epochs)"
   ]
  },
  {
   "cell_type": "code",
   "execution_count": 12,
   "metadata": {},
   "outputs": [],
   "source": [
    "def generate_confusion_matrix(Y_true, Y_pred):\n",
    "    Y_true = pd.Series([ACTIVITIES[y] for y in np.argmax(Y_true, axis=1)])\n",
    "    Y_pred = pd.Series([ACTIVITIES[y] for y in np.argmax(Y_pred, axis=1)])\n",
    "    return pd.crosstab(Y_true, Y_pred, rownames=['True'], colnames=['Pred'])"
   ]
  },
  {
   "cell_type": "code",
   "execution_count": 13,
   "metadata": {},
   "outputs": [
    {
     "name": "stdout",
     "output_type": "stream",
     "text": [
      "93/93 [==============================] - 9s 83ms/step\n"
     ]
    }
   ],
   "source": [
    "#Generate Confusion Matrix\n",
    "confusion_matrix = generate_confusion_matrix(Y_test, model.predict(X_test))"
   ]
  },
  {
   "cell_type": "code",
   "execution_count": 14,
   "metadata": {},
   "outputs": [
    {
     "name": "stderr",
     "output_type": "stream",
     "text": [
      "/var/folders/_z/7xh85xcn7rd84tynktgvzyrr0000gn/T/ipykernel_52347/548805115.py:4: FutureWarning: Support for multi-dimensional indexing (e.g. `obj[:, None]`) is deprecated and will be removed in a future version.  Convert to a numpy array before indexing instead.\n",
      "  normalized_cm = confusion_matrix.astype('float') / confusion_matrix.sum(axis=1)[:, np.newaxis]\n"
     ]
    },
    {
     "data": {
      "image/png": "[encoded data removed]",
      "text/plain": [
       "<Figure size 720x720 with 2 Axes>"
      ]
     },
     "metadata": {
      "needs_background": "light"
     },
     "output_type": "display_data"
    }
   ],
   "source": [
    "#Plot Normalized Confusion Matrix\n",
    "\n",
    "# Calculate normalized confusion matrix\n",
    "normalized_cm = confusion_matrix.astype('float') / confusion_matrix.sum(axis=1)[:, np.newaxis]\n",
    "\n",
    "#List out target names\n",
    "target_names = ['LAYING', 'SITTING', 'STANDING', 'WALKING', 'WALKING_DOWNSTAIRS', 'WALKING_UPSTAIRS']\n",
    "\n",
    "#Use seaborn to plot heat map of confusion matrix\n",
    "fig, ax = plt.subplots(figsize=(10,10))\n",
    "sns.heatmap(normalized_cm, annot=True, fmt='.2f', xticklabels = target_names, yticklabels = target_names)\n",
    "plt.ylabel('True Label')\n",
    "plt.xlabel('Predicted Label')\n",
    "plt.show(block=False)"
   ]
  },
  {
   "cell_type": "code",
   "execution_count": 15,
   "metadata": {},
   "outputs": [
    {
     "name": "stdout",
     "output_type": "stream",
     "text": [
      "93/93 [==============================] - 8s 80ms/step - loss: 0.3831 - accuracy: 0.9067\n",
      "\n",
      "   cat_crossentropy  ||   accuracy \n",
      "  ____________________________________\n",
      "[0.38313978910446167, 0.9066847562789917]\n"
     ]
    }
   ],
   "source": [
    "score = model.evaluate(X_test, Y_test)\n",
    "\n",
    "print(\"\\n   cat_crossentropy  ||   accuracy \")\n",
    "print(\"  ____________________________________\")\n",
    "print(score)"
   ]
  },
  {
   "cell_type": "markdown",
   "metadata": {},
   "source": [
    "## Architecture 2: Use 2 LSTM Layers"
   ]
  },
  {
   "cell_type": "code",
   "execution_count": 16,
   "metadata": {},
   "outputs": [],
   "source": [
    "##Hyperparameters\n",
    "epochs = 30\n",
    "batch_size = 16\n",
    "n_hidden_1 = 64\n",
    "dropout_p = 0.5\n",
    "n_hidden_2 = 32\n",
    "n_hidden_3 = 16"
   ]
  },
  {
   "cell_type": "code",
   "execution_count": 17,
   "metadata": {},
   "outputs": [
    {
     "name": "stdout",
     "output_type": "stream",
     "text": [
      "Model: \"sequential_2\"\n",
      "_________________________________________________________________\n",
      " Layer (type)                Output Shape              Param #   \n",
      "=================================================================\n",
      " lstm_2 (LSTM)               (None, 128, 64)           18944     \n",
      "                                                                 \n",
      " batch_normalization_2 (Bat  (None, 128, 64)           256       \n",
      " chNormalization)                                                \n",
      "                                                                 \n",
      " dropout_2 (Dropout)         (None, 128, 64)           0         \n",
      "                                                                 \n",
      " lstm_3 (LSTM)               (None, 32)                12416     \n",
      "                                                                 \n",
      " batch_normalization_3 (Bat  (None, 32)                128       \n",
      " chNormalization)                                                \n",
      "                                                                 \n",
      " dropout_3 (Dropout)         (None, 32)                0         \n",
      "                                                                 \n",
      " dense_3 (Dense)             (None, 16)                528       \n",
      "                                                                 \n",
      " dense_4 (Dense)             (None, 6)                 102       \n",
      "                                                                 \n",
      "=================================================================\n",
      "Total params: 32374 (126.46 KB)\n",
      "Trainable params: 32182 (125.71 KB)\n",
      "Non-trainable params: 192 (768.00 Byte)\n",
      "_________________________________________________________________\n"
     ]
    }
   ],
   "source": [
    "model = Sequential() #Initializing our Model Architecture\n",
    "\n",
    "#Define LSTM Layer with Batch Normalization\n",
    "model.add(LSTM(n_hidden_1, input_shape=(T, D), return_sequences=True))\n",
    "model.add(BatchNormalization())\n",
    "\n",
    "#Define Dropout Layer\n",
    "model.add(Dropout(dropout_p))\n",
    "\n",
    "#Define the second LSTM Layer with Batch Normalization\n",
    "model.add(LSTM(n_hidden_2))\n",
    "model.add(BatchNormalization())\n",
    "\n",
    "#Define Dropout Layer\n",
    "model.add(Dropout(dropout_p))\n",
    "\n",
    "#Define Dense Layer\n",
    "model.add(Dense(n_hidden_3, activation = 'relu'))\n",
    "\n",
    "#Define Dense Layer\n",
    "model.add(Dense(n_classes, activation = 'softmax'))\n",
    "\n",
    "#Print Model Summary\n",
    "model.summary()"
   ]
  },
  {
   "cell_type": "code",
   "execution_count": 18,
   "metadata": {},
   "outputs": [],
   "source": [
    "# Compiling the model\n",
    "model.compile(loss='categorical_crossentropy', optimizer='rmsprop', metrics=['accuracy'])"
   ]
  },
  {
   "cell_type": "code",
   "execution_count": 19,
   "metadata": {},
   "outputs": [
    {
     "name": "stdout",
     "output_type": "stream",
     "text": [
      "Epoch 1/30\n",
      "460/460 [==============================] - 32s 62ms/step - loss: 0.9190 - accuracy: 0.6232 - val_loss: 0.7445 - val_accuracy: 0.7143\n",
      "Epoch 2/30\n",
      "460/460 [==============================] - 28s 60ms/step - loss: 0.5089 - accuracy: 0.8111 - val_loss: 0.4054 - val_accuracy: 0.8541\n",
      "Epoch 3/30\n",
      "460/460 [==============================] - 27s 59ms/step - loss: 0.3105 - accuracy: 0.8896 - val_loss: 0.3239 - val_accuracy: 0.8846\n",
      "Epoch 4/30\n",
      "460/460 [==============================] - 26s 57ms/step - loss: 0.2419 - accuracy: 0.9173 - val_loss: 0.3862 - val_accuracy: 0.8938\n",
      "Epoch 5/30\n",
      "460/460 [==============================] - 23s 50ms/step - loss: 0.2362 - accuracy: 0.9210 - val_loss: 0.2792 - val_accuracy: 0.8968\n",
      "Epoch 6/30\n",
      "460/460 [==============================] - 23s 50ms/step - loss: 0.2046 - accuracy: 0.9289 - val_loss: 0.3233 - val_accuracy: 0.9050\n",
      "Epoch 7/30\n",
      "460/460 [==============================] - 23s 51ms/step - loss: 0.2007 - accuracy: 0.9316 - val_loss: 0.2568 - val_accuracy: 0.9186\n",
      "Epoch 8/30\n",
      "460/460 [==============================] - 30s 65ms/step - loss: 0.1827 - accuracy: 0.9366 - val_loss: 0.3713 - val_accuracy: 0.9080\n",
      "Epoch 9/30\n",
      "460/460 [==============================] - 25s 54ms/step - loss: 0.1645 - accuracy: 0.9378 - val_loss: 0.3851 - val_accuracy: 0.9077\n",
      "Epoch 10/30\n",
      "460/460 [==============================] - 30s 64ms/step - loss: 0.1736 - accuracy: 0.9373 - val_loss: 0.3836 - val_accuracy: 0.9074\n",
      "Epoch 11/30\n",
      "460/460 [==============================] - 27s 58ms/step - loss: 0.1813 - accuracy: 0.9397 - val_loss: 0.3549 - val_accuracy: 0.9046\n",
      "Epoch 12/30\n",
      "460/460 [==============================] - 25s 54ms/step - loss: 0.1798 - accuracy: 0.9362 - val_loss: 0.3785 - val_accuracy: 0.9172\n",
      "Epoch 13/30\n",
      "460/460 [==============================] - 27s 59ms/step - loss: 0.1851 - accuracy: 0.9369 - val_loss: 0.4350 - val_accuracy: 0.9074\n",
      "Epoch 14/30\n",
      "460/460 [==============================] - 26s 56ms/step - loss: 0.1573 - accuracy: 0.9452 - val_loss: 0.5481 - val_accuracy: 0.8975\n",
      "Epoch 15/30\n",
      "460/460 [==============================] - 23s 51ms/step - loss: 0.1671 - accuracy: 0.9442 - val_loss: 0.3617 - val_accuracy: 0.9196\n",
      "Epoch 16/30\n",
      "460/460 [==============================] - 24s 51ms/step - loss: 0.1745 - accuracy: 0.9418 - val_loss: 0.3210 - val_accuracy: 0.9189\n",
      "Epoch 17/30\n",
      "460/460 [==============================] - 25s 54ms/step - loss: 0.1477 - accuracy: 0.9463 - val_loss: 0.4905 - val_accuracy: 0.9057\n",
      "Epoch 18/30\n",
      "460/460 [==============================] - 25s 54ms/step - loss: 0.1550 - accuracy: 0.9460 - val_loss: 0.4979 - val_accuracy: 0.9084\n",
      "Epoch 19/30\n",
      "460/460 [==============================] - 23s 51ms/step - loss: 0.1537 - accuracy: 0.9442 - val_loss: 0.4147 - val_accuracy: 0.9189\n",
      "Epoch 20/30\n",
      "460/460 [==============================] - 23s 50ms/step - loss: 0.1659 - accuracy: 0.9464 - val_loss: 0.3904 - val_accuracy: 0.9199\n",
      "Epoch 21/30\n",
      "460/460 [==============================] - 25s 55ms/step - loss: 0.1488 - accuracy: 0.9474 - val_loss: 0.4587 - val_accuracy: 0.9125\n",
      "Epoch 22/30\n",
      "460/460 [==============================] - 25s 54ms/step - loss: 0.1548 - accuracy: 0.9476 - val_loss: 0.6721 - val_accuracy: 0.8918\n",
      "Epoch 23/30\n",
      "460/460 [==============================] - 23s 50ms/step - loss: 0.1539 - accuracy: 0.9423 - val_loss: 0.5639 - val_accuracy: 0.8921\n",
      "Epoch 24/30\n",
      "460/460 [==============================] - 23s 51ms/step - loss: 0.1643 - accuracy: 0.9449 - val_loss: 0.6536 - val_accuracy: 0.8839\n",
      "Epoch 25/30\n",
      "460/460 [==============================] - 24s 52ms/step - loss: 0.1567 - accuracy: 0.9465 - val_loss: 0.6863 - val_accuracy: 0.8911\n",
      "Epoch 26/30\n",
      "460/460 [==============================] - 27s 58ms/step - loss: 0.1446 - accuracy: 0.9455 - val_loss: 0.5447 - val_accuracy: 0.9108\n",
      "Epoch 27/30\n",
      "460/460 [==============================] - 25s 54ms/step - loss: 0.1512 - accuracy: 0.9455 - val_loss: 0.4628 - val_accuracy: 0.9169\n",
      "Epoch 28/30\n",
      "460/460 [==============================] - 25s 54ms/step - loss: 0.1537 - accuracy: 0.9475 - val_loss: 0.4846 - val_accuracy: 0.9125\n",
      "Epoch 29/30\n",
      "460/460 [==============================] - 25s 53ms/step - loss: 0.1434 - accuracy: 0.9441 - val_loss: 0.4771 - val_accuracy: 0.9233\n",
      "Epoch 30/30\n",
      "460/460 [==============================] - 25s 54ms/step - loss: 0.1482 - accuracy: 0.9467 - val_loss: 0.5296 - val_accuracy: 0.8924\n"
     ]
    },
    {
     "data": {
      "text/plain": [
       "<keras.src.callbacks.History at 0x7fc88405e7f0>"
      ]
     },
     "execution_count": 19,
     "metadata": {},
     "output_type": "execute_result"
    }
   ],
   "source": [
    "# Training the model\n",
    "model.fit(X_train, Y_train, batch_size=batch_size, validation_data=(X_test, Y_test),epochs=epochs)"
   ]
  },
  {
   "cell_type": "code",
   "execution_count": 20,
   "metadata": {},
   "outputs": [
    {
     "name": "stdout",
     "output_type": "stream",
     "text": [
      "93/93 [==============================] - 2s 16ms/step\n"
     ]
    }
   ],
   "source": [
    "#Generate Confusion Matrix\n",
    "confusion_matrix = generate_confusion_matrix(Y_test, model.predict(X_test))"
   ]
  },
  {
   "cell_type": "code",
   "execution_count": 21,
   "metadata": {},
   "outputs": [
    {
     "name": "stderr",
     "output_type": "stream",
     "text": [
      "/var/folders/_z/7xh85xcn7rd84tynktgvzyrr0000gn/T/ipykernel_52347/548805115.py:4: FutureWarning: Support for multi-dimensional indexing (e.g. `obj[:, None]`) is deprecated and will be removed in a future version.  Convert to a numpy array before indexing instead.\n",
      "  normalized_cm = confusion_matrix.astype('float') / confusion_matrix.sum(axis=1)[:, np.newaxis]\n"
     ]
    },
    {
     "data": {
      "image/png": "[encoded data removed]",
      "text/plain": [
       "<Figure size 720x720 with 2 Axes>"
      ]
     },
     "metadata": {
      "needs_background": "light"
     },
     "output_type": "display_data"
    }
   ],
   "source": [
    "#Plot Normalized Confusion Matrix\n",
    "\n",
    "# Calculate normalized confusion matrix\n",
    "normalized_cm = confusion_matrix.astype('float') / confusion_matrix.sum(axis=1)[:, np.newaxis]\n",
    "\n",
    "#List out target names\n",
    "target_names = ['LAYING', 'SITTING', 'STANDING', 'WALKING', 'WALKING_DOWNSTAIRS', 'WALKING_UPSTAIRS']\n",
    "\n",
    "#Use seaborn to plot heat map of confusion matrix\n",
    "fig, ax = plt.subplots(figsize=(10,10))\n",
    "sns.heatmap(normalized_cm, annot=True, fmt='.2f', xticklabels = target_names, yticklabels = target_names)\n",
    "plt.ylabel('True Label')\n",
    "plt.xlabel('Predicted Label')\n",
    "plt.show(block=False)"
   ]
  },
  {
   "cell_type": "code",
   "execution_count": 22,
   "metadata": {},
   "outputs": [
    {
     "name": "stdout",
     "output_type": "stream",
     "text": [
      "93/93 [==============================] - 1s 16ms/step - loss: 0.5296 - accuracy: 0.8924\n",
      "\n",
      "   cat_crossentropy  ||   accuracy \n",
      "  ____________________________________\n",
      "[0.5295603275299072, 0.8924329876899719]\n"
     ]
    }
   ],
   "source": [
    "score = model.evaluate(X_test, Y_test)\n",
    "\n",
    "print(\"\\n   cat_crossentropy  ||   accuracy \")\n",
    "print(\"  ____________________________________\")\n",
    "print(score)"
   ]
  },
  {
   "cell_type": "markdown",
   "metadata": {},
   "source": [
    "## Architecture 3: Use 1 LSTM Layer"
   ]
  },
  {
   "cell_type": "code",
   "execution_count": 23,
   "metadata": {},
   "outputs": [],
   "source": [
    "##Hyperparameters\n",
    "epochs = 30\n",
    "batch_size = 16\n",
    "n_hidden_1 = 32\n",
    "n_hidden_2 = 16\n",
    "dropout_p = 0.5"
   ]
  },
  {
   "cell_type": "code",
   "execution_count": 24,
   "metadata": {},
   "outputs": [
    {
     "name": "stdout",
     "output_type": "stream",
     "text": [
      "Model: \"sequential_3\"\n",
      "_________________________________________________________________\n",
      " Layer (type)                Output Shape              Param #   \n",
      "=================================================================\n",
      " lstm_4 (LSTM)               (None, 32)                5376      \n",
      "                                                                 \n",
      " dropout_4 (Dropout)         (None, 32)                0         \n",
      "                                                                 \n",
      " dense_5 (Dense)             (None, 16)                528       \n",
      "                                                                 \n",
      " dense_6 (Dense)             (None, 6)                 102       \n",
      "                                                                 \n",
      "=================================================================\n",
      "Total params: 6006 (23.46 KB)\n",
      "Trainable params: 6006 (23.46 KB)\n",
      "Non-trainable params: 0 (0.00 Byte)\n",
      "_________________________________________________________________\n"
     ]
    }
   ],
   "source": [
    "model = Sequential() #Initializing our Model Architecture\n",
    "\n",
    "# Add an LSTM Layer\n",
    "model.add(LSTM(n_hidden_1, input_shape = (T, D)))\n",
    "\n",
    "# Adding a dropout layer\n",
    "model.add(Dropout(dropout_p))\n",
    "\n",
    "#Add another Dense Layer\n",
    "model.add(Dense(n_hidden_2, activation = \"relu\"))\n",
    "\n",
    "# Adding a Dense Layer with the Softmax Activation Function\n",
    "model.add(Dense(n_classes, activation = 'softmax'))\n",
    "\n",
    "model.summary() #Display a Summary of our model architecture"
   ]
  },
  {
   "cell_type": "code",
   "execution_count": 25,
   "metadata": {},
   "outputs": [],
   "source": [
    "# Compiling the model\n",
    "model.compile(loss='categorical_crossentropy', optimizer='rmsprop', metrics=['accuracy'])"
   ]
  },
  {
   "cell_type": "code",
   "execution_count": 26,
   "metadata": {},
   "outputs": [
    {
     "name": "stdout",
     "output_type": "stream",
     "text": [
      "Epoch 1/30\n",
      "460/460 [==============================] - 11s 21ms/step - loss: 1.1136 - accuracy: 0.5212 - val_loss: 0.8045 - val_accuracy: 0.6457\n",
      "Epoch 2/30\n",
      "460/460 [==============================] - 9s 20ms/step - loss: 0.6914 - accuracy: 0.6804 - val_loss: 0.7067 - val_accuracy: 0.7285\n",
      "Epoch 3/30\n",
      "460/460 [==============================] - 9s 21ms/step - loss: 0.6019 - accuracy: 0.7262 - val_loss: 0.6884 - val_accuracy: 0.7309\n",
      "Epoch 4/30\n",
      "460/460 [==============================] - 9s 21ms/step - loss: 0.5205 - accuracy: 0.7719 - val_loss: 0.6632 - val_accuracy: 0.7788\n",
      "Epoch 5/30\n",
      "460/460 [==============================] - 9s 20ms/step - loss: 0.4686 - accuracy: 0.8120 - val_loss: 0.6660 - val_accuracy: 0.7930\n",
      "Epoch 6/30\n",
      "460/460 [==============================] - 10s 21ms/step - loss: 0.4028 - accuracy: 0.8532 - val_loss: 0.6814 - val_accuracy: 0.8259\n",
      "Epoch 7/30\n",
      "460/460 [==============================] - 9s 21ms/step - loss: 0.3254 - accuracy: 0.8896 - val_loss: 0.5737 - val_accuracy: 0.8409\n",
      "Epoch 8/30\n",
      "460/460 [==============================] - 9s 21ms/step - loss: 0.3175 - accuracy: 0.8931 - val_loss: 0.6154 - val_accuracy: 0.8205\n",
      "Epoch 9/30\n",
      "460/460 [==============================] - 9s 21ms/step - loss: 0.2650 - accuracy: 0.9120 - val_loss: 0.5778 - val_accuracy: 0.8646\n",
      "Epoch 10/30\n",
      "460/460 [==============================] - 9s 21ms/step - loss: 0.2358 - accuracy: 0.9219 - val_loss: 0.5321 - val_accuracy: 0.8711\n",
      "Epoch 11/30\n",
      "460/460 [==============================] - 9s 21ms/step - loss: 0.2110 - accuracy: 0.9271 - val_loss: 0.7354 - val_accuracy: 0.8619\n",
      "Epoch 12/30\n",
      "460/460 [==============================] - 12s 25ms/step - loss: 0.2035 - accuracy: 0.9302 - val_loss: 0.5398 - val_accuracy: 0.8907\n",
      "Epoch 13/30\n",
      "460/460 [==============================] - 12s 25ms/step - loss: 0.1935 - accuracy: 0.9327 - val_loss: 0.6227 - val_accuracy: 0.8765\n",
      "Epoch 14/30\n",
      "460/460 [==============================] - 12s 26ms/step - loss: 0.1901 - accuracy: 0.9346 - val_loss: 0.5627 - val_accuracy: 0.8711\n",
      "Epoch 15/30\n",
      "460/460 [==============================] - 10s 23ms/step - loss: 0.1805 - accuracy: 0.9361 - val_loss: 0.6206 - val_accuracy: 0.8850\n",
      "Epoch 16/30\n",
      "460/460 [==============================] - 10s 22ms/step - loss: 0.1733 - accuracy: 0.9370 - val_loss: 0.4618 - val_accuracy: 0.8775\n",
      "Epoch 17/30\n",
      "460/460 [==============================] - 10s 22ms/step - loss: 0.1639 - accuracy: 0.9395 - val_loss: 0.5337 - val_accuracy: 0.8850\n",
      "Epoch 18/30\n",
      "460/460 [==============================] - 10s 22ms/step - loss: 0.1591 - accuracy: 0.9392 - val_loss: 0.3594 - val_accuracy: 0.9057\n",
      "Epoch 19/30\n",
      "460/460 [==============================] - 10s 22ms/step - loss: 0.1532 - accuracy: 0.9415 - val_loss: 0.4783 - val_accuracy: 0.8948\n",
      "Epoch 20/30\n",
      "460/460 [==============================] - 14s 31ms/step - loss: 0.1554 - accuracy: 0.9448 - val_loss: 0.5406 - val_accuracy: 0.8833\n",
      "Epoch 21/30\n",
      "460/460 [==============================] - 13s 27ms/step - loss: 0.1584 - accuracy: 0.9421 - val_loss: 0.4334 - val_accuracy: 0.8935\n",
      "Epoch 22/30\n",
      "460/460 [==============================] - 11s 23ms/step - loss: 0.1517 - accuracy: 0.9452 - val_loss: 0.5518 - val_accuracy: 0.8904\n",
      "Epoch 23/30\n",
      "460/460 [==============================] - 10s 23ms/step - loss: 0.1467 - accuracy: 0.9478 - val_loss: 0.5771 - val_accuracy: 0.8894\n",
      "Epoch 24/30\n",
      "460/460 [==============================] - 10s 23ms/step - loss: 0.1450 - accuracy: 0.9426 - val_loss: 0.4628 - val_accuracy: 0.8941\n",
      "Epoch 25/30\n",
      "460/460 [==============================] - 10s 23ms/step - loss: 0.1470 - accuracy: 0.9434 - val_loss: 0.4286 - val_accuracy: 0.9057\n",
      "Epoch 26/30\n",
      "460/460 [==============================] - 11s 23ms/step - loss: 0.1440 - accuracy: 0.9475 - val_loss: 0.5068 - val_accuracy: 0.9043\n",
      "Epoch 27/30\n",
      "460/460 [==============================] - 10s 23ms/step - loss: 0.1371 - accuracy: 0.9465 - val_loss: 0.5222 - val_accuracy: 0.8955\n",
      "Epoch 28/30\n",
      "460/460 [==============================] - 10s 22ms/step - loss: 0.1480 - accuracy: 0.9460 - val_loss: 0.6875 - val_accuracy: 0.8914\n",
      "Epoch 29/30\n",
      "460/460 [==============================] - 10s 22ms/step - loss: 0.1432 - accuracy: 0.9441 - val_loss: 0.6996 - val_accuracy: 0.8921\n",
      "Epoch 30/30\n",
      "460/460 [==============================] - 10s 22ms/step - loss: 0.1439 - accuracy: 0.9487 - val_loss: 0.7389 - val_accuracy: 0.8897\n"
     ]
    },
    {
     "data": {
      "text/plain": [
       "<keras.src.callbacks.History at 0x7fc86f5bd6d0>"
      ]
     },
     "execution_count": 26,
     "metadata": {},
     "output_type": "execute_result"
    }
   ],
   "source": [
    "# Training the model\n",
    "model.fit(X_train, Y_train, batch_size=batch_size, validation_data=(X_test, Y_test),epochs=epochs)"
   ]
  },
  {
   "cell_type": "code",
   "execution_count": 27,
   "metadata": {},
   "outputs": [],
   "source": [
    "def generate_confusion_matrix(Y_true, Y_pred):\n",
    "    Y_true = pd.Series([ACTIVITIES[y] for y in np.argmax(Y_true, axis=1)])\n",
    "    Y_pred = pd.Series([ACTIVITIES[y] for y in np.argmax(Y_pred, axis=1)])\n",
    "    return pd.crosstab(Y_true, Y_pred, rownames=['True'], colnames=['Pred'])"
   ]
  },
  {
   "cell_type": "code",
   "execution_count": 28,
   "metadata": {},
   "outputs": [
    {
     "name": "stdout",
     "output_type": "stream",
     "text": [
      "93/93 [==============================] - 1s 7ms/step\n"
     ]
    }
   ],
   "source": [
    "#Generate Confusion Matrix\n",
    "confusion_matrix = generate_confusion_matrix(Y_test, model.predict(X_test))"
   ]
  },
  {
   "cell_type": "code",
   "execution_count": 29,
   "metadata": {},
   "outputs": [
    {
     "name": "stderr",
     "output_type": "stream",
     "text": [
      "/var/folders/_z/7xh85xcn7rd84tynktgvzyrr0000gn/T/ipykernel_52347/548805115.py:4: FutureWarning: Support for multi-dimensional indexing (e.g. `obj[:, None]`) is deprecated and will be removed in a future version.  Convert to a numpy array before indexing instead.\n",
      "  normalized_cm = confusion_matrix.astype('float') / confusion_matrix.sum(axis=1)[:, np.newaxis]\n"
     ]
    },
    {
     "data": {
      "image/png": "[encoded data removed]",
      "text/plain": [
       "<Figure size 720x720 with 2 Axes>"
      ]
     },
     "metadata": {
      "needs_background": "light"
     },
     "output_type": "display_data"
    }
   ],
   "source": [
    "#Plot Normalized Confusion Matrix\n",
    "\n",
    "# Calculate normalized confusion matrix\n",
    "normalized_cm = confusion_matrix.astype('float') / confusion_matrix.sum(axis=1)[:, np.newaxis]\n",
    "\n",
    "#List out target names\n",
    "target_names = ['LAYING', 'SITTING', 'STANDING', 'WALKING', 'WALKING_DOWNSTAIRS', 'WALKING_UPSTAIRS']\n",
    "\n",
    "#Use seaborn to plot heat map of confusion matrix\n",
    "fig, ax = plt.subplots(figsize=(10,10))\n",
    "sns.heatmap(normalized_cm, annot=True, fmt='.2f', xticklabels = target_names, yticklabels = target_names)\n",
    "plt.ylabel('True Label')\n",
    "plt.xlabel('Predicted Label')\n",
    "plt.show(block=False)"
   ]
  },
  {
   "cell_type": "code",
   "execution_count": 30,
   "metadata": {},
   "outputs": [
    {
     "name": "stdout",
     "output_type": "stream",
     "text": [
      "93/93 [==============================] - 1s 7ms/step - loss: 0.7389 - accuracy: 0.8897\n",
      "\n",
      "   cat_crossentropy  ||   accuracy \n",
      "  ____________________________________\n",
      "[0.7388768792152405, 0.8897183537483215]\n"
     ]
    }
   ],
   "source": [
    "score = model.evaluate(X_test, Y_test)\n",
    "\n",
    "print(\"\\n   cat_crossentropy  ||   accuracy \")\n",
    "print(\"  ____________________________________\")\n",
    "print(score)"
   ]
  }
 ],
 "metadata": {
  "kernelspec": {
   "display_name": "base",
   "language": "python",
   "name": "python3"
  },
  "language_info": {
   "codemirror_mode": {
    "name": "ipython",
    "version": 3
   },
   "file_extension": ".py",
   "mimetype": "text/x-python",
   "name": "python",
   "nbconvert_exporter": "python",
   "pygments_lexer": "ipython3",
   "version": "3.9.12"
  }
 },
 "nbformat": 4,
 "nbformat_minor": 2
}
