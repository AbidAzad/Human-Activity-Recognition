{
 "cells": [
  {
   "cell_type": "markdown",
   "metadata": {},
   "source": [
    "# Import Libraries"
   ]
  },
  {
   "cell_type": "code",
   "execution_count": 39,
   "metadata": {},
   "outputs": [],
   "source": [
    "import pandas as pd\n",
    "import numpy as np\n",
    "\n",
    "#Use Keras Neural Network Components. This will be used to construct the LSTM\n",
    "from keras import backend as K\n",
    "from keras.models import Sequential\n",
    "from keras.layers import LSTM\n",
    "from keras.layers import Dense, Dropout\n",
    "from keras.layers import BatchNormalization\n",
    "from keras.layers import LayerNormalization\n",
    "from keras.layers import MultiHeadAttention\n",
    "from keras.regularizers import L1L2\n",
    "from keras.layers import Layer\n",
    "from keras import Model\n",
    "from keras.optimizers import Adam\n",
    "\n",
    "\n",
    "#Import Tensorflow \n",
    "import tensorflow as tf\n",
    "\n",
    "#Plotting Libraries\n",
    "import matplotlib.pyplot as plt\n",
    "import seaborn as sns\n",
    "\n",
    "#Confusion Matrix Library\n",
    "from sklearn.metrics import confusion_matrix"
   ]
  },
  {
   "cell_type": "markdown",
   "metadata": {},
   "source": [
    "# Ensure Reproducability of Results"
   ]
  },
  {
   "cell_type": "code",
   "execution_count": 40,
   "metadata": {},
   "outputs": [],
   "source": [
    "np.random.seed(42)\n",
    "tf.random.set_seed(42)"
   ]
  },
  {
   "cell_type": "markdown",
   "metadata": {},
   "source": [
    "# Fetch and Set Up Data"
   ]
  },
  {
   "cell_type": "code",
   "execution_count": 41,
   "metadata": {},
   "outputs": [],
   "source": [
    "#Numerically Encode the Activities\n",
    "ACTIVITIES = {\n",
    "    0: 'WALKING',\n",
    "    1: 'WALKING_UPSTAIRS',\n",
    "    2: 'WALKING_DOWNSTAIRS',\n",
    "    3: 'SITTING',\n",
    "    4: 'STANDING',\n",
    "    5: 'LAYING',\n",
    "}"
   ]
  },
  {
   "cell_type": "code",
   "execution_count": 42,
   "metadata": {},
   "outputs": [],
   "source": [
    "DATDIR = \"data/UCI HAR Dataset\"\n",
    "SIGNALS = [\n",
    "    \"body_acc_x\",\n",
    "    \"body_acc_y\",\n",
    "    \"body_acc_z\",\n",
    "    \"body_gyro_x\",\n",
    "    \"body_gyro_y\",\n",
    "    \"body_gyro_z\",\n",
    "    \"total_acc_x\",\n",
    "    \"total_acc_y\",\n",
    "    \"total_acc_z\"\n",
    "    ]"
   ]
  },
  {
   "cell_type": "code",
   "execution_count": 43,
   "metadata": {},
   "outputs": [],
   "source": [
    "#train_test: 0 if we want to fetch the training signal data, 1 if we want to fetch the test signal data\n",
    "def fetch_raw_signal_data(train_test, signal):\n",
    "    file_path = DATDIR + f\"/{'train' if train_test == 0 else 'test'}/Inertial Signals/{signal}_{'train' if train_test == 0 else 'test'}.txt\"\n",
    "    return pd.read_csv(file_path, delim_whitespace = True, header = None)\n",
    "\n",
    "#Same purpose as previous function but, in this case, we are fetching ALL the raw signal data!\n",
    "#train_test: 0 if we want to fetch the training signal data, 1 if we want to fetch the test signal data\n",
    "def fetch_all_raw_signals(train_test):\n",
    "    data_raw_signals = []\n",
    "    for signal in SIGNALS:\n",
    "        raw_signal_data = fetch_raw_signal_data(train_test, signal).to_numpy()\n",
    "        data_raw_signals.append(raw_signal_data)\n",
    "    \n",
    "    data_raw_signals = np.array(data_raw_signals)\n",
    "    return np.transpose(data_raw_signals, axes = (1, 2, 0))\n",
    "\n",
    "#Fetch Labels\n",
    "#train_test: 0 if we want to fetch the training signal data, 1 if we want to fetch the test signal data\n",
    "def fetch_labels(train_test):\n",
    "    file_path = DATDIR + f\"/{'train' if train_test == 0 else 'test'}/y_{'train' if train_test == 0 else 'test'}.txt\"\n",
    "    return pd.get_dummies(pd.read_csv(file_path, delim_whitespace=True, header = None)[0]).to_numpy()"
   ]
  },
  {
   "cell_type": "code",
   "execution_count": 44,
   "metadata": {},
   "outputs": [
    {
     "name": "stdout",
     "output_type": "stream",
     "text": [
      "7352 128 9\n",
      "6\n",
      "(7352, 128, 9) (7352, 6)\n"
     ]
    }
   ],
   "source": [
    "X_train, X_test, Y_train, Y_test = fetch_all_raw_signals(0), fetch_all_raw_signals(1), fetch_labels(0), fetch_labels(1)\n",
    "\n",
    "N = X_train.shape[0]\n",
    "T = X_train.shape[1]\n",
    "D = X_train.shape[2]\n",
    "\n",
    "print(N, T, D)\n",
    "\n",
    "n_classes = Y_train.shape[1]\n",
    "print(n_classes)\n",
    "print(X_train.shape, Y_train.shape)"
   ]
  },
  {
   "cell_type": "markdown",
   "metadata": {},
   "source": [
    "# Define LSTM Architecture"
   ]
  },
  {
   "cell_type": "markdown",
   "metadata": {},
   "source": [
    "## Architecture 1: 2 LSTM Layers With Attention Layer"
   ]
  },
  {
   "cell_type": "code",
   "execution_count": 45,
   "metadata": {},
   "outputs": [],
   "source": [
    "##Hyperparameters\n",
    "epochs = 30\n",
    "batch_size = 128\n",
    "\n",
    "n_hidden_1 = 64\n",
    "n_hidden_2 = 32\n",
    "n_hidden_3 = 16\n",
    "n_hidden_4 = 8\n",
    "\n",
    "dropout_p = 0.5\n",
    "num_heads = 6"
   ]
  },
  {
   "cell_type": "code",
   "execution_count": 46,
   "metadata": {},
   "outputs": [],
   "source": [
    "class AttentionBlock(Layer):\n",
    "    def __init__(self, num_heads, key_dim, fc_dim):\n",
    "        super().__init__()\n",
    "        self.dropout = Dropout(0.1)\n",
    "        self.attention = MultiHeadAttention(num_heads = num_heads, key_dim = key_dim, value_dim = key_dim)\n",
    "        self.fc = Sequential([Dense(fc_dim, activation=\"relu\")])\n",
    "        \n",
    "    def call(self, inputs, training):\n",
    "        attention_output = self.attention(inputs, inputs)\n",
    "        attention_output = self.dropout(attention_output, training = training)        \n",
    "        fc_output = self.fc(attention_output)\n",
    "        fc_output = self.dropout(fc_output, training = training)\n",
    "        return fc_output\n"
   ]
  },
  {
   "cell_type": "code",
   "execution_count": 47,
   "metadata": {},
   "outputs": [
    {
     "name": "stdout",
     "output_type": "stream",
     "text": [
      "Model: \"sequential_6\"\n",
      "_________________________________________________________________\n",
      " Layer (type)                Output Shape              Param #   \n",
      "=================================================================\n",
      " lstm_7 (LSTM)               (None, 128, 64)           18944     \n",
      "                                                                 \n",
      " attention_block_2 (Attenti  (None, 128, 32)           101600    \n",
      " onBlock)                                                        \n",
      "                                                                 \n",
      " batch_normalization_6 (Bat  (None, 128, 32)           128       \n",
      " chNormalization)                                                \n",
      "                                                                 \n",
      " lstm_8 (LSTM)               (None, 16)                3136      \n",
      "                                                                 \n",
      " batch_normalization_7 (Bat  (None, 16)                64        \n",
      " chNormalization)                                                \n",
      "                                                                 \n",
      " dense_11 (Dense)            (None, 8)                 136       \n",
      "                                                                 \n",
      " dropout_8 (Dropout)         (None, 8)                 0         \n",
      "                                                                 \n",
      " dense_12 (Dense)            (None, 6)                 54        \n",
      "                                                                 \n",
      "=================================================================\n",
      "Total params: 124062 (484.62 KB)\n",
      "Trainable params: 123966 (484.24 KB)\n",
      "Non-trainable params: 96 (384.00 Byte)\n",
      "_________________________________________________________________\n"
     ]
    }
   ],
   "source": [
    "model = Sequential() #Initializing our Model Architecture\n",
    "\n",
    "model.add(LSTM(n_hidden_1, input_shape = (T, D), return_sequences=True)) # Add an LSTM Layer\n",
    "model.add(AttentionBlock(num_heads = num_heads, key_dim = n_hidden_1, fc_dim = n_hidden_2)) #Add a Multihead Attention Layer\n",
    "model.add(BatchNormalization()) #Add Batch Normalization Layer\n",
    "\n",
    "model.add(LSTM(n_hidden_3)) #Add another LSTM to come after the AttentionBlock\n",
    "model.add(BatchNormalization()) #Add Batch Normalization Layer\n",
    "\n",
    "model.add(Dense(n_hidden_4, activation = \"relu\")) #Add another Dense Layer\n",
    "model.add(Dropout(dropout_p)) # Adding a dropout layer\n",
    "model.add(Dense(n_classes, activation = 'softmax')) #Adding a Dense Layer with the Softmax Activation Function\n",
    "\n",
    "model.summary() #Display a Summary of our model architecture"
   ]
  },
  {
   "cell_type": "code",
   "execution_count": 48,
   "metadata": {},
   "outputs": [],
   "source": [
    "# Compiling the model\n",
    "optimizer = Adam(learning_rate=1e-4, weight_decay=1e-4, epsilon = 1e-10)\n",
    "model.compile(optimizer = optimizer, loss='categorical_crossentropy', metrics=['accuracy'])"
   ]
  },
  {
   "cell_type": "code",
   "execution_count": 49,
   "metadata": {},
   "outputs": [
    {
     "name": "stdout",
     "output_type": "stream",
     "text": [
      "Epoch 1/30\n",
      "58/58 [==============================] - 107s 2s/step - loss: 1.7229 - accuracy: 0.2591 - val_loss: 1.7833 - val_accuracy: 0.4018\n",
      "Epoch 2/30\n",
      "58/58 [==============================] - 90s 2s/step - loss: 1.4551 - accuracy: 0.3804 - val_loss: 1.7717 - val_accuracy: 0.4951\n",
      "Epoch 3/30\n",
      "58/58 [==============================] - 89s 2s/step - loss: 1.3701 - accuracy: 0.4105 - val_loss: 1.7523 - val_accuracy: 0.5168\n",
      "Epoch 4/30\n",
      "58/58 [==============================] - 89s 2s/step - loss: 1.3260 - accuracy: 0.4331 - val_loss: 1.7167 - val_accuracy: 0.5470\n",
      "Epoch 5/30\n",
      "58/58 [==============================] - 86s 1s/step - loss: 1.2908 - accuracy: 0.4509 - val_loss: 1.6626 - val_accuracy: 0.6047\n",
      "Epoch 6/30\n",
      "58/58 [==============================] - 107s 2s/step - loss: 1.2571 - accuracy: 0.4714 - val_loss: 1.5939 - val_accuracy: 0.6186\n",
      "Epoch 7/30\n",
      "58/58 [==============================] - 88s 2s/step - loss: 1.1967 - accuracy: 0.5143 - val_loss: 1.4704 - val_accuracy: 0.6888\n",
      "Epoch 8/30\n",
      "58/58 [==============================] - 86s 1s/step - loss: 1.1582 - accuracy: 0.5385 - val_loss: 1.3503 - val_accuracy: 0.5786\n",
      "Epoch 9/30\n",
      "58/58 [==============================] - 98s 2s/step - loss: 1.1064 - accuracy: 0.5657 - val_loss: 1.2059 - val_accuracy: 0.7007\n",
      "Epoch 10/30\n",
      "58/58 [==============================] - 86s 1s/step - loss: 1.0614 - accuracy: 0.5877 - val_loss: 1.0978 - val_accuracy: 0.8022\n",
      "Epoch 11/30\n",
      "58/58 [==============================] - 88s 2s/step - loss: 1.0333 - accuracy: 0.6021 - val_loss: 0.9817 - val_accuracy: 0.7536\n",
      "Epoch 12/30\n",
      "58/58 [==============================] - 86s 1s/step - loss: 1.0006 - accuracy: 0.6166 - val_loss: 0.9142 - val_accuracy: 0.7723\n",
      "Epoch 13/30\n",
      "58/58 [==============================] - 91s 2s/step - loss: 0.9689 - accuracy: 0.6236 - val_loss: 0.8192 - val_accuracy: 0.8412\n",
      "Epoch 14/30\n",
      "58/58 [==============================] - 87s 1s/step - loss: 0.9461 - accuracy: 0.6342 - val_loss: 0.7865 - val_accuracy: 0.8375\n",
      "Epoch 15/30\n",
      "58/58 [==============================] - 94s 2s/step - loss: 0.9277 - accuracy: 0.6401 - val_loss: 0.7224 - val_accuracy: 0.8381\n",
      "Epoch 16/30\n",
      "58/58 [==============================] - 123s 2s/step - loss: 0.9097 - accuracy: 0.6446 - val_loss: 0.7124 - val_accuracy: 0.8256\n",
      "Epoch 17/30\n",
      "58/58 [==============================] - 94s 2s/step - loss: 0.9039 - accuracy: 0.6468 - val_loss: 0.6350 - val_accuracy: 0.8602\n",
      "Epoch 18/30\n",
      "58/58 [==============================] - 76s 1s/step - loss: 0.8687 - accuracy: 0.6568 - val_loss: 0.6803 - val_accuracy: 0.8354\n",
      "Epoch 19/30\n",
      "58/58 [==============================] - 76s 1s/step - loss: 0.8687 - accuracy: 0.6549 - val_loss: 0.5832 - val_accuracy: 0.8941\n",
      "Epoch 20/30\n",
      "58/58 [==============================] - 75s 1s/step - loss: 0.8612 - accuracy: 0.6507 - val_loss: 0.6025 - val_accuracy: 0.8673\n",
      "Epoch 21/30\n",
      "58/58 [==============================] - 74s 1s/step - loss: 0.8293 - accuracy: 0.6629 - val_loss: 0.5648 - val_accuracy: 0.8907\n",
      "Epoch 22/30\n",
      "58/58 [==============================] - 75s 1s/step - loss: 0.8311 - accuracy: 0.6692 - val_loss: 0.5159 - val_accuracy: 0.9023\n",
      "Epoch 23/30\n",
      "58/58 [==============================] - 75s 1s/step - loss: 0.8161 - accuracy: 0.6634 - val_loss: 0.5615 - val_accuracy: 0.8704\n",
      "Epoch 24/30\n",
      "58/58 [==============================] - 74s 1s/step - loss: 0.8160 - accuracy: 0.6658 - val_loss: 0.6807 - val_accuracy: 0.7910\n",
      "Epoch 25/30\n",
      "58/58 [==============================] - 990s 17s/step - loss: 0.8099 - accuracy: 0.6752 - val_loss: 0.5190 - val_accuracy: 0.8965\n",
      "Epoch 26/30\n",
      "58/58 [==============================] - 81s 1s/step - loss: 0.7910 - accuracy: 0.6768 - val_loss: 0.5010 - val_accuracy: 0.8826\n",
      "Epoch 27/30\n",
      "58/58 [==============================] - 82s 1s/step - loss: 0.7727 - accuracy: 0.6893 - val_loss: 0.4429 - val_accuracy: 0.9169\n",
      "Epoch 28/30\n",
      "58/58 [==============================] - 78s 1s/step - loss: 0.7733 - accuracy: 0.6853 - val_loss: 0.4791 - val_accuracy: 0.9002\n",
      "Epoch 29/30\n",
      "58/58 [==============================] - 77s 1s/step - loss: 0.7659 - accuracy: 0.6835 - val_loss: 0.5058 - val_accuracy: 0.8918\n",
      "Epoch 30/30\n",
      "58/58 [==============================] - 97s 2s/step - loss: 0.7829 - accuracy: 0.6737 - val_loss: 0.4729 - val_accuracy: 0.8962\n"
     ]
    },
    {
     "data": {
      "text/plain": [
       "<keras.src.callbacks.History at 0x7f784a085580>"
      ]
     },
     "execution_count": 49,
     "metadata": {},
     "output_type": "execute_result"
    }
   ],
   "source": [
    "# Training the model\n",
    "model.fit(X_train, Y_train, batch_size=batch_size, validation_data=(X_test, Y_test),epochs=epochs)"
   ]
  },
  {
   "cell_type": "code",
   "execution_count": 50,
   "metadata": {},
   "outputs": [
    {
     "name": "stdout",
     "output_type": "stream",
     "text": [
      "93/93 [==============================] - 15s 131ms/step\n"
     ]
    }
   ],
   "source": [
    "#Generate Confusion Matrix\n",
    "Y_test_labels = np.argmax(Y_test, axis=1)\n",
    "Y_prediction_labels = np.argmax(model.predict(X_test), axis = 1)\n",
    "normalized_cm = confusion_matrix(Y_test_labels, Y_prediction_labels, normalize = 'true')"
   ]
  },
  {
   "cell_type": "code",
   "execution_count": 51,
   "metadata": {},
   "outputs": [
    {
     "data": {
      "image/png": "[encoded data removed]",
      "text/plain": [
       "<Figure size 720x720 with 2 Axes>"
      ]
     },
     "metadata": {
      "needs_background": "light"
     },
     "output_type": "display_data"
    }
   ],
   "source": [
    "#List out target names\n",
    "target_names = list(ACTIVITIES.values())\n",
    "\n",
    "#Use seaborn to plot heat map of confusion matrix\n",
    "fig, ax = plt.subplots(figsize=(10,10))\n",
    "sns.heatmap(normalized_cm, annot=True, fmt='.2f', xticklabels = target_names, yticklabels = target_names)\n",
    "plt.ylabel('True Label')\n",
    "plt.xlabel('Predicted Label')\n",
    "plt.show(block=False)"
   ]
  },
  {
   "cell_type": "code",
   "execution_count": 52,
   "metadata": {},
   "outputs": [
    {
     "name": "stdout",
     "output_type": "stream",
     "text": [
      "93/93 [==============================] - 12s 124ms/step - loss: 0.4729 - accuracy: 0.8962\n",
      "\n",
      "   cat_crossentropy  ||   accuracy \n",
      "  ____________________________________\n",
      "[0.4728853404521942, 0.8961656093597412]\n"
     ]
    }
   ],
   "source": [
    "score = model.evaluate(X_test, Y_test)\n",
    "\n",
    "print(\"\\n   cat_crossentropy  ||   accuracy \")\n",
    "print(\"  ____________________________________\")\n",
    "print(score)"
   ]
  },
  {
   "cell_type": "markdown",
   "metadata": {},
   "source": [
    "## Architecture 2: Use 2 LSTM Layers"
   ]
  },
  {
   "cell_type": "code",
   "execution_count": 53,
   "metadata": {},
   "outputs": [],
   "source": [
    "##Hyperparameters\n",
    "epochs = 30\n",
    "batch_size = 16\n",
    "n_hidden_1 = 64\n",
    "dropout_p = 0.5\n",
    "n_hidden_2 = 32\n",
    "n_hidden_3 = 16"
   ]
  },
  {
   "cell_type": "code",
   "execution_count": 54,
   "metadata": {},
   "outputs": [
    {
     "name": "stdout",
     "output_type": "stream",
     "text": [
      "Model: \"sequential_8\"\n",
      "_________________________________________________________________\n",
      " Layer (type)                Output Shape              Param #   \n",
      "=================================================================\n",
      " lstm_9 (LSTM)               (None, 128, 64)           18944     \n",
      "                                                                 \n",
      " batch_normalization_8 (Bat  (None, 128, 64)           256       \n",
      " chNormalization)                                                \n",
      "                                                                 \n",
      " dropout_9 (Dropout)         (None, 128, 64)           0         \n",
      "                                                                 \n",
      " lstm_10 (LSTM)              (None, 32)                12416     \n",
      "                                                                 \n",
      " batch_normalization_9 (Bat  (None, 32)                128       \n",
      " chNormalization)                                                \n",
      "                                                                 \n",
      " dropout_10 (Dropout)        (None, 32)                0         \n",
      "                                                                 \n",
      " dense_13 (Dense)            (None, 16)                528       \n",
      "                                                                 \n",
      " dense_14 (Dense)            (None, 6)                 102       \n",
      "                                                                 \n",
      "=================================================================\n",
      "Total params: 32374 (126.46 KB)\n",
      "Trainable params: 32182 (125.71 KB)\n",
      "Non-trainable params: 192 (768.00 Byte)\n",
      "_________________________________________________________________\n"
     ]
    }
   ],
   "source": [
    "model = Sequential() #Initializing our Model Architecture\n",
    "\n",
    "#Define LSTM Layer with Batch Normalization\n",
    "model.add(LSTM(n_hidden_1, input_shape=(T, D), return_sequences=True))\n",
    "model.add(BatchNormalization())\n",
    "\n",
    "#Define Dropout Layer\n",
    "model.add(Dropout(dropout_p))\n",
    "\n",
    "#Define the second LSTM Layer with Batch Normalization\n",
    "model.add(LSTM(n_hidden_2))\n",
    "model.add(BatchNormalization())\n",
    "\n",
    "#Define Dropout Layer\n",
    "model.add(Dropout(dropout_p))\n",
    "\n",
    "#Define Dense Layer\n",
    "model.add(Dense(n_hidden_3, activation = 'relu'))\n",
    "\n",
    "#Define Dense Layer\n",
    "model.add(Dense(n_classes, activation = 'softmax'))\n",
    "\n",
    "#Print Model Summary\n",
    "model.summary()"
   ]
  },
  {
   "cell_type": "code",
   "execution_count": 55,
   "metadata": {},
   "outputs": [],
   "source": [
    "# Compiling the model\n",
    "model.compile(loss='categorical_crossentropy', optimizer='rmsprop', metrics=['accuracy'])"
   ]
  },
  {
   "cell_type": "code",
   "execution_count": 56,
   "metadata": {},
   "outputs": [
    {
     "name": "stdout",
     "output_type": "stream",
     "text": [
      "Epoch 1/30\n",
      "460/460 [==============================] - 63s 117ms/step - loss: 0.9437 - accuracy: 0.6196 - val_loss: 0.9331 - val_accuracy: 0.6295\n",
      "Epoch 2/30\n",
      "460/460 [==============================] - 51s 112ms/step - loss: 0.6102 - accuracy: 0.7511 - val_loss: 0.7035 - val_accuracy: 0.7441\n",
      "Epoch 3/30\n",
      "460/460 [==============================] - 52s 113ms/step - loss: 0.3784 - accuracy: 0.8716 - val_loss: 0.4337 - val_accuracy: 0.8490\n",
      "Epoch 4/30\n",
      "460/460 [==============================] - 59s 128ms/step - loss: 0.2792 - accuracy: 0.9041 - val_loss: 0.2249 - val_accuracy: 0.9084\n",
      "Epoch 5/30\n",
      "460/460 [==============================] - 57s 123ms/step - loss: 0.2337 - accuracy: 0.9217 - val_loss: 0.2525 - val_accuracy: 0.8911\n",
      "Epoch 6/30\n",
      "460/460 [==============================] - 56s 122ms/step - loss: 0.2112 - accuracy: 0.9241 - val_loss: 0.2917 - val_accuracy: 0.9077\n",
      "Epoch 7/30\n",
      "460/460 [==============================] - 57s 123ms/step - loss: 0.1891 - accuracy: 0.9316 - val_loss: 0.4477 - val_accuracy: 0.8775\n",
      "Epoch 8/30\n",
      "460/460 [==============================] - 61s 133ms/step - loss: 0.2082 - accuracy: 0.9319 - val_loss: 0.2520 - val_accuracy: 0.9182\n",
      "Epoch 9/30\n",
      "460/460 [==============================] - 61s 133ms/step - loss: 0.1778 - accuracy: 0.9346 - val_loss: 0.3102 - val_accuracy: 0.8992\n",
      "Epoch 10/30\n",
      "460/460 [==============================] - 57s 124ms/step - loss: 0.1902 - accuracy: 0.9325 - val_loss: 0.3255 - val_accuracy: 0.9131\n",
      "Epoch 11/30\n",
      "460/460 [==============================] - 65s 142ms/step - loss: 0.1773 - accuracy: 0.9370 - val_loss: 0.2797 - val_accuracy: 0.9270\n",
      "Epoch 12/30\n",
      "460/460 [==============================] - 56s 122ms/step - loss: 0.1687 - accuracy: 0.9414 - val_loss: 0.2130 - val_accuracy: 0.9284\n",
      "Epoch 13/30\n",
      "460/460 [==============================] - 62s 134ms/step - loss: 0.1765 - accuracy: 0.9335 - val_loss: 0.2964 - val_accuracy: 0.9253\n",
      "Epoch 14/30\n",
      "460/460 [==============================] - 76s 166ms/step - loss: 0.1516 - accuracy: 0.9464 - val_loss: 0.3642 - val_accuracy: 0.9165\n",
      "Epoch 15/30\n",
      "460/460 [==============================] - 75s 164ms/step - loss: 0.1656 - accuracy: 0.9392 - val_loss: 0.4337 - val_accuracy: 0.8992\n",
      "Epoch 16/30\n",
      "460/460 [==============================] - 63s 137ms/step - loss: 0.1685 - accuracy: 0.9399 - val_loss: 0.6316 - val_accuracy: 0.8836\n",
      "Epoch 17/30\n",
      "460/460 [==============================] - 55s 119ms/step - loss: 0.1658 - accuracy: 0.9391 - val_loss: 0.3370 - val_accuracy: 0.9101\n",
      "Epoch 18/30\n",
      "460/460 [==============================] - 55s 120ms/step - loss: 0.1707 - accuracy: 0.9395 - val_loss: 0.4048 - val_accuracy: 0.9226\n",
      "Epoch 19/30\n",
      "460/460 [==============================] - 55s 119ms/step - loss: 0.1584 - accuracy: 0.9393 - val_loss: 0.3641 - val_accuracy: 0.9145\n",
      "Epoch 20/30\n",
      "460/460 [==============================] - 55s 119ms/step - loss: 0.1588 - accuracy: 0.9408 - val_loss: 0.3959 - val_accuracy: 0.9108\n",
      "Epoch 21/30\n",
      "460/460 [==============================] - 54s 117ms/step - loss: 0.1610 - accuracy: 0.9425 - val_loss: 0.3182 - val_accuracy: 0.9158\n",
      "Epoch 22/30\n",
      "460/460 [==============================] - 55s 119ms/step - loss: 0.1552 - accuracy: 0.9438 - val_loss: 0.3744 - val_accuracy: 0.9135\n",
      "Epoch 23/30\n",
      "460/460 [==============================] - 54s 118ms/step - loss: 0.1689 - accuracy: 0.9403 - val_loss: 0.3511 - val_accuracy: 0.9138\n",
      "Epoch 24/30\n",
      "460/460 [==============================] - 54s 118ms/step - loss: 0.1523 - accuracy: 0.9434 - val_loss: 0.4278 - val_accuracy: 0.9209\n",
      "Epoch 25/30\n",
      "460/460 [==============================] - 54s 116ms/step - loss: 0.1549 - accuracy: 0.9452 - val_loss: 0.3602 - val_accuracy: 0.9237\n",
      "Epoch 26/30\n",
      "460/460 [==============================] - 55s 119ms/step - loss: 0.1449 - accuracy: 0.9479 - val_loss: 0.2692 - val_accuracy: 0.9250\n",
      "Epoch 27/30\n",
      "460/460 [==============================] - 53s 116ms/step - loss: 0.1458 - accuracy: 0.9468 - val_loss: 0.3936 - val_accuracy: 0.9189\n",
      "Epoch 28/30\n",
      "460/460 [==============================] - 2493s 5s/step - loss: 0.1517 - accuracy: 0.9456 - val_loss: 0.2765 - val_accuracy: 0.8619\n",
      "Epoch 29/30\n",
      "460/460 [==============================] - 156s 340ms/step - loss: 0.1380 - accuracy: 0.9449 - val_loss: 0.3691 - val_accuracy: 0.9226\n",
      "Epoch 30/30\n",
      "460/460 [==============================] - 149s 324ms/step - loss: 0.1586 - accuracy: 0.9437 - val_loss: 0.4703 - val_accuracy: 0.9118\n"
     ]
    },
    {
     "data": {
      "text/plain": [
       "<keras.src.callbacks.History at 0x7f784e2307f0>"
      ]
     },
     "execution_count": 56,
     "metadata": {},
     "output_type": "execute_result"
    }
   ],
   "source": [
    "# Training the model\n",
    "model.fit(X_train, Y_train, batch_size=batch_size, validation_data=(X_test, Y_test),epochs=epochs)"
   ]
  },
  {
   "cell_type": "code",
   "execution_count": 57,
   "metadata": {},
   "outputs": [
    {
     "name": "stdout",
     "output_type": "stream",
     "text": [
      "93/93 [==============================] - 10s 80ms/step\n"
     ]
    }
   ],
   "source": [
    "#Generate Confusion Matrix\n",
    "Y_test_labels = np.argmax(Y_test, axis=1)\n",
    "Y_prediction_labels = np.argmax(model.predict(X_test), axis = 1)\n",
    "normalized_cm = confusion_matrix(Y_test_labels,Y_prediction_labels, normalize = 'true')"
   ]
  },
  {
   "cell_type": "code",
   "execution_count": 58,
   "metadata": {},
   "outputs": [
    {
     "data": {
      "image/png": "[encoded data removed]",
      "text/plain": [
       "<Figure size 720x720 with 2 Axes>"
      ]
     },
     "metadata": {
      "needs_background": "light"
     },
     "output_type": "display_data"
    }
   ],
   "source": [
    "#List out target names\n",
    "target_names = list(ACTIVITIES.values())\n",
    "\n",
    "#Use seaborn to plot heat map of confusion matrix\n",
    "fig, ax = plt.subplots(figsize=(10,10))\n",
    "sns.heatmap(normalized_cm, annot=True, fmt='.2f', xticklabels = target_names, yticklabels = target_names)\n",
    "plt.ylabel('True Label')\n",
    "plt.xlabel('Predicted Label')\n",
    "plt.show(block=False)"
   ]
  },
  {
   "cell_type": "code",
   "execution_count": 59,
   "metadata": {},
   "outputs": [
    {
     "name": "stdout",
     "output_type": "stream",
     "text": [
      "93/93 [==============================] - 8s 83ms/step - loss: 0.4703 - accuracy: 0.9118\n",
      "\n",
      "   cat_crossentropy  ||   accuracy \n",
      "  ____________________________________\n",
      "[0.47033947706222534, 0.9117746949195862]\n"
     ]
    }
   ],
   "source": [
    "score = model.evaluate(X_test, Y_test)\n",
    "\n",
    "print(\"\\n   cat_crossentropy  ||   accuracy \")\n",
    "print(\"  ____________________________________\")\n",
    "print(score)"
   ]
  },
  {
   "cell_type": "markdown",
   "metadata": {},
   "source": [
    "## Architecture 3: Use 1 LSTM Layer"
   ]
  },
  {
   "cell_type": "code",
   "execution_count": 60,
   "metadata": {},
   "outputs": [],
   "source": [
    "##Hyperparameters\n",
    "epochs = 30\n",
    "batch_size = 16\n",
    "n_hidden_1 = 32\n",
    "n_hidden_2 = 16\n",
    "dropout_p = 0.5"
   ]
  },
  {
   "cell_type": "code",
   "execution_count": 61,
   "metadata": {},
   "outputs": [
    {
     "name": "stdout",
     "output_type": "stream",
     "text": [
      "Model: \"sequential_9\"\n",
      "_________________________________________________________________\n",
      " Layer (type)                Output Shape              Param #   \n",
      "=================================================================\n",
      " lstm_11 (LSTM)              (None, 32)                5376      \n",
      "                                                                 \n",
      " dropout_11 (Dropout)        (None, 32)                0         \n",
      "                                                                 \n",
      " dense_15 (Dense)            (None, 16)                528       \n",
      "                                                                 \n",
      " dense_16 (Dense)            (None, 6)                 102       \n",
      "                                                                 \n",
      "=================================================================\n",
      "Total params: 6006 (23.46 KB)\n",
      "Trainable params: 6006 (23.46 KB)\n",
      "Non-trainable params: 0 (0.00 Byte)\n",
      "_________________________________________________________________\n"
     ]
    }
   ],
   "source": [
    "model = Sequential() #Initializing our Model Architecture\n",
    "\n",
    "# Add an LSTM Layer\n",
    "model.add(LSTM(n_hidden_1, input_shape = (T, D)))\n",
    "\n",
    "# Adding a dropout layer\n",
    "model.add(Dropout(dropout_p))\n",
    "\n",
    "#Add another Dense Layer\n",
    "model.add(Dense(n_hidden_2, activation = \"relu\"))\n",
    "\n",
    "# Adding a Dense Layer with the Softmax Activation Function\n",
    "model.add(Dense(n_classes, activation = 'softmax'))\n",
    "\n",
    "model.summary() #Display a Summary of our model architecture"
   ]
  },
  {
   "cell_type": "code",
   "execution_count": 62,
   "metadata": {},
   "outputs": [],
   "source": [
    "# Compiling the model\n",
    "model.compile(loss='categorical_crossentropy', optimizer='rmsprop', metrics=['accuracy'])"
   ]
  },
  {
   "cell_type": "code",
   "execution_count": 63,
   "metadata": {},
   "outputs": [
    {
     "name": "stdout",
     "output_type": "stream",
     "text": [
      "Epoch 1/30\n",
      "460/460 [==============================] - 60s 115ms/step - loss: 1.1877 - accuracy: 0.4886 - val_loss: 1.0038 - val_accuracy: 0.6135\n",
      "Epoch 2/30\n",
      "460/460 [==============================] - 51s 110ms/step - loss: 0.7921 - accuracy: 0.6710 - val_loss: 0.6707 - val_accuracy: 0.7184\n",
      "Epoch 3/30\n",
      "460/460 [==============================] - 45s 98ms/step - loss: 0.6214 - accuracy: 0.7412 - val_loss: 0.8425 - val_accuracy: 0.6834\n",
      "Epoch 4/30\n",
      "460/460 [==============================] - 38s 84ms/step - loss: 0.5292 - accuracy: 0.7797 - val_loss: 0.5221 - val_accuracy: 0.7961\n",
      "Epoch 5/30\n",
      "460/460 [==============================] - 38s 83ms/step - loss: 0.4567 - accuracy: 0.8120 - val_loss: 0.5158 - val_accuracy: 0.8208\n",
      "Epoch 6/30\n",
      "460/460 [==============================] - 42s 92ms/step - loss: 0.3823 - accuracy: 0.8545 - val_loss: 0.5520 - val_accuracy: 0.8181\n",
      "Epoch 7/30\n",
      "460/460 [==============================] - 41s 90ms/step - loss: 0.2751 - accuracy: 0.9078 - val_loss: 0.5996 - val_accuracy: 0.8337\n",
      "Epoch 8/30\n",
      "460/460 [==============================] - 47s 103ms/step - loss: 0.2369 - accuracy: 0.9196 - val_loss: 0.5130 - val_accuracy: 0.8514\n",
      "Epoch 9/30\n",
      "460/460 [==============================] - 41s 90ms/step - loss: 0.1984 - accuracy: 0.9287 - val_loss: 0.5158 - val_accuracy: 0.8643\n",
      "Epoch 10/30\n",
      "460/460 [==============================] - 37s 80ms/step - loss: 0.1862 - accuracy: 0.9342 - val_loss: 0.4855 - val_accuracy: 0.8751\n",
      "Epoch 11/30\n",
      "460/460 [==============================] - 33s 72ms/step - loss: 0.1781 - accuracy: 0.9374 - val_loss: 0.5830 - val_accuracy: 0.8707\n",
      "Epoch 12/30\n",
      "460/460 [==============================] - 39s 86ms/step - loss: 0.1725 - accuracy: 0.9403 - val_loss: 0.3607 - val_accuracy: 0.8931\n",
      "Epoch 13/30\n",
      "460/460 [==============================] - 46s 99ms/step - loss: 0.1564 - accuracy: 0.9423 - val_loss: 0.4519 - val_accuracy: 0.8806\n",
      "Epoch 14/30\n",
      "460/460 [==============================] - 38s 82ms/step - loss: 0.1641 - accuracy: 0.9426 - val_loss: 0.4854 - val_accuracy: 0.8948\n",
      "Epoch 15/30\n",
      "460/460 [==============================] - 37s 81ms/step - loss: 0.1531 - accuracy: 0.9423 - val_loss: 0.5814 - val_accuracy: 0.8778\n",
      "Epoch 16/30\n",
      "460/460 [==============================] - 33s 73ms/step - loss: 0.1564 - accuracy: 0.9446 - val_loss: 0.5175 - val_accuracy: 0.8806\n",
      "Epoch 17/30\n",
      "460/460 [==============================] - 42s 92ms/step - loss: 0.1585 - accuracy: 0.9450 - val_loss: 0.5524 - val_accuracy: 0.8921\n",
      "Epoch 18/30\n",
      "460/460 [==============================] - 41s 89ms/step - loss: 0.1490 - accuracy: 0.9449 - val_loss: 0.5030 - val_accuracy: 0.9053\n",
      "Epoch 19/30\n",
      "460/460 [==============================] - 37s 81ms/step - loss: 0.1449 - accuracy: 0.9457 - val_loss: 0.4765 - val_accuracy: 0.8968\n",
      "Epoch 20/30\n",
      "460/460 [==============================] - 34s 74ms/step - loss: 0.1586 - accuracy: 0.9444 - val_loss: 0.4941 - val_accuracy: 0.8982\n",
      "Epoch 21/30\n",
      "460/460 [==============================] - 30s 65ms/step - loss: 0.1427 - accuracy: 0.9465 - val_loss: 0.4836 - val_accuracy: 0.8968\n",
      "Epoch 22/30\n",
      "460/460 [==============================] - 16s 36ms/step - loss: 0.1386 - accuracy: 0.9470 - val_loss: 0.4030 - val_accuracy: 0.9087\n",
      "Epoch 23/30\n",
      "460/460 [==============================] - 13s 28ms/step - loss: 0.1363 - accuracy: 0.9478 - val_loss: 0.5285 - val_accuracy: 0.9019\n",
      "Epoch 24/30\n",
      "460/460 [==============================] - 11s 25ms/step - loss: 0.1383 - accuracy: 0.9475 - val_loss: 0.5712 - val_accuracy: 0.8924\n",
      "Epoch 25/30\n",
      "460/460 [==============================] - 13s 28ms/step - loss: 0.1437 - accuracy: 0.9476 - val_loss: 0.4196 - val_accuracy: 0.8965\n",
      "Epoch 26/30\n",
      "460/460 [==============================] - 12s 26ms/step - loss: 0.1333 - accuracy: 0.9472 - val_loss: 0.4486 - val_accuracy: 0.9060\n",
      "Epoch 27/30\n",
      "460/460 [==============================] - 12s 27ms/step - loss: 0.1499 - accuracy: 0.9470 - val_loss: 0.4529 - val_accuracy: 0.9118\n",
      "Epoch 28/30\n",
      "460/460 [==============================] - 10s 23ms/step - loss: 0.1414 - accuracy: 0.9490 - val_loss: 0.4641 - val_accuracy: 0.9053\n",
      "Epoch 29/30\n",
      "460/460 [==============================] - 13s 29ms/step - loss: 0.1286 - accuracy: 0.9499 - val_loss: 0.5218 - val_accuracy: 0.9006\n",
      "Epoch 30/30\n",
      "460/460 [==============================] - 13s 28ms/step - loss: 0.1557 - accuracy: 0.9484 - val_loss: 0.4163 - val_accuracy: 0.9101\n"
     ]
    },
    {
     "data": {
      "text/plain": [
       "<keras.src.callbacks.History at 0x7f781c0b6c70>"
      ]
     },
     "execution_count": 63,
     "metadata": {},
     "output_type": "execute_result"
    }
   ],
   "source": [
    "# Training the model\n",
    "model.fit(X_train, Y_train, batch_size=batch_size, validation_data=(X_test, Y_test),epochs=epochs)"
   ]
  },
  {
   "cell_type": "code",
   "execution_count": 64,
   "metadata": {},
   "outputs": [
    {
     "name": "stdout",
     "output_type": "stream",
     "text": [
      "93/93 [==============================] - 1s 11ms/step\n"
     ]
    }
   ],
   "source": [
    "#Generate Confusion Matrix\n",
    "Y_test_labels = np.argmax(Y_test, axis=1)\n",
    "Y_prediction_labels = np.argmax(model.predict(X_test), axis = 1)\n",
    "normalized_cm = confusion_matrix(Y_test_labels,Y_prediction_labels, normalize = 'true')"
   ]
  },
  {
   "cell_type": "code",
   "execution_count": 65,
   "metadata": {},
   "outputs": [
    {
     "data": {
      "image/png": "[encoded data removed]",
      "text/plain": [
       "<Figure size 720x720 with 2 Axes>"
      ]
     },
     "metadata": {
      "needs_background": "light"
     },
     "output_type": "display_data"
    }
   ],
   "source": [
    "#List out target names\n",
    "target_names = list(ACTIVITIES.values())\n",
    "\n",
    "#Use seaborn to plot heat map of confusion matrix\n",
    "fig, ax = plt.subplots(figsize=(10,10))\n",
    "sns.heatmap(normalized_cm, annot=True, fmt='.2f', xticklabels = target_names, yticklabels = target_names)\n",
    "plt.ylabel('True Label')\n",
    "plt.xlabel('Predicted Label')\n",
    "plt.show(block=False)"
   ]
  },
  {
   "cell_type": "code",
   "execution_count": 66,
   "metadata": {},
   "outputs": [
    {
     "name": "stdout",
     "output_type": "stream",
     "text": [
      "93/93 [==============================] - 1s 9ms/step - loss: 0.4163 - accuracy: 0.9101\n",
      "\n",
      "   cat_crossentropy  ||   accuracy \n",
      "  ____________________________________\n",
      "[0.41629958152770996, 0.9100780487060547]\n"
     ]
    }
   ],
   "source": [
    "score = model.evaluate(X_test, Y_test)\n",
    "\n",
    "print(\"\\n   cat_crossentropy  ||   accuracy \")\n",
    "print(\"  ____________________________________\")\n",
    "print(score)"
   ]
  }
 ],
 "metadata": {
  "kernelspec": {
   "display_name": "base",
   "language": "python",
   "name": "python3"
  },
  "language_info": {
   "codemirror_mode": {
    "name": "ipython",
    "version": 3
   },
   "file_extension": ".py",
   "mimetype": "text/x-python",
   "name": "python",
   "nbconvert_exporter": "python",
   "pygments_lexer": "ipython3",
   "version": "3.9.12"
  }
 },
 "nbformat": 4,
 "nbformat_minor": 2
}
