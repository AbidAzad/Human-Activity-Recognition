{
 "cells": [
  {
   "cell_type": "markdown",
   "metadata": {},
   "source": [
    "# Import Libraries"
   ]
  },
  {
   "cell_type": "code",
   "execution_count": 56,
   "metadata": {},
   "outputs": [],
   "source": [
    "import pandas as pd\n",
    "import numpy as np\n",
    "\n",
    "#Use Keras Neural Network Components. This will be used to construct the LSTM\n",
    "from keras import backend as K\n",
    "from keras.models import Sequential\n",
    "from keras.layers import LSTM\n",
    "from keras.layers import Dense, Dropout\n",
    "from keras.layers import BatchNormalization\n",
    "from keras.layers import LayerNormalization\n",
    "from keras.layers import MultiHeadAttention\n",
    "from keras.regularizers import L1L2\n",
    "from keras.layers import Layer\n",
    "from keras import Model\n",
    "from keras.optimizers import Adam\n",
    "\n",
    "\n",
    "#Import Tensorflow \n",
    "import tensorflow as tf\n",
    "\n",
    "#Plotting Libraries\n",
    "import matplotlib.pyplot as plt\n",
    "import seaborn as sns\n",
    "\n",
    "#Confusion Matrix Library\n",
    "from sklearn.metrics import confusion_matrix"
   ]
  },
  {
   "cell_type": "markdown",
   "metadata": {},
   "source": [
    "# Ensure Reproducability of Results"
   ]
  },
  {
   "cell_type": "code",
   "execution_count": 57,
   "metadata": {},
   "outputs": [],
   "source": [
    "np.random.seed(42)\n",
    "tf.random.set_seed(42)"
   ]
  },
  {
   "cell_type": "markdown",
   "metadata": {},
   "source": [
    "# Fetch and Set Up Data"
   ]
  },
  {
   "cell_type": "code",
   "execution_count": 58,
   "metadata": {},
   "outputs": [],
   "source": [
    "#Numerically Encode the Activities\n",
    "ACTIVITIES = {\n",
    "    0: 'WALKING',\n",
    "    1: 'WALKING_UPSTAIRS',\n",
    "    2: 'WALKING_DOWNSTAIRS',\n",
    "    3: 'SITTING',\n",
    "    4: 'STANDING',\n",
    "    5: 'LAYING',\n",
    "}"
   ]
  },
  {
   "cell_type": "code",
   "execution_count": 59,
   "metadata": {},
   "outputs": [],
   "source": [
    "DATDIR = \"data/UCI HAR Dataset\"\n",
    "SIGNALS = [\n",
    "    \"body_acc_x\",\n",
    "    \"body_acc_y\",\n",
    "    \"body_acc_z\",\n",
    "    \"body_gyro_x\",\n",
    "    \"body_gyro_y\",\n",
    "    \"body_gyro_z\",\n",
    "    \"gravity_acc_x\",\n",
    "    \"gravity_acc_y\",\n",
    "    \"gravity_acc_z\"\n",
    "    ]"
   ]
  },
  {
   "cell_type": "code",
   "execution_count": 60,
   "metadata": {},
   "outputs": [],
   "source": [
    "#train_test: 0 if we want to fetch the training signal data, 1 if we want to fetch the test signal data\n",
    "def fetch_raw_signal_data(train_test, signal):\n",
    "    file_path = DATDIR + f\"/{'train' if train_test == 0 else 'test'}/Inertial Signals/{signal}_{'train' if train_test == 0 else 'test'}.txt\"\n",
    "    return pd.read_csv(file_path, delim_whitespace = True, header = None)\n",
    "\n",
    "#Same purpose as previous function but, in this case, we are fetching ALL the raw signal data!\n",
    "#train_test: 0 if we want to fetch the training signal data, 1 if we want to fetch the test signal data\n",
    "def fetch_all_raw_signals(train_test):\n",
    "    data_raw_signals = []\n",
    "    for signal in SIGNALS:\n",
    "        raw_signal_data = fetch_raw_signal_data(train_test, signal).to_numpy()\n",
    "        data_raw_signals.append(raw_signal_data)\n",
    "    \n",
    "    data_raw_signals = np.array(data_raw_signals)\n",
    "    return np.transpose(data_raw_signals, axes = (1, 2, 0))\n",
    "\n",
    "#Fetch Labels\n",
    "#train_test: 0 if we want to fetch the training signal data, 1 if we want to fetch the test signal data\n",
    "def fetch_labels(train_test):\n",
    "    file_path = DATDIR + f\"/{'train' if train_test == 0 else 'test'}/y_{'train' if train_test == 0 else 'test'}.txt\"\n",
    "    return pd.get_dummies(pd.read_csv(file_path, delim_whitespace=True, header = None)[0]).to_numpy()"
   ]
  },
  {
   "cell_type": "code",
   "execution_count": 61,
   "metadata": {},
   "outputs": [
    {
     "name": "stdout",
     "output_type": "stream",
     "text": [
      "7352 128 9\n",
      "6\n",
      "(7352, 128, 9) (7352, 6)\n"
     ]
    }
   ],
   "source": [
    "X_train, X_test, Y_train, Y_test = fetch_all_raw_signals(0), fetch_all_raw_signals(1), fetch_labels(0), fetch_labels(1)\n",
    "\n",
    "N = X_train.shape[0]\n",
    "T = X_train.shape[1]\n",
    "D = X_train.shape[2]\n",
    "\n",
    "print(N, T, D)\n",
    "\n",
    "n_classes = Y_train.shape[1]\n",
    "print(n_classes)\n",
    "print(X_train.shape, Y_train.shape)"
   ]
  },
  {
   "cell_type": "markdown",
   "metadata": {},
   "source": [
    "# Define LSTM Architecture"
   ]
  },
  {
   "cell_type": "markdown",
   "metadata": {},
   "source": [
    "## Architecture 1: 2 LSTM Layers With Attention Layer"
   ]
  },
  {
   "cell_type": "code",
   "execution_count": 62,
   "metadata": {},
   "outputs": [],
   "source": [
    "##Hyperparameters\n",
    "epochs = 30\n",
    "batch_size = 128\n",
    "\n",
    "n_hidden_1 = 64\n",
    "n_hidden_2 = 32\n",
    "n_hidden_3 = 16\n",
    "n_hidden_4 = 8\n",
    "\n",
    "dropout_p = 0.5\n",
    "num_heads = 6"
   ]
  },
  {
   "cell_type": "code",
   "execution_count": 63,
   "metadata": {},
   "outputs": [],
   "source": [
    "class AttentionBlock(Layer):\n",
    "    def __init__(self, num_heads, key_dim, fc_dim):\n",
    "        super().__init__()\n",
    "        self.dropout = Dropout(0.1)\n",
    "        self.attention = MultiHeadAttention(num_heads = num_heads, key_dim = key_dim, value_dim = key_dim)\n",
    "        self.fc = Sequential([Dense(fc_dim, activation=\"relu\")])\n",
    "        \n",
    "    def call(self, inputs, training):\n",
    "        attention_output = self.attention(inputs, inputs)\n",
    "        attention_output = self.dropout(attention_output, training = training)        \n",
    "        fc_output = self.fc(attention_output)\n",
    "        fc_output = self.dropout(fc_output, training = training)\n",
    "        return fc_output\n"
   ]
  },
  {
   "cell_type": "code",
   "execution_count": 64,
   "metadata": {},
   "outputs": [
    {
     "name": "stdout",
     "output_type": "stream",
     "text": [
      "Model: \"sequential_8\"\n",
      "_________________________________________________________________\n",
      " Layer (type)                Output Shape              Param #   \n",
      "=================================================================\n",
      " lstm_10 (LSTM)              (None, 128, 64)           18944     \n",
      "                                                                 \n",
      " attention_block_3 (Attenti  (None, 128, 32)           101600    \n",
      " onBlock)                                                        \n",
      "                                                                 \n",
      " batch_normalization_10 (Ba  (None, 128, 32)           128       \n",
      " tchNormalization)                                               \n",
      "                                                                 \n",
      " lstm_11 (LSTM)              (None, 16)                3136      \n",
      "                                                                 \n",
      " batch_normalization_11 (Ba  (None, 16)                64        \n",
      " tchNormalization)                                               \n",
      "                                                                 \n",
      " dense_14 (Dense)            (None, 8)                 136       \n",
      "                                                                 \n",
      " dropout_11 (Dropout)        (None, 8)                 0         \n",
      "                                                                 \n",
      " dense_15 (Dense)            (None, 6)                 54        \n",
      "                                                                 \n",
      "=================================================================\n",
      "Total params: 124062 (484.62 KB)\n",
      "Trainable params: 123966 (484.24 KB)\n",
      "Non-trainable params: 96 (384.00 Byte)\n",
      "_________________________________________________________________\n"
     ]
    }
   ],
   "source": [
    "model = Sequential() #Initializing our Model Architecture\n",
    "\n",
    "model.add(LSTM(n_hidden_1, input_shape = (T, D), return_sequences=True)) # Add an LSTM Layer\n",
    "model.add(AttentionBlock(num_heads = num_heads, key_dim = n_hidden_1, fc_dim = n_hidden_2)) #Add a Multihead Attention Layer\n",
    "model.add(BatchNormalization()) #Add Batch Normalization Layer\n",
    "\n",
    "model.add(LSTM(n_hidden_3)) #Add another LSTM to come after the AttentionBlock\n",
    "model.add(BatchNormalization()) #Add Batch Normalization Layer\n",
    "\n",
    "model.add(Dense(n_hidden_4, activation = \"relu\")) #Add another Dense Layer\n",
    "model.add(Dropout(dropout_p)) # Adding a dropout layer\n",
    "model.add(Dense(n_classes, activation = 'softmax')) #Adding a Dense Layer with the Softmax Activation Function\n",
    "\n",
    "model.summary() #Display a Summary of our model architecture"
   ]
  },
  {
   "cell_type": "code",
   "execution_count": 65,
   "metadata": {},
   "outputs": [],
   "source": [
    "# Compiling the model\n",
    "optimizer = Adam(learning_rate=1e-4, weight_decay=1e-4, epsilon = 1e-10)\n",
    "model.compile(optimizer = optimizer, loss='categorical_crossentropy', metrics=['accuracy'])"
   ]
  },
  {
   "cell_type": "code",
   "execution_count": 66,
   "metadata": {},
   "outputs": [
    {
     "name": "stdout",
     "output_type": "stream",
     "text": [
      "Epoch 1/30\n",
      "58/58 [==============================] - 49s 759ms/step - loss: 1.6483 - accuracy: 0.3229 - val_loss: 1.7898 - val_accuracy: 0.2148\n",
      "Epoch 2/30\n",
      "58/58 [==============================] - 39s 683ms/step - loss: 1.4860 - accuracy: 0.3874 - val_loss: 1.7836 - val_accuracy: 0.3200\n",
      "Epoch 3/30\n",
      "58/58 [==============================] - 40s 686ms/step - loss: 1.3840 - accuracy: 0.4310 - val_loss: 1.7748 - val_accuracy: 0.2599\n",
      "Epoch 4/30\n",
      "58/58 [==============================] - 40s 691ms/step - loss: 1.3230 - accuracy: 0.4501 - val_loss: 1.7510 - val_accuracy: 0.4859\n",
      "Epoch 5/30\n",
      "58/58 [==============================] - 45s 779ms/step - loss: 1.2613 - accuracy: 0.4799 - val_loss: 1.7020 - val_accuracy: 0.5294\n",
      "Epoch 6/30\n",
      "58/58 [==============================] - 46s 789ms/step - loss: 1.2190 - accuracy: 0.4835 - val_loss: 1.6358 - val_accuracy: 0.5409\n",
      "Epoch 7/30\n",
      "58/58 [==============================] - 40s 689ms/step - loss: 1.1807 - accuracy: 0.5050 - val_loss: 1.5153 - val_accuracy: 0.6006\n",
      "Epoch 8/30\n",
      "58/58 [==============================] - 40s 695ms/step - loss: 1.1297 - accuracy: 0.5335 - val_loss: 1.3810 - val_accuracy: 0.6885\n",
      "Epoch 9/30\n",
      "58/58 [==============================] - 40s 689ms/step - loss: 1.1127 - accuracy: 0.5325 - val_loss: 1.2636 - val_accuracy: 0.7900\n",
      "Epoch 10/30\n",
      "58/58 [==============================] - 40s 691ms/step - loss: 1.0594 - accuracy: 0.5541 - val_loss: 1.0587 - val_accuracy: 0.7906\n",
      "Epoch 11/30\n",
      "58/58 [==============================] - 40s 685ms/step - loss: 1.0260 - accuracy: 0.5645 - val_loss: 0.8584 - val_accuracy: 0.8229\n",
      "Epoch 12/30\n",
      "58/58 [==============================] - 40s 687ms/step - loss: 0.9989 - accuracy: 0.5783 - val_loss: 0.8279 - val_accuracy: 0.7920\n",
      "Epoch 13/30\n",
      "58/58 [==============================] - 40s 692ms/step - loss: 0.9789 - accuracy: 0.5824 - val_loss: 0.6941 - val_accuracy: 0.7367\n",
      "Epoch 14/30\n",
      "58/58 [==============================] - 40s 697ms/step - loss: 0.9688 - accuracy: 0.5794 - val_loss: 0.7819 - val_accuracy: 0.7499\n",
      "Epoch 15/30\n",
      "58/58 [==============================] - 41s 700ms/step - loss: 0.9493 - accuracy: 0.5862 - val_loss: 0.6120 - val_accuracy: 0.7998\n",
      "Epoch 16/30\n",
      "58/58 [==============================] - 41s 707ms/step - loss: 0.9287 - accuracy: 0.6148 - val_loss: 0.6150 - val_accuracy: 0.8324\n",
      "Epoch 17/30\n",
      "58/58 [==============================] - 41s 705ms/step - loss: 0.9245 - accuracy: 0.6098 - val_loss: 0.5584 - val_accuracy: 0.8470\n",
      "Epoch 18/30\n",
      "58/58 [==============================] - 41s 710ms/step - loss: 0.8986 - accuracy: 0.6122 - val_loss: 0.5877 - val_accuracy: 0.8463\n",
      "Epoch 19/30\n",
      "58/58 [==============================] - 41s 712ms/step - loss: 0.9014 - accuracy: 0.6132 - val_loss: 0.5371 - val_accuracy: 0.8436\n",
      "Epoch 20/30\n",
      "58/58 [==============================] - 41s 709ms/step - loss: 0.8825 - accuracy: 0.6174 - val_loss: 0.5080 - val_accuracy: 0.8575\n",
      "Epoch 21/30\n",
      "58/58 [==============================] - 41s 703ms/step - loss: 0.8784 - accuracy: 0.6144 - val_loss: 0.5506 - val_accuracy: 0.8459\n",
      "Epoch 22/30\n",
      "58/58 [==============================] - 41s 709ms/step - loss: 0.8758 - accuracy: 0.6076 - val_loss: 0.5650 - val_accuracy: 0.8290\n",
      "Epoch 23/30\n",
      "58/58 [==============================] - 41s 708ms/step - loss: 0.8602 - accuracy: 0.6138 - val_loss: 0.5368 - val_accuracy: 0.8303\n",
      "Epoch 24/30\n",
      "58/58 [==============================] - 41s 711ms/step - loss: 0.8497 - accuracy: 0.6179 - val_loss: 0.5454 - val_accuracy: 0.8056\n",
      "Epoch 25/30\n",
      "58/58 [==============================] - 41s 708ms/step - loss: 0.8525 - accuracy: 0.6126 - val_loss: 0.4791 - val_accuracy: 0.8361\n",
      "Epoch 26/30\n",
      "58/58 [==============================] - 41s 707ms/step - loss: 0.8635 - accuracy: 0.6080 - val_loss: 0.4600 - val_accuracy: 0.8504\n",
      "Epoch 27/30\n",
      "58/58 [==============================] - 41s 710ms/step - loss: 0.8839 - accuracy: 0.6051 - val_loss: 0.5671 - val_accuracy: 0.8364\n",
      "Epoch 28/30\n",
      "58/58 [==============================] - 41s 708ms/step - loss: 0.8368 - accuracy: 0.6202 - val_loss: 0.4631 - val_accuracy: 0.8446\n",
      "Epoch 29/30\n",
      "58/58 [==============================] - 41s 713ms/step - loss: 0.8352 - accuracy: 0.6160 - val_loss: 0.5730 - val_accuracy: 0.8174\n",
      "Epoch 30/30\n",
      "58/58 [==============================] - 1000s 18s/step - loss: 0.8194 - accuracy: 0.6155 - val_loss: 0.4220 - val_accuracy: 0.8595\n"
     ]
    },
    {
     "data": {
      "text/plain": [
       "<keras.src.callbacks.History at 0x7fc82e45efd0>"
      ]
     },
     "execution_count": 66,
     "metadata": {},
     "output_type": "execute_result"
    }
   ],
   "source": [
    "# Training the model\n",
    "model.fit(X_train, Y_train, batch_size=batch_size, validation_data=(X_test, Y_test),epochs=epochs)"
   ]
  },
  {
   "cell_type": "code",
   "execution_count": 67,
   "metadata": {},
   "outputs": [
    {
     "name": "stdout",
     "output_type": "stream",
     "text": [
      "93/93 [==============================] - 25s 207ms/step\n"
     ]
    }
   ],
   "source": [
    "#Generate Confusion Matrix\n",
    "Y_test_labels = np.argmax(Y_test, axis=1)\n",
    "Y_prediction_labels = np.argmax(model.predict(X_test), axis = 1)\n",
    "normalized_cm = confusion_matrix(Y_test_labels,Y_prediction_labels, normalize = 'true')"
   ]
  },
  {
   "cell_type": "code",
   "execution_count": 68,
   "metadata": {},
   "outputs": [
    {
     "data": {
      "image/png": "[encoded data removed]",
      "text/plain": [
       "<Figure size 720x720 with 2 Axes>"
      ]
     },
     "metadata": {
      "needs_background": "light"
     },
     "output_type": "display_data"
    }
   ],
   "source": [
    "#List out target names\n",
    "target_names = list(ACTIVITIES.values())\n",
    "\n",
    "#Use seaborn to plot heat map of confusion matrix\n",
    "fig, ax = plt.subplots(figsize=(10,10))\n",
    "sns.heatmap(normalized_cm, annot=True, fmt='.2f', xticklabels = target_names, yticklabels = target_names)\n",
    "plt.ylabel('True Label')\n",
    "plt.xlabel('Predicted Label')\n",
    "plt.show(block=False)"
   ]
  },
  {
   "cell_type": "code",
   "execution_count": 69,
   "metadata": {},
   "outputs": [
    {
     "name": "stdout",
     "output_type": "stream",
     "text": [
      "93/93 [==============================] - 7s 76ms/step - loss: 0.4220 - accuracy: 0.8595\n",
      "\n",
      "   cat_crossentropy  ||   accuracy \n",
      "  ____________________________________\n",
      "[0.42196816205978394, 0.8595181703567505]\n"
     ]
    }
   ],
   "source": [
    "score = model.evaluate(X_test, Y_test)\n",
    "\n",
    "print(\"\\n   cat_crossentropy  ||   accuracy \")\n",
    "print(\"  ____________________________________\")\n",
    "print(score)"
   ]
  },
  {
   "cell_type": "markdown",
   "metadata": {},
   "source": [
    "## Architecture 2: Use 2 LSTM Layers"
   ]
  },
  {
   "cell_type": "code",
   "execution_count": 70,
   "metadata": {},
   "outputs": [],
   "source": [
    "##Hyperparameters\n",
    "epochs = 30\n",
    "batch_size = 16\n",
    "n_hidden_1 = 64\n",
    "dropout_p = 0.5\n",
    "n_hidden_2 = 32\n",
    "n_hidden_3 = 16"
   ]
  },
  {
   "cell_type": "code",
   "execution_count": 71,
   "metadata": {},
   "outputs": [
    {
     "name": "stdout",
     "output_type": "stream",
     "text": [
      "Model: \"sequential_10\"\n",
      "_________________________________________________________________\n",
      " Layer (type)                Output Shape              Param #   \n",
      "=================================================================\n",
      " lstm_12 (LSTM)              (None, 128, 64)           18944     \n",
      "                                                                 \n",
      " batch_normalization_12 (Ba  (None, 128, 64)           256       \n",
      " tchNormalization)                                               \n",
      "                                                                 \n",
      " dropout_12 (Dropout)        (None, 128, 64)           0         \n",
      "                                                                 \n",
      " lstm_13 (LSTM)              (None, 32)                12416     \n",
      "                                                                 \n",
      " batch_normalization_13 (Ba  (None, 32)                128       \n",
      " tchNormalization)                                               \n",
      "                                                                 \n",
      " dropout_13 (Dropout)        (None, 32)                0         \n",
      "                                                                 \n",
      " dense_16 (Dense)            (None, 16)                528       \n",
      "                                                                 \n",
      " dense_17 (Dense)            (None, 6)                 102       \n",
      "                                                                 \n",
      "=================================================================\n",
      "Total params: 32374 (126.46 KB)\n",
      "Trainable params: 32182 (125.71 KB)\n",
      "Non-trainable params: 192 (768.00 Byte)\n",
      "_________________________________________________________________\n"
     ]
    }
   ],
   "source": [
    "model = Sequential() #Initializing our Model Architecture\n",
    "\n",
    "#Define LSTM Layer with Batch Normalization\n",
    "model.add(LSTM(n_hidden_1, input_shape=(T, D), return_sequences=True))\n",
    "model.add(BatchNormalization())\n",
    "\n",
    "#Define Dropout Layer\n",
    "model.add(Dropout(dropout_p))\n",
    "\n",
    "#Define the second LSTM Layer with Batch Normalization\n",
    "model.add(LSTM(n_hidden_2))\n",
    "model.add(BatchNormalization())\n",
    "\n",
    "#Define Dropout Layer\n",
    "model.add(Dropout(dropout_p))\n",
    "\n",
    "#Define Dense Layer\n",
    "model.add(Dense(n_hidden_3, activation = 'relu'))\n",
    "\n",
    "#Define Dense Layer\n",
    "model.add(Dense(n_classes, activation = 'softmax'))\n",
    "\n",
    "#Print Model Summary\n",
    "model.summary()"
   ]
  },
  {
   "cell_type": "code",
   "execution_count": 72,
   "metadata": {},
   "outputs": [],
   "source": [
    "# Compiling the model\n",
    "model.compile(loss='categorical_crossentropy', optimizer='rmsprop', metrics=['accuracy'])"
   ]
  },
  {
   "cell_type": "code",
   "execution_count": 73,
   "metadata": {},
   "outputs": [
    {
     "name": "stdout",
     "output_type": "stream",
     "text": [
      "Epoch 1/30\n",
      "460/460 [==============================] - 33s 62ms/step - loss: 0.9748 - accuracy: 0.5668 - val_loss: 0.6421 - val_accuracy: 0.6675\n",
      "Epoch 2/30\n",
      "460/460 [==============================] - 25s 54ms/step - loss: 0.6183 - accuracy: 0.6949 - val_loss: 5.3179 - val_accuracy: 0.3376\n",
      "Epoch 3/30\n",
      "460/460 [==============================] - 24s 52ms/step - loss: 0.4687 - accuracy: 0.7705 - val_loss: 0.3959 - val_accuracy: 0.8110\n",
      "Epoch 4/30\n",
      "460/460 [==============================] - 23s 51ms/step - loss: 0.3999 - accuracy: 0.8056 - val_loss: 2.1464 - val_accuracy: 0.6301\n",
      "Epoch 5/30\n",
      "460/460 [==============================] - 29s 63ms/step - loss: 0.3688 - accuracy: 0.8217 - val_loss: 0.3412 - val_accuracy: 0.8463\n",
      "Epoch 6/30\n",
      "460/460 [==============================] - 24s 53ms/step - loss: 0.3181 - accuracy: 0.8309 - val_loss: 0.4261 - val_accuracy: 0.8154\n",
      "Epoch 7/30\n",
      "460/460 [==============================] - 24s 52ms/step - loss: 0.3078 - accuracy: 0.8385 - val_loss: 0.4597 - val_accuracy: 0.8337\n",
      "Epoch 8/30\n",
      "460/460 [==============================] - 24s 53ms/step - loss: 0.2991 - accuracy: 0.8447 - val_loss: 0.6230 - val_accuracy: 0.7659\n",
      "Epoch 9/30\n",
      "460/460 [==============================] - 24s 52ms/step - loss: 0.2792 - accuracy: 0.8451 - val_loss: 0.5680 - val_accuracy: 0.8147\n",
      "Epoch 10/30\n",
      "460/460 [==============================] - 28s 61ms/step - loss: 0.2749 - accuracy: 0.8473 - val_loss: 0.3590 - val_accuracy: 0.8381\n",
      "Epoch 11/30\n",
      "460/460 [==============================] - 25s 54ms/step - loss: 0.2808 - accuracy: 0.8497 - val_loss: 0.4276 - val_accuracy: 0.8331\n",
      "Epoch 12/30\n",
      "460/460 [==============================] - 27s 59ms/step - loss: 0.2910 - accuracy: 0.8524 - val_loss: 0.4233 - val_accuracy: 0.8476\n",
      "Epoch 13/30\n",
      "460/460 [==============================] - 25s 53ms/step - loss: 0.2772 - accuracy: 0.8523 - val_loss: 0.4419 - val_accuracy: 0.8361\n",
      "Epoch 14/30\n",
      "460/460 [==============================] - 24s 52ms/step - loss: 0.2652 - accuracy: 0.8531 - val_loss: 0.4854 - val_accuracy: 0.8188\n",
      "Epoch 15/30\n",
      "460/460 [==============================] - 24s 53ms/step - loss: 0.3088 - accuracy: 0.8519 - val_loss: 0.7106 - val_accuracy: 0.8249\n",
      "Epoch 16/30\n",
      "460/460 [==============================] - 24s 52ms/step - loss: 0.2714 - accuracy: 0.8546 - val_loss: 0.7435 - val_accuracy: 0.8039\n",
      "Epoch 17/30\n",
      "460/460 [==============================] - 24s 53ms/step - loss: 0.2708 - accuracy: 0.8569 - val_loss: 0.6442 - val_accuracy: 0.8032\n",
      "Epoch 18/30\n",
      "460/460 [==============================] - 24s 52ms/step - loss: 0.2648 - accuracy: 0.8526 - val_loss: 0.4524 - val_accuracy: 0.8561\n",
      "Epoch 19/30\n",
      "460/460 [==============================] - 25s 54ms/step - loss: 0.2644 - accuracy: 0.8564 - val_loss: 0.4715 - val_accuracy: 0.8497\n",
      "Epoch 20/30\n",
      "460/460 [==============================] - 27s 59ms/step - loss: 0.2558 - accuracy: 0.8618 - val_loss: 0.4211 - val_accuracy: 0.8385\n",
      "Epoch 21/30\n",
      "460/460 [==============================] - 26s 57ms/step - loss: 0.2590 - accuracy: 0.8610 - val_loss: 0.4339 - val_accuracy: 0.8558\n",
      "Epoch 22/30\n",
      "460/460 [==============================] - 26s 56ms/step - loss: 0.2590 - accuracy: 0.8629 - val_loss: 0.4628 - val_accuracy: 0.8381\n",
      "Epoch 23/30\n",
      "460/460 [==============================] - 25s 54ms/step - loss: 0.2465 - accuracy: 0.8675 - val_loss: 0.4909 - val_accuracy: 0.8320\n",
      "Epoch 24/30\n",
      "460/460 [==============================] - 29s 62ms/step - loss: 0.2550 - accuracy: 0.8644 - val_loss: 0.6177 - val_accuracy: 0.8521\n",
      "Epoch 25/30\n",
      "460/460 [==============================] - 26s 57ms/step - loss: 0.2513 - accuracy: 0.8671 - val_loss: 0.3863 - val_accuracy: 0.8558\n",
      "Epoch 26/30\n",
      "460/460 [==============================] - 27s 58ms/step - loss: 0.2594 - accuracy: 0.8648 - val_loss: 0.3818 - val_accuracy: 0.8409\n",
      "Epoch 27/30\n",
      "460/460 [==============================] - 26s 56ms/step - loss: 0.2568 - accuracy: 0.8713 - val_loss: 0.5610 - val_accuracy: 0.8429\n",
      "Epoch 28/30\n",
      "460/460 [==============================] - 25s 55ms/step - loss: 0.2654 - accuracy: 0.8713 - val_loss: 0.6485 - val_accuracy: 0.8249\n",
      "Epoch 29/30\n",
      "460/460 [==============================] - 26s 56ms/step - loss: 0.2419 - accuracy: 0.8704 - val_loss: 0.4413 - val_accuracy: 0.8578\n",
      "Epoch 30/30\n",
      "460/460 [==============================] - 23s 51ms/step - loss: 0.2483 - accuracy: 0.8726 - val_loss: 0.3739 - val_accuracy: 0.8772\n"
     ]
    },
    {
     "data": {
      "text/plain": [
       "<keras.src.callbacks.History at 0x7fc8443f6850>"
      ]
     },
     "execution_count": 73,
     "metadata": {},
     "output_type": "execute_result"
    }
   ],
   "source": [
    "# Training the model\n",
    "model.fit(X_train, Y_train, batch_size=batch_size, validation_data=(X_test, Y_test),epochs=epochs)"
   ]
  },
  {
   "cell_type": "code",
   "execution_count": 74,
   "metadata": {},
   "outputs": [
    {
     "name": "stdout",
     "output_type": "stream",
     "text": [
      "93/93 [==============================] - 2s 16ms/step\n"
     ]
    }
   ],
   "source": [
    "#Generate Confusion Matrix\n",
    "Y_test_labels = np.argmax(Y_test, axis=1)\n",
    "Y_prediction_labels = np.argmax(model.predict(X_test), axis = 1)\n",
    "normalized_cm = confusion_matrix(Y_test_labels,Y_prediction_labels, normalize = 'true')"
   ]
  },
  {
   "cell_type": "code",
   "execution_count": 75,
   "metadata": {},
   "outputs": [
    {
     "data": {
      "image/png": "[encoded data removed]",
      "text/plain": [
       "<Figure size 720x720 with 2 Axes>"
      ]
     },
     "metadata": {
      "needs_background": "light"
     },
     "output_type": "display_data"
    }
   ],
   "source": [
    "#List out target names\n",
    "target_names = list(ACTIVITIES.values())\n",
    "\n",
    "#Use seaborn to plot heat map of confusion matrix\n",
    "fig, ax = plt.subplots(figsize=(10,10))\n",
    "sns.heatmap(normalized_cm, annot=True, fmt='.2f', xticklabels = target_names, yticklabels = target_names)\n",
    "plt.ylabel('True Label')\n",
    "plt.xlabel('Predicted Label')\n",
    "plt.show(block=False)"
   ]
  },
  {
   "cell_type": "code",
   "execution_count": 76,
   "metadata": {},
   "outputs": [
    {
     "name": "stdout",
     "output_type": "stream",
     "text": [
      "93/93 [==============================] - 2s 18ms/step - loss: 0.3739 - accuracy: 0.8772\n",
      "\n",
      "   cat_crossentropy  ||   accuracy \n",
      "  ____________________________________\n",
      "[0.37390294671058655, 0.8771632313728333]\n"
     ]
    }
   ],
   "source": [
    "score = model.evaluate(X_test, Y_test)\n",
    "\n",
    "print(\"\\n   cat_crossentropy  ||   accuracy \")\n",
    "print(\"  ____________________________________\")\n",
    "print(score)"
   ]
  },
  {
   "cell_type": "markdown",
   "metadata": {},
   "source": [
    "## Architecture 3: Use 1 LSTM Layer"
   ]
  },
  {
   "cell_type": "code",
   "execution_count": 77,
   "metadata": {},
   "outputs": [],
   "source": [
    "##Hyperparameters\n",
    "epochs = 30\n",
    "batch_size = 16\n",
    "n_hidden_1 = 32\n",
    "n_hidden_2 = 16\n",
    "dropout_p = 0.5"
   ]
  },
  {
   "cell_type": "code",
   "execution_count": 78,
   "metadata": {},
   "outputs": [
    {
     "name": "stdout",
     "output_type": "stream",
     "text": [
      "Model: \"sequential_11\"\n",
      "_________________________________________________________________\n",
      " Layer (type)                Output Shape              Param #   \n",
      "=================================================================\n",
      " lstm_14 (LSTM)              (None, 32)                5376      \n",
      "                                                                 \n",
      " dropout_14 (Dropout)        (None, 32)                0         \n",
      "                                                                 \n",
      " dense_18 (Dense)            (None, 16)                528       \n",
      "                                                                 \n",
      " dense_19 (Dense)            (None, 6)                 102       \n",
      "                                                                 \n",
      "=================================================================\n",
      "Total params: 6006 (23.46 KB)\n",
      "Trainable params: 6006 (23.46 KB)\n",
      "Non-trainable params: 0 (0.00 Byte)\n",
      "_________________________________________________________________\n"
     ]
    }
   ],
   "source": [
    "model = Sequential() #Initializing our Model Architecture\n",
    "\n",
    "# Add an LSTM Layer\n",
    "model.add(LSTM(n_hidden_1, input_shape = (T, D)))\n",
    "\n",
    "# Adding a dropout layer\n",
    "model.add(Dropout(dropout_p))\n",
    "\n",
    "#Add another Dense Layer\n",
    "model.add(Dense(n_hidden_2, activation = \"relu\"))\n",
    "\n",
    "# Adding a Dense Layer with the Softmax Activation Function\n",
    "model.add(Dense(n_classes, activation = 'softmax'))\n",
    "\n",
    "model.summary() #Display a Summary of our model architecture"
   ]
  },
  {
   "cell_type": "code",
   "execution_count": 79,
   "metadata": {},
   "outputs": [],
   "source": [
    "# Compiling the model\n",
    "model.compile(loss='categorical_crossentropy', optimizer='rmsprop', metrics=['accuracy'])"
   ]
  },
  {
   "cell_type": "code",
   "execution_count": 80,
   "metadata": {},
   "outputs": [
    {
     "name": "stdout",
     "output_type": "stream",
     "text": [
      "Epoch 1/30\n",
      "460/460 [==============================] - 12s 22ms/step - loss: 1.3701 - accuracy: 0.3842 - val_loss: 1.1822 - val_accuracy: 0.4384\n",
      "Epoch 2/30\n",
      "460/460 [==============================] - 9s 20ms/step - loss: 1.1047 - accuracy: 0.4910 - val_loss: 0.8531 - val_accuracy: 0.5758\n",
      "Epoch 3/30\n",
      "460/460 [==============================] - 9s 20ms/step - loss: 0.7607 - accuracy: 0.6117 - val_loss: 0.6925 - val_accuracy: 0.6186\n",
      "Epoch 4/30\n",
      "460/460 [==============================] - 10s 21ms/step - loss: 0.6544 - accuracy: 0.6574 - val_loss: 0.8725 - val_accuracy: 0.6077\n",
      "Epoch 5/30\n",
      "460/460 [==============================] - 10s 21ms/step - loss: 0.5822 - accuracy: 0.7063 - val_loss: 0.5698 - val_accuracy: 0.7496\n",
      "Epoch 6/30\n",
      "460/460 [==============================] - 11s 25ms/step - loss: 0.5209 - accuracy: 0.7431 - val_loss: 0.5226 - val_accuracy: 0.7631\n",
      "Epoch 7/30\n",
      "460/460 [==============================] - 11s 25ms/step - loss: 0.4526 - accuracy: 0.7889 - val_loss: 0.6074 - val_accuracy: 0.7570\n",
      "Epoch 8/30\n",
      "460/460 [==============================] - 11s 23ms/step - loss: 0.4961 - accuracy: 0.7801 - val_loss: 0.5533 - val_accuracy: 0.7618\n",
      "Epoch 9/30\n",
      "460/460 [==============================] - 11s 24ms/step - loss: 0.4468 - accuracy: 0.7991 - val_loss: 0.3983 - val_accuracy: 0.8161\n",
      "Epoch 10/30\n",
      "460/460 [==============================] - 11s 23ms/step - loss: 0.3532 - accuracy: 0.8184 - val_loss: 0.4801 - val_accuracy: 0.8327\n",
      "Epoch 11/30\n",
      "460/460 [==============================] - 10s 22ms/step - loss: 0.3290 - accuracy: 0.8243 - val_loss: 0.3908 - val_accuracy: 0.8263\n",
      "Epoch 12/30\n",
      "460/460 [==============================] - 11s 24ms/step - loss: 0.3415 - accuracy: 0.8279 - val_loss: 0.3813 - val_accuracy: 0.8327\n",
      "Epoch 13/30\n",
      "460/460 [==============================] - 11s 25ms/step - loss: 0.3623 - accuracy: 0.8320 - val_loss: 0.5342 - val_accuracy: 0.7852\n",
      "Epoch 14/30\n",
      "460/460 [==============================] - 11s 24ms/step - loss: 0.3258 - accuracy: 0.8317 - val_loss: 0.3816 - val_accuracy: 0.8293\n",
      "Epoch 15/30\n",
      "460/460 [==============================] - 10s 22ms/step - loss: 0.3283 - accuracy: 0.8303 - val_loss: 0.4270 - val_accuracy: 0.8103\n",
      "Epoch 16/30\n",
      "460/460 [==============================] - 11s 23ms/step - loss: 0.3104 - accuracy: 0.8345 - val_loss: 0.4387 - val_accuracy: 0.8266\n",
      "Epoch 17/30\n",
      "460/460 [==============================] - 11s 24ms/step - loss: 0.3064 - accuracy: 0.8398 - val_loss: 0.4429 - val_accuracy: 0.8388\n",
      "Epoch 18/30\n",
      "460/460 [==============================] - 12s 26ms/step - loss: 0.3141 - accuracy: 0.8400 - val_loss: 0.3558 - val_accuracy: 0.8500\n",
      "Epoch 19/30\n",
      "460/460 [==============================] - 10s 22ms/step - loss: 0.2852 - accuracy: 0.8424 - val_loss: 0.4163 - val_accuracy: 0.8317\n",
      "Epoch 20/30\n",
      "460/460 [==============================] - 10s 22ms/step - loss: 0.2696 - accuracy: 0.8474 - val_loss: 0.3624 - val_accuracy: 0.8476\n",
      "Epoch 21/30\n",
      "460/460 [==============================] - 11s 23ms/step - loss: 0.2763 - accuracy: 0.8553 - val_loss: 0.3514 - val_accuracy: 0.8317\n",
      "Epoch 22/30\n",
      "460/460 [==============================] - 12s 27ms/step - loss: 0.2793 - accuracy: 0.8483 - val_loss: 0.4072 - val_accuracy: 0.8402\n",
      "Epoch 23/30\n",
      "460/460 [==============================] - 11s 25ms/step - loss: 0.2704 - accuracy: 0.8501 - val_loss: 0.3743 - val_accuracy: 0.8334\n",
      "Epoch 24/30\n",
      "460/460 [==============================] - 10s 23ms/step - loss: 0.2655 - accuracy: 0.8513 - val_loss: 0.4308 - val_accuracy: 0.8232\n",
      "Epoch 25/30\n",
      "460/460 [==============================] - 11s 23ms/step - loss: 0.2945 - accuracy: 0.8478 - val_loss: 0.4450 - val_accuracy: 0.8256\n",
      "Epoch 26/30\n",
      "460/460 [==============================] - 11s 23ms/step - loss: 0.2892 - accuracy: 0.8498 - val_loss: 0.5138 - val_accuracy: 0.8140\n",
      "Epoch 27/30\n",
      "460/460 [==============================] - 11s 24ms/step - loss: 0.2708 - accuracy: 0.8538 - val_loss: 0.5004 - val_accuracy: 0.8344\n",
      "Epoch 28/30\n",
      "460/460 [==============================] - 11s 23ms/step - loss: 0.2705 - accuracy: 0.8547 - val_loss: 0.6187 - val_accuracy: 0.7950\n",
      "Epoch 29/30\n",
      "460/460 [==============================] - 11s 23ms/step - loss: 0.2593 - accuracy: 0.8550 - val_loss: 0.5124 - val_accuracy: 0.8307\n",
      "Epoch 30/30\n",
      "460/460 [==============================] - 11s 24ms/step - loss: 0.2522 - accuracy: 0.8607 - val_loss: 0.4535 - val_accuracy: 0.8432\n"
     ]
    },
    {
     "data": {
      "text/plain": [
       "<keras.src.callbacks.History at 0x7fc80c72f430>"
      ]
     },
     "execution_count": 80,
     "metadata": {},
     "output_type": "execute_result"
    }
   ],
   "source": [
    "# Training the model\n",
    "model.fit(X_train, Y_train, batch_size=batch_size, validation_data=(X_test, Y_test),epochs=epochs)"
   ]
  },
  {
   "cell_type": "code",
   "execution_count": 81,
   "metadata": {},
   "outputs": [
    {
     "name": "stdout",
     "output_type": "stream",
     "text": [
      "93/93 [==============================] - 1s 8ms/step\n"
     ]
    }
   ],
   "source": [
    "#Generate Confusion Matrix\n",
    "Y_test_labels = np.argmax(Y_test, axis=1)\n",
    "Y_prediction_labels = np.argmax(model.predict(X_test), axis = 1)\n",
    "normalized_cm = confusion_matrix(Y_test_labels,Y_prediction_labels, normalize = 'true')"
   ]
  },
  {
   "cell_type": "code",
   "execution_count": 82,
   "metadata": {},
   "outputs": [
    {
     "data": {
      "image/png": "[encoded data removed]",
      "text/plain": [
       "<Figure size 720x720 with 2 Axes>"
      ]
     },
     "metadata": {
      "needs_background": "light"
     },
     "output_type": "display_data"
    }
   ],
   "source": [
    "#List out target names\n",
    "target_names = list(ACTIVITIES.values())\n",
    "\n",
    "#Use seaborn to plot heat map of confusion matrix\n",
    "fig, ax = plt.subplots(figsize=(10,10))\n",
    "sns.heatmap(normalized_cm, annot=True, fmt='.2f', xticklabels = target_names, yticklabels = target_names)\n",
    "plt.ylabel('True Label')\n",
    "plt.xlabel('Predicted Label')\n",
    "plt.show(block=False)"
   ]
  },
  {
   "cell_type": "code",
   "execution_count": 83,
   "metadata": {},
   "outputs": [
    {
     "name": "stdout",
     "output_type": "stream",
     "text": [
      "93/93 [==============================] - 1s 8ms/step - loss: 0.4535 - accuracy: 0.8432\n",
      "\n",
      "   cat_crossentropy  ||   accuracy \n",
      "  ____________________________________\n",
      "[0.45351895689964294, 0.8432304263114929]\n"
     ]
    }
   ],
   "source": [
    "score = model.evaluate(X_test, Y_test)\n",
    "\n",
    "print(\"\\n   cat_crossentropy  ||   accuracy \")\n",
    "print(\"  ____________________________________\")\n",
    "print(score)"
   ]
  }
 ],
 "metadata": {
  "kernelspec": {
   "display_name": "base",
   "language": "python",
   "name": "python3"
  },
  "language_info": {
   "codemirror_mode": {
    "name": "ipython",
    "version": 3
   },
   "file_extension": ".py",
   "mimetype": "text/x-python",
   "name": "python",
   "nbconvert_exporter": "python",
   "pygments_lexer": "ipython3",
   "version": "3.9.12"
  }
 },
 "nbformat": 4,
 "nbformat_minor": 2
}
